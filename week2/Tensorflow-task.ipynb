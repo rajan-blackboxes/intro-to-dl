{
 "cells": [
  {
   "cell_type": "markdown",
   "metadata": {
    "slideshow": {
     "slide_type": "slide"
    }
   },
   "source": [
    "# Going deeper with Tensorflow\n",
    "\n",
    "In this video, we're going to study the tools you'll use to build deep learning models. Namely, [Tensorflow](https://www.tensorflow.org/).\n",
    "\n",
    "If you're running this notebook outside the course environment, you'll need to install tensorflow:\n",
    "* `pip install tensorflow` should install cpu-only TF on Linux & Mac OS\n",
    "* If you want GPU support from offset, see [TF install page](https://www.tensorflow.org/install/)"
   ]
  },
  {
   "cell_type": "code",
   "execution_count": null,
   "metadata": {
    "collapsed": true
   },
   "outputs": [],
   "source": [
    "import sys\n",
    "sys.path.append(\"..\")\n",
    "import grading"
   ]
  },
  {
   "cell_type": "markdown",
   "metadata": {},
   "source": [
    "# Visualization"
   ]
  },
  {
   "cell_type": "code",
   "execution_count": 1,
   "metadata": {
    "collapsed": true
   },
   "outputs": [],
   "source": [
    "! killall tensorboard\n",
    "import os\n",
    "os.system(\"tensorboard --logdir=/tmp/tboard --port=7007 &\");"
   ]
  },
  {
   "cell_type": "markdown",
   "metadata": {},
   "source": [
    "If you run the notebook locally, you should be able to access TensorBoard on http://127.0.0.1:7007/"
   ]
  },
  {
   "cell_type": "code",
   "execution_count": 2,
   "metadata": {
    "collapsed": true
   },
   "outputs": [],
   "source": [
    "import tensorflow as tf\n",
    "s = tf.InteractiveSession()"
   ]
  },
  {
   "cell_type": "markdown",
   "metadata": {},
   "source": [
    "# Warming up\n",
    "For starters, let's implement a python function that computes the sum of squares of numbers from 0 to N-1."
   ]
  },
  {
   "cell_type": "code",
   "execution_count": 3,
   "metadata": {
    "collapsed": true
   },
   "outputs": [],
   "source": [
    "import numpy as np\n",
    "def sum_sin(N):\n",
    "    return np.sum(np.arange(N)**2)"
   ]
  },
  {
   "cell_type": "code",
   "execution_count": 4,
   "metadata": {},
   "outputs": [
    {
     "name": "stdout",
     "output_type": "stream",
     "text": [
      "CPU times: user 328 ms, sys: 392 ms, total: 720 ms\n",
      "Wall time: 737 ms\n"
     ]
    },
    {
     "data": {
      "text/plain": [
       "662921401752298880"
      ]
     },
     "execution_count": 4,
     "metadata": {},
     "output_type": "execute_result"
    }
   ],
   "source": [
    "%%time\n",
    "sum_sin(10**8)"
   ]
  },
  {
   "cell_type": "markdown",
   "metadata": {},
   "source": [
    "# Tensoflow teaser\n",
    "\n",
    "Doing the very same thing"
   ]
  },
  {
   "cell_type": "code",
   "execution_count": 5,
   "metadata": {
    "collapsed": true
   },
   "outputs": [],
   "source": [
    "# An integer parameter\n",
    "N = tf.placeholder('int64', name=\"input_to_your_function\")\n",
    "\n",
    "# A recipe on how to produce the same result\n",
    "result = tf.reduce_sum(tf.range(N)**2)"
   ]
  },
  {
   "cell_type": "code",
   "execution_count": 6,
   "metadata": {},
   "outputs": [
    {
     "data": {
      "text/plain": [
       "<tf.Tensor 'Sum:0' shape=() dtype=int64>"
      ]
     },
     "execution_count": 6,
     "metadata": {},
     "output_type": "execute_result"
    }
   ],
   "source": [
    "result"
   ]
  },
  {
   "cell_type": "code",
   "execution_count": 7,
   "metadata": {},
   "outputs": [
    {
     "name": "stdout",
     "output_type": "stream",
     "text": [
      "CPU times: user 464 ms, sys: 156 ms, total: 620 ms\n",
      "Wall time: 353 ms\n"
     ]
    },
    {
     "data": {
      "text/plain": [
       "662921401752298880"
      ]
     },
     "execution_count": 7,
     "metadata": {},
     "output_type": "execute_result"
    }
   ],
   "source": [
    "%%time\n",
    "result.eval({N: 10**8})"
   ]
  },
  {
   "cell_type": "code",
   "execution_count": 8,
   "metadata": {
    "collapsed": true
   },
   "outputs": [],
   "source": [
    "writer = tf.summary.FileWriter(\"/tmp/tboard\", graph=s.graph)"
   ]
  },
  {
   "cell_type": "markdown",
   "metadata": {},
   "source": [
    "# How does it work?\n",
    "1. Define placeholders where you'll send inputs\n",
    "2. Make symbolic graph: a recipe for mathematical transformation of those placeholders\n",
    "3. Compute outputs of your graph with particular values for each placeholder\n",
    "  * `output.eval({placeholder:value})`\n",
    "  * `s.run(output, {placeholder:value})`\n",
    "\n",
    "So far there are two main entities: \"placeholder\" and \"transformation\"\n",
    "* Both can be numbers, vectors, matrices, tensors, etc.\n",
    "* Both can be int32/64, floats, booleans (uint8) of various size.\n",
    "\n",
    "* You can define new transformations as an arbitrary operation on placeholders and other transformations\n",
    " * `tf.reduce_sum(tf.arange(N)**2)` are 3 sequential transformations of placeholder `N`\n",
    " * There's a tensorflow symbolic version for every numpy function\n",
    "   * `a+b, a/b, a**b, ...` behave just like in numpy\n",
    "   * `np.mean` -> `tf.reduce_mean`\n",
    "   * `np.arange` -> `tf.range`\n",
    "   * `np.cumsum` -> `tf.cumsum`\n",
    "   * If if you can't find the op you need, see the [docs](https://www.tensorflow.org/api_docs/python).\n",
    "   \n",
    "`tf.contrib` has many high-level features, may be worth a look."
   ]
  },
  {
   "cell_type": "code",
   "execution_count": 9,
   "metadata": {
    "collapsed": true
   },
   "outputs": [],
   "source": [
    "with tf.name_scope(\"Placeholders_examples\"):\n",
    "    # Default placeholder that can be arbitrary float32\n",
    "    # scalar, vertor, matrix, etc.\n",
    "    arbitrary_input = tf.placeholder('float32')\n",
    "\n",
    "    # Input vector of arbitrary length\n",
    "    input_vector = tf.placeholder('float32', shape=(None,))\n",
    "\n",
    "    # Input vector that _must_ have 10 elements and integer type\n",
    "    fixed_vector = tf.placeholder('int32', shape=(10,))\n",
    "\n",
    "    # Matrix of arbitrary n_rows and 15 columns\n",
    "    # (e.g. a minibatch your data table)\n",
    "    input_matrix = tf.placeholder('float32', shape=(None, 15))\n",
    "    \n",
    "    # You can generally use None whenever you don't need a specific shape\n",
    "    input1 = tf.placeholder('float64', shape=(None, 100, None))\n",
    "    input2 = tf.placeholder('int32', shape=(None, None, 3, 224, 224))\n",
    "\n",
    "    # elementwise multiplication\n",
    "    double_the_vector = input_vector*2\n",
    "\n",
    "    # elementwise cosine\n",
    "    elementwise_cosine = tf.cos(input_vector)\n",
    "\n",
    "    # difference between squared vector and vector itself plus one\n",
    "    vector_squares = input_vector**2 - input_vector + 1"
   ]
  },
  {
   "cell_type": "code",
   "execution_count": 10,
   "metadata": {
    "collapsed": true
   },
   "outputs": [],
   "source": [
    "my_vector =  tf.placeholder('float32', shape=(None,), name=\"VECTOR_1\")\n",
    "my_vector2 = tf.placeholder('float32', shape=(None,))\n",
    "my_transformation = my_vector * my_vector2 / (tf.sin(my_vector) + 1)"
   ]
  },
  {
   "cell_type": "code",
   "execution_count": 11,
   "metadata": {},
   "outputs": [
    {
     "name": "stdout",
     "output_type": "stream",
     "text": [
      "Tensor(\"truediv:0\", shape=(?,), dtype=float32)\n"
     ]
    }
   ],
   "source": [
    "print(my_transformation)"
   ]
  },
  {
   "cell_type": "code",
   "execution_count": 12,
   "metadata": {},
   "outputs": [
    {
     "name": "stdout",
     "output_type": "stream",
     "text": [
      "[ 0.  1.  2.  3.  4.]\n"
     ]
    },
    {
     "data": {
      "text/plain": [
       "array([ 0.        ,  1.62913239,  2.09501147,  2.62899613,  0.        ], dtype=float32)"
      ]
     },
     "execution_count": 12,
     "metadata": {},
     "output_type": "execute_result"
    }
   ],
   "source": [
    "dummy = np.arange(5).astype('float32')\n",
    "print(dummy)\n",
    "my_transformation.eval({my_vector:dummy, my_vector2:dummy[::-1]})"
   ]
  },
  {
   "cell_type": "code",
   "execution_count": 13,
   "metadata": {
    "collapsed": true
   },
   "outputs": [],
   "source": [
    "writer.add_graph(my_transformation.graph)\n",
    "writer.flush()"
   ]
  },
  {
   "cell_type": "markdown",
   "metadata": {},
   "source": [
    "TensorBoard allows writing scalars, images, audio, histogram. You can read more on tensorboard usage [here](https://www.tensorflow.org/get_started/graph_viz)."
   ]
  },
  {
   "cell_type": "markdown",
   "metadata": {},
   "source": [
    "# Summary\n",
    "* Tensorflow is based on computation graphs\n",
    "* The graphs consist of placehlders and transformations"
   ]
  },
  {
   "cell_type": "markdown",
   "metadata": {},
   "source": [
    "# Mean squared error\n",
    "\n",
    "Your assignment is to implement mean squared error in tensorflow."
   ]
  },
  {
   "cell_type": "code",
   "execution_count": 14,
   "metadata": {
    "collapsed": true
   },
   "outputs": [],
   "source": [
    "with tf.name_scope(\"MSE\"):\n",
    "    y_true = tf.placeholder(\"float32\", shape=(None,), name=\"y_true\")\n",
    "    y_predicted = tf.placeholder(\"float32\", shape=(None,), name=\"y_predicted\")\n",
    "    # Your code goes here\n",
    "    # You want to use tf.reduce_mean\n",
    "    # mse = tf.<...>\n",
    "def compute_mse(vector1, vector2):\n",
    "    return mse.eval({y_true: vector1, y_predicted: vector2})"
   ]
  },
  {
   "cell_type": "code",
   "execution_count": 15,
   "metadata": {
    "collapsed": true
   },
   "outputs": [],
   "source": [
    "writer.add_graph(mse.graph)\n",
    "writer.flush()"
   ]
  },
  {
   "cell_type": "markdown",
   "metadata": {},
   "source": [
    "Tests and result submission. Please use the credentials obtained from the Coursera assignment page."
   ]
  },
  {
   "cell_type": "code",
   "execution_count": 16,
   "metadata": {
    "collapsed": true
   },
   "outputs": [],
   "source": [
    "import submit"
   ]
  },
  {
   "cell_type": "code",
   "execution_count": 17,
   "metadata": {},
   "outputs": [
    {
     "name": "stdout",
     "output_type": "stream",
     "text": [
      "Submitted to Coursera platform. See results on assignment page!\n"
     ]
    }
   ],
   "source": [
    "submit.submit_mse(compute_mse, <your email>, <your token>)"
   ]
  },
  {
   "cell_type": "markdown",
   "metadata": {},
   "source": [
    "# Variables\n",
    "\n",
    "The inputs and transformations have no value outside function call. This isn't too comfortable if you want your model to have parameters (e.g. network weights) that are always present, but can change their value over time.\n",
    "\n",
    "Tensorflow solves this with `tf.Variable` objects.\n",
    "* You can assign variable a value at any time in your graph\n",
    "* Unlike placeholders, there's no need to explicitly pass values to variables when `s.run(...)`-ing\n",
    "* You can use variables the same way you use transformations \n",
    " "
   ]
  },
  {
   "cell_type": "code",
   "execution_count": 18,
   "metadata": {
    "collapsed": true
   },
   "outputs": [],
   "source": [
    "# Creating a shared variable\n",
    "shared_vector_1 = tf.Variable(initial_value=np.ones(5),\n",
    "                              name=\"example_variable\")"
   ]
  },
  {
   "cell_type": "code",
   "execution_count": 19,
   "metadata": {},
   "outputs": [
    {
     "name": "stdout",
     "output_type": "stream",
     "text": [
      "Initial value [ 1.  1.  1.  1.  1.]\n"
     ]
    }
   ],
   "source": [
    "# Initialize variable(s) with initial values\n",
    "s.run(tf.global_variables_initializer())\n",
    "\n",
    "# Evaluating shared variable (outside symbolicd graph)\n",
    "print(\"Initial value\", s.run(shared_vector_1))\n",
    "\n",
    "# Within symbolic graph you use them just\n",
    "# as any other inout or transformation, not \"get value\" needed"
   ]
  },
  {
   "cell_type": "code",
   "execution_count": 20,
   "metadata": {},
   "outputs": [
    {
     "name": "stdout",
     "output_type": "stream",
     "text": [
      "New value [ 0.  1.  2.  3.  4.]\n"
     ]
    }
   ],
   "source": [
    "# Setting a new value\n",
    "s.run(shared_vector_1.assign(np.arange(5)))\n",
    "\n",
    "# Getting that new value\n",
    "print(\"New value\", s.run(shared_vector_1))"
   ]
  },
  {
   "cell_type": "markdown",
   "metadata": {},
   "source": [
    "# tf.gradients - why graphs matter\n",
    "* Tensorflow can compute derivatives and gradients automatically using the computation graph\n",
    "* True to its name it can manage matrix derivatives\n",
    "* Gradients are computed as a product of elementary derivatives via the chain rule:\n",
    "\n",
    "$$ {\\partial f(g(x)) \\over \\partial x} = {\\partial f(g(x)) \\over \\partial g(x)}\\cdot {\\partial g(x) \\over \\partial x} $$\n",
    "\n",
    "It can get you the derivative of any graph as long as it knows how to differentiate elementary operations"
   ]
  },
  {
   "cell_type": "code",
   "execution_count": 21,
   "metadata": {
    "collapsed": true
   },
   "outputs": [],
   "source": [
    "my_scalar = tf.placeholder('float32')\n",
    "\n",
    "scalar_squared = my_scalar**2\n",
    "\n",
    "# A derivative of scalar_squared by my_scalar\n",
    "derivative = tf.gradients(scalar_squared, [my_scalar, ])"
   ]
  },
  {
   "cell_type": "code",
   "execution_count": 22,
   "metadata": {},
   "outputs": [
    {
     "data": {
      "text/plain": [
       "[<tf.Tensor 'gradients/pow_1_grad/Reshape:0' shape=<unknown> dtype=float32>]"
      ]
     },
     "execution_count": 22,
     "metadata": {},
     "output_type": "execute_result"
    }
   ],
   "source": [
    "derivative"
   ]
  },
  {
   "cell_type": "code",
   "execution_count": 23,
   "metadata": {},
   "outputs": [
    {
     "data": {
      "image/png": "[encoded data removed]",
      "text/plain": [
       "<matplotlib.figure.Figure at 0x7f305726f780>"
      ]
     },
     "metadata": {},
     "output_type": "display_data"
    }
   ],
   "source": [
    "import matplotlib.pyplot as plt\n",
    "%matplotlib inline\n",
    "\n",
    "x = np.linspace(-3, 3)\n",
    "x_squared, x_squared_der = s.run([scalar_squared, derivative[0]],\n",
    "                                 {my_scalar:x})\n",
    "\n",
    "plt.plot(x, x_squared,label=\"$x^2$\")\n",
    "plt.plot(x, x_squared_der, label=r\"$\\frac{dx^2}{dx}$\")\n",
    "plt.legend();"
   ]
  },
  {
   "cell_type": "markdown",
   "metadata": {},
   "source": [
    "# Why that rocks"
   ]
  },
  {
   "cell_type": "code",
   "execution_count": 24,
   "metadata": {
    "collapsed": true
   },
   "outputs": [],
   "source": [
    "my_vector = tf.placeholder('float32', [None])\n",
    "# Compute the gradient of the next weird function over my_scalar and my_vector\n",
    "# Warning! Trying to understand the meaning of that function may result in permanent brain damage\n",
    "weird_psychotic_function = tf.reduce_mean(\n",
    "    (my_vector+my_scalar)**(1+tf.nn.moments(my_vector,[0])[1]) + \n",
    "    1./ tf.atan(my_scalar))/(my_scalar**2 + 1) + 0.01*tf.sin(\n",
    "    2*my_scalar**1.5)*(tf.reduce_sum(my_vector)* my_scalar**2\n",
    "                      )*tf.exp((my_scalar-4)**2)/(\n",
    "    1+tf.exp((my_scalar-4)**2))*(1.-(tf.exp(-(my_scalar-4)**2)\n",
    "                                    )/(1+tf.exp(-(my_scalar-4)**2)))**2\n",
    "\n",
    "der_by_scalar = tf.gradients(weird_psychotic_function, my_scalar)\n",
    "der_by_vector = tf.gradients(weird_psychotic_function, my_vector)"
   ]
  },
  {
   "cell_type": "code",
   "execution_count": 25,
   "metadata": {},
   "outputs": [
    {
     "data": {
      "image/png": "[encoded data removed]",
      "text/plain": [
       "<matplotlib.figure.Figure at 0x7f30b4ca0358>"
      ]
     },
     "metadata": {},
     "output_type": "display_data"
    }
   ],
   "source": [
    "# Plotting the derivative\n",
    "scalar_space = np.linspace(1, 7, 100)\n",
    "\n",
    "y = [s.run(weird_psychotic_function, {my_scalar:x, my_vector:[1, 2, 3]})\n",
    "     for x in scalar_space]\n",
    "\n",
    "plt.plot(scalar_space, y, label='function')\n",
    "\n",
    "y_der_by_scalar = [s.run(der_by_scalar,\n",
    "                         {my_scalar:x, my_vector:[1, 2, 3]})\n",
    "                   for x in scalar_space]\n",
    "\n",
    "plt.plot(scalar_space, y_der_by_scalar, label='derivative')\n",
    "plt.grid()\n",
    "plt.legend();"
   ]
  },
  {
   "cell_type": "markdown",
   "metadata": {},
   "source": [
    "# Almost done - optimizers\n",
    "\n",
    "While you can perform gradient descent by hand with automatic grads from above, tensorflow also has some optimization methods implemented for you. Recall momentum & rmsprop?"
   ]
  },
  {
   "cell_type": "code",
   "execution_count": 26,
   "metadata": {
    "collapsed": true
   },
   "outputs": [],
   "source": [
    "y_guess = tf.Variable(np.zeros(2, dtype='float32'))\n",
    "y_true = tf.range(1, 3, dtype='float32')\n",
    "loss = tf.reduce_mean((y_guess - y_true + tf.random_normal([2]))**2) \n",
    "#loss = tf.reduce_mean((y_guess - y_true)**2) \n",
    "optimizer = tf.train.MomentumOptimizer(0.01, 0.5).minimize(\n",
    "    loss, var_list=y_guess)"
   ]
  },
  {
   "cell_type": "code",
   "execution_count": 27,
   "metadata": {},
   "outputs": [
    {
     "data": {
      "image/png": "[encoded data removed]",
      "text/plain": [
       "<matplotlib.figure.Figure at 0x7f3050fb22b0>"
      ]
     },
     "metadata": {},
     "output_type": "display_data"
    }
   ],
   "source": [
    "from matplotlib import animation, rc\n",
    "from IPython.display import HTML\n",
    "\n",
    "fig, ax = plt.subplots()\n",
    "y_true_value = s.run(y_true)\n",
    "level_x = np.arange(0, 2, 0.02)\n",
    "level_y = np.arange(0, 3, 0.02)\n",
    "X, Y = np.meshgrid(level_x, level_y)\n",
    "Z = (X - y_true_value[0])**2 + (Y - y_true_value[1])**2\n",
    "ax.set_xlim(-0.02, 2)\n",
    "ax.set_ylim(-0.02, 3)\n",
    "s.run(tf.global_variables_initializer())\n",
    "ax.scatter(*s.run(y_true), c='red')\n",
    "contour = ax.contour(X, Y, Z, 10)\n",
    "ax.clabel(contour, inline=1, fontsize=10)\n",
    "line, = ax.plot([], [], lw=2)\n",
    "\n",
    "def init():\n",
    "    line.set_data([], [])\n",
    "    return (line,)\n",
    "\n",
    "guesses = [s.run(y_guess)]\n",
    "\n",
    "def animate(i):\n",
    "    s.run(optimizer)\n",
    "    guesses.append(s.run(y_guess))\n",
    "    line.set_data(*zip(*guesses))\n",
    "    return (line,)\n",
    "\n",
    "anim = animation.FuncAnimation(fig, animate, init_func=init,\n",
    "                               frames=400, interval=20, blit=True)"
   ]
  },
  {
   "cell_type": "code",
   "execution_count": 28,
   "metadata": {},
   "outputs": [
    {
     "data": {
      "text/html": [
       "<video width=\"432\" height=\"288\" controls autoplay loop>\n",
       "  <source type=\"video/mp4\" src=\"data:video/mp4;base64,AAAAHGZ0eXBNNFYgAAACAGlzb21pc28yYXZjMQAAAAhmcmVlAAC6SG1kYXQAAAKsBgX//6jcRem9\n",
       "5tlIt5Ys2CDZI+7veDI2NCAtIGNvcmUgMTM4IHIyMCA0MGU3MmRhIC0gSC4yNjQvTVBFRy00IEFW\n",
       "QyBjb2RlYyAtIENvcHlsZWZ0IDIwMDMtMjAxMyAtIGh0dHA6Ly93d3cudmlkZW9sYW4ub3JnL3gy\n",
       "NjQuaHRtbCAtIG9wdGlvbnM6IGNhYmFjPTEgcmVmPTMgZGVibG9jaz0xOjA6MCBhbmFseXNlPTB4\n",
       "MzoweDExMyBtZT1oZXggc3VibWU9NyBwc3k9MSBwc3lfcmQ9MS4wMDowLjAwIG1peGVkX3JlZj0x\n",
       "IG1lX3JhbmdlPTE2IGNocm9tYV9tZT0xIHRyZWxsaXM9MSA4eDhkY3Q9MSBjcW09MCBkZWFkem9u\n",
       "ZT0yMSwxMSBmYXN0X3Bza2lwPTEgY2hyb21hX3FwX29mZnNldD0tMiB0aHJlYWRzPTYgbG9va2Fo\n",
       "ZWFkX3RocmVhZHM9MSBzbGljZWRfdGhyZWFkcz0wIG5yPTAgZGVjaW1hdGU9MSBpbnRlcmxhY2Vk\n",
       "PTAgYmx1cmF5X2NvbXBhdD0wIGNvbnN0cmFpbmVkX2ludHJhPTAgYmZyYW1lcz0zIGJfcHlyYW1p\n",
       "ZD0yIGJfYWRhcHQ9MSBiX2JpYXM9MCBkaXJlY3Q9MSB3ZWlnaHRiPTEgb3Blbl9nb3A9MCB3ZWln\n",
       "aHRwPTIga2V5aW50PTI1MCBrZXlpbnRfbWluPTI1IHNjZW5lY3V0PTQwIGludHJhX3JlZnJlc2g9\n",
       "MCByY19sb29rYWhlYWQ9NDAgcmM9Y3JmIG1idHJlZT0xIGNyZj0yMy4wIHFjb21wPTAuNjAgcXBt\n",
       "aW49MCBxcG1heD02OSBxcHN0ZXA9NCBpcF9yYXRpbz0xLjQwIGFxPTE6MS4wMACAAAAyOWWIhAAr\n",
       "//72c3wKa0czlS4Fdvdmo+XQkuX7EGD60AAAAwABqtY84qXt1UCkRDM5/rndhs2zieNwT3DGI4vd\n",
       "2G/6tXluPtQcygy/FINw5Xxl9/8eSPeh543tAAADAEkLBPI4KIvhcQKm+9AcASjpnwgpKHnjlPZ6\n",
       "lidVDarMy7YhF3esRRySsoGWurChnI+rlhL83KCtvecxKHFREa/tQ86Zvd46x7ZaQzsm3gZGo5er\n",
       "IWj+KJKydF6I1S8WHWsteaaoUZWknBlKqQyks5GlExvhaGA+2IK1kCHcoPDm++kkDqz3qRdVEVb3\n",
       "9B7VOp6SJius1LrSJzFhH4gYu8LDkVZfJfkS44WzLJeFRxTnT8vUmPXiTt2YP17UTdatj89X8CxY\n",
       "cT0jl9cs02zrIVsiTVDuppfKpAO/EL22buR1clA+vrQsS9nJsPAKUS/QWdeH5wpIHZdnTNtA9e5K\n",
       "sZ9FuWBuDUv9WF7LkWpH2k51BqqwRLoBArev4bQabtmg7Uj/EoH9isswQUARvarpPGH4+pynofis\n",
       "u585P6RNSKmUiPvdnnMyGMbR2W9uezFXZydPpd3gcBDhX7vjHlDX0+3FfscmBP7o3mM7A5RQpjfw\n",
       "060644AX3uPbCpma7EnzYm8lttnAFcUPEtnnCuhxpQ9B/rBbXUfXlDrJAfTHormIB421rr3guWug\n",
       "Tm1fNgH0gJM4qQ+PMwl477CWckTdbv8m37pj4OqjUNXCSva+xEN5tIrBVBJSoa4RJ65z05daOPb8\n",
       "Ha19s2xYf35vGz26vPPp2uUBanL35O1WIJhOskR2ZvSD8I/0NljNSLW1XewdY5jGAiWvex52wWbT\n",
       "40fLlGxE65Z985NB1veAeRDfieXaGthK1ZFYOvh+4U4Zr65D9w3tBpY88MCp6qegfr/5368xM3/u\n",
       "GAU3+giQpzFRykGjjz2PGdNJwMRH0+V3qz/GwdrazNOTxidkwC8pUqjulX2/WkbAJrvRA2AVK4bz\n",
       "2HHUEM+1lF/3nfdx+ifuJQlHPnX2dKHZHbU7XXYgQ+Y5jM+T3CmBF9/2xxJGWrBcsZb1Na80pUTM\n",
       "TJEk1/Uy5ePk0Q0zsAN4a/lJsDvFgYSL12UyeKyKLErDrXI4mr9AmaX1YJfRb2kGXU+Oi7J78fo/\n",
       "mRRF5GDHzjY/34iE8WK49zmAo5Tag837KAWgSvTOYroRSdTGvIkVKcK5thBYRmt8xxpE83Z5Aax2\n",
       "Wey67k7jipeb+4h//dTBPVD/YtcUjF9al8UAyPvjMXaaS3id6Iq71j+CVuprDJKQ3cZ/EbJvsTmE\n",
       "h9rnRdTbQa33owgjRcZ8UZTpH3o8yFPnBvYWyxHdx8BJPH39b+nMCN04+NP2LYm3QCFEFHqhYmSC\n",
       "26ptDTvkhsfDkk8PIlkOIBliYCxUV/KMjbglqHTYE/zMEajwbfg07EnjhCAufAkcCJ8Oc4dca2xK\n",
       "6us/umept+2Z0W1oCpCFX8sdGXVZnVqwjiKVy55jvNWiATgLz2tYXqY3nFPWZ4+AIWayEajGvAPD\n",
       "9JzKAgWc7eKJ/BHvJGjPeBHOiy0UDm1c+aP5X+VcuBcbGvZdHwAnFG5gHDpdqFWqwCqbaYDNut3G\n",
       "1bE5mDIIt6ANituJqcehxLKgkxlz0egTI9DOeF9mnB6CbraJPLWX443qUOyI7ji6bP7DAMuWIGXa\n",
       "Q18XweYLKZDbtvzoHoInBT+cxNVBpUWggLk1pss5RIsY1bd9xY6It4dj3gQ3vCARlYUSqmPBOHpS\n",
       "VbSiSxT6Gz0Od7FYPICfKhzWnAozrQKYu2z1QkS/zCId4NBr/akPK26vIOX6uVVshcmWxpXTKSok\n",
       "fIvtjsEXagZLoq0xvImGifaKIFplVbOe0o+X46kzxclOaVWHilfERrIO49g3TwWRwhl28fw/UyFR\n",
       "eRf5iOKciGvRZYqbk1ixSyuFIxP3ia2qutYtsddtpYkI2s7J4LUhNrLEBNyH1uhd7Vd3Bqn3Fhnk\n",
       "3tUoKnopPepiz6fgPJtgPjpPe9C1erej7WsHBeHEM2X4QcD/2Ix0nDPf7xAQIWWDrLuyA16yXNGa\n",
       "0SV3sg1888HT2Oso+MgkEnxnglIg+pcmHoUGymKydQcBYClIX44kpr3VTkqEcWJ598L0QKi3AXU4\n",
       "e3BOU/bwjjTx8xR5sCiZQ3jDIH762Taqx2hkMiWFBHGBJzl6uM0QG2I2Q6jgP+Zl/5QgKu4ssowg\n",
       "mPIpdpODYaGBZla7X46tRUmL4LP9aOmUMivpUQ6KqN6ZBeaBXybHH9OlsstANlaTojmS/VVaaYjf\n",
       "BGdQFt6YOOOD7f7ou7puKqDlyCtb1egDZjulSiha2g461h4kDbh4crVrqu+IyprqlsdjZKCfXIA8\n",
       "nQxVK7iWlPEWCauCEugIIUvYSvaXKJv9eEtXl8DLK/xaXsOF6Yq0C6L9H6XQkUUodmGaG+TX4NVX\n",
       "wXzWHMyOMWXOaHrhrCbbpmwRl/tyWZHXk6TMvCXcsh1Yva04hi9XqBukumaHK/IJJCFOoZFeZphe\n",
       "/XURFefa7pVBbEJDrqdD1KwgEpeEMsKnQeAB144Z2l9ukp8Kp1trO284vW5LF2NFYlTrJzvY4CZg\n",
       "Nyq6kKPCsnyHxy5udJPCzS44FML4HmkQhpYby9pvI8md71Oh12QeCMgm27rh87jgSxVawczkEsS1\n",
       "RIsoLVkoGyWwL3pxSW3YPwnRamnLNTrmeAULsCcvmc6IZkIO6RZD/oK6lhnMLKdKYqnAIDziVoen\n",
       "4enc1amwAKCKBJYBvdh6Is0t8lx9mvCUuytgwjnvIC1W9RrW4T8UcpFXcqO6ydyFi3r+vJ37Oob1\n",
       "kQr/s62jmvt9a6sKjAegayqVU+s1py4n9+cw18CGmoa7vBV4QsROu0gh32+JWN3HlHoIMaGG9c5X\n",
       "jLMsFuR/qsA/n01unflBVV5v2hiL7UpCcQ4oF+IoJm89esO8GdBdSItxeP50smJg3AqfJaoVUjXn\n",
       "4/0YkbOCU3voVXHsPAo/M0HUhksUU7gIsIODXibJ69FuJG+vhUIms2HNxyAJcSePaBqZKZYgcbki\n",
       "jn5wQglM8qqCx8FoRrFh0FXBaWTQJUolXRqGxdf9hDtekO3b4YEdhiBd3zsf0O5NTE3McxqlRrIb\n",
       "WBmjsPg7L9bLUa2ATAaCgdJ2oxGs92Xw2vlmeUuwvtrwAoyY3Xu4MTtYZ8TzS6J3EoYC/1/0E1iF\n",
       "ZoH7kXgSVq5WzXzGi7kOBuOED95fXEly82eSzCILNYRSMKcAWBEIU3MTjkYyZpww5PWcdHLZNxwa\n",
       "F/OQgfCL/Koue5SFrvnuN6oQH0HSkPMyPyHJVj+tCQTL797aRdEs2LtqVOKUCZJ4u03ujv0vhMNO\n",
       "iU6r83GtLLhgHZAgIwKeLO1Ymk52dTabW+b4WKybuQFzLkNUzQDOHpv2lrbBqveUUwGbOmEOvHOF\n",
       "VoiTLIfW9LDtNNRWRTrIIljWenZx5P4gmhILN5rZow4Yt3zFfqRRRvqR7dv1YYBrm+z+FnbMk3QP\n",
       "MAuAvOwfUHw1Lo2u9DES3yCUoC5eRO/ewYb0IHVo59l7D7pRIpTMf2qV+G6Hs6l4gJ6D4DVm8PGe\n",
       "txa36b0gF01+eI5RH6nbqqv/FxYT5tUeEwFH3wM1vH6M/QyGIfO5cRqP4IfS01IcTQbGEHcu2b/d\n",
       "hIAB8sdW5uMnvTFLqLk1ncU+SI4wLgu8v+cp6DnBeKM+wh7fb0xC5J15bwic74NsH9VhjS9XVYbj\n",
       "gnS3mEh8tCc6nhjnc/imJslldOUo4ZrDP+5PVjH8VX8zCK8K8Gym9oTcDr41tCRZd0HWumUcKUP1\n",
       "lHuQIfJ5ZjwLb7C18+INvooL4AUKE0Suak36+5rkfxub6kr1JUhkZ1vDq3GEGN5w40Mj5qfCcsRL\n",
       "3qeMgSJ5pZd7GgLI+hd+SFyy/xs5z8Ki10cy/10NaEU6mQt/89Lv1f/UTjG3c1fjjic0WBjxEivA\n",
       "Cb+V7/OSJQ3k2teRRVjjc3HuDLreOsVGuIafnth0bHIN0VMk4/C8zByquv4op8ZGtKRgCwSY6Wkk\n",
       "ddUsDD3VDXNnkThbB1wIiLueApKAXmDBdgDZShYds52JairP2hI3WXPaDORpFpVl2uyg3C9g+Ssk\n",
       "aw3+CLWctgIz+hNf9q1u1NnsxXYLmSYid+GkNJ3g+HGdmLX1iyes7sF4SG/un+bUo2zQuqBSyXvs\n",
       "XeU/q7ma2YZiICfIoyvho6JoFvEpsMy4QFNGiFTDC2vJTdBOwCuhvfRuY+9E01HbHG4taY79nA5n\n",
       "fOh8KtUSXLOmm3xtggwQqoY3DlNZY0xBHvO2r3F9JMXixXL/7Iu3NqPNmkWWf7eMx02hGtw0l2Xi\n",
       "N7E+RJQkO7zWwCfa+FOTnt+ZUQ47vBi25zxvn0ZqrKTo13JQMyqUM3AQfjxOS1arksEcrFU/ek7X\n",
       "CUFgebqzpN6mEBOv02NCzKelizFDp8TczzEhWT78HwfQbeUjBj08swjhgoRDtI6wN2Usqf2rD3/3\n",
       "uj+ttIu0oUX8xlByO3FH+99WALpYTq3+v5a7gfiOnzl1g8kK7wOlXi54T4uwy1b+OK9v3nZCS+MR\n",
       "mNXZZFXjXuy1ydJNbuLvq+oetsjNXQ1JNOlK2uTvJvE2oWzZEtqzy4Qo2Jk0yi+fTp9PScbmK/gw\n",
       "FuoXCiHUXFZq/PcRfukXLEo2s3+RVD8/mbwJLSOuZCwIMaHj46qN3k+mRubgxXqDO77LqOhu9x4f\n",
       "3GFcaR05t5n3QgqKq5WPJtajW77p4r7gQ+o6nUFy1fupv4yxcKdXUgQZvNZP5sGO3/tFZr/cVlQ+\n",
       "2ILg5kJt4bTxl12Pun/0apvAsPxXpvJRecKIeztf73/oCaSj2N1SyfNAAzwhTd+1ZnK2ynImoQlv\n",
       "6MR6EWPqieWFsvYzCdFWEDhXt/ewhl162Zfe3YUItbUAvT8xkgpyieUY4tZjHpwdmmuKxASym0cB\n",
       "TErgEbkvgnd1f/8pU9hPlt4Zsysx1onPJlNle+y9LlNK48zKAzC3x5JfBp5p41SNleZKHM5gaKMg\n",
       "00mnVLeogLOnqaooYxqmoGlI8qCvLo1xWngAgGjsd5U4bfkRAdaXlXwCe3C9L8lKoKrAgA85TDNI\n",
       "KWvq97XN4f1/VcfO9XJNUvJjVgsnavwx4zKFUPQlQ3rE/70TjEE3jbWinNtr/O6fRzI+4m6sIbAn\n",
       "JwNko5LUBuVIg06bWDMwHXhWmdwjWE4KDAAV+5vNpZkNW5RWSmBMQNDtrPbIR4enT6+LJNIMPU8U\n",
       "oUMajHtOehNl2ud1FBfxV7eRSC5Soeeuq9Q0MNt/XAe70RCdwpJaG3NUBple90DDzM3WstWkLqnv\n",
       "pVPu6g0LjFDo60064iUpT90x8meCdwjUbm1vzVjYw4g9bWhXRepbr8yywxdNlxXgDmHdt3BHO9rU\n",
       "jlgqGYd7fpqJM/zlocG8JDTuVoJdCFwTaF10yb+fa/WCVgVBpmpOGq4cgolnkC5kouEtSYDT0pGD\n",
       "A/5vzi61I4s0aHrK0q5drxFMqTUTk1qgWHerVt73QigB5YV4JhfzAy2ABxVeRsXB7xppTldVlOVp\n",
       "tUY5Eoaq15qkN+bi+fJu/iNGeixflHmN8N8l/RQnn92kH/7fumtzYy9EN7HTZxJrdm7Z8pMsv2GK\n",
       "+F3RaXWZt8lhxEpNp4MGJqpByAmRs9e3+oGbxyD1K6RwliY5hOcexZxjbTae/ygLXJLDBdPaU+b2\n",
       "oC3qvUL8/4Zvp4eLtILJ2rbD5dJK5Wacy9cGZVvsvMW6LpnHec6CyEDEAMioW5434aKoTFnh+mtG\n",
       "G1zxi45dMJcDzKMoJHJ98xuH1sa+/AD5AimqZ/Ynp1dyOkLnLfXD9+Sr32OEUjlrt4C9orp2B7wQ\n",
       "fNytm6rQ5uoQp6NTQWnPBXElnL6PXjItK8L5dIgch7YiTJmBdluvJx9oa9p0t/cU1YUE6wXeB1tl\n",
       "4/v3nRMpbY7Qe8msFxBvDUwp4414/Y1W4wOtpAluNepjH6DtjPKm7aU6xMvpVJvzr7KSsixiXtka\n",
       "j0u+Spd4GjCSPEnZ8Ct7Q/CUuQIHp+CtmuMigYnHbruRlPCM2tGpOncxF1Lg8YpihwbX1WxbWvg3\n",
       "rh3cNWoe6f3cGlYk6XtfnBKDrqudexxNunsmRrFV8bQKO9GYQgW/7ESXUHQUWhHyClCNcEe+G+o0\n",
       "uqPI4YykmWpm3/K9l9rsxXW4Rmz+h/SqUHMK9heeq+um8ESeS94ncefBqLVTR0ulgOgvTfkzJR9C\n",
       "Mlb60TCVXBSeLU+7sn9ZT/tv6/95pQFKcenNIuzV0qTkN4zcm4ssw0oP1VA/M9usISnQcJFD5V9S\n",
       "PseQz2KIX758t4e50qxwLwFkXG+Ui5aYbwRpbvit4KN5lJTd66OlI4K8XT3HGTFvO6oKPKD+a/nC\n",
       "mXSldiMfWZXQj+mOA/DixYwxLfi6S/fd6Vmu2+ToiUYB1KSjMOWE6WkPIhGccMgK3kdTyMHB4FGN\n",
       "SIini/IhgRYmZk5IKGvx/qRB+nChDOBULD7o+GO59y/boRib+891tBpG2gmTgP1NJtVoF3oXJs/3\n",
       "P75XOvMIxeTuuvAE4GgICU/H919vQXkK4DsJPXfcmiAC1ltSZffqLlZmfbmg523tM6f8jQDOYZBz\n",
       "3O9l72iqoNtUKueNlkDmZGCi3k0OQp63la63e93fzqnBXqYivFyz2tw11ip/no9rDxyG72OfL/Xj\n",
       "wyG1XkW4TDSo4AdzpAWGyouvM6Gqs/4669otNedGm71b/lcX1hIN/XWCwd4K1iEnLstEznwi1pSH\n",
       "wG1e9b8rHySVR7v3Cl0SvaTfMuTsX9zffXcKvBlrzbkGP71/rn/uQbMkTr05KqfEcJQQsW6JANlO\n",
       "onVTXLv309UObZ2c5eeOLAhVzzIzXAS/W29Gy94RHQPPEX/qkhJsQWORg6gzibQ4KMFM32a663eF\n",
       "CWcBDVVOhqYzE31Jj6eILR2f7A9iDXbvMVq6v+xgyKY3UtxgHWyiaanlU4ZGvEJNOTZ0taAW1E3J\n",
       "vTl5QQ8Bvpx8wkvQsCO50XiN87wwlLE0H16lYJdMOx57FmuIlexOXIgH9MLxCLgaAp6zhYo49oX5\n",
       "tOhHwgGq8Mp/UWEHm7RfsX+yk2OWKQ5SupkrSRwxRnnU7nkmtx5162+FfKDMWuj1ASavd4+Op7va\n",
       "wnrercf7e/PPgILkZpY6/Yt6IO9/nrG20fvI+UXSvWP7G3BY8gotzOpba4MEiAkMNzdrw0OLVOcR\n",
       "TLzxbBRyr9ZNBAdWLgXRJ9Lxkse3Q+Y02rCyl0Cy1PRcEqZof3ggdTuvI4uPDgTL9CiJhgTzM1eX\n",
       "OMlhxHeF1frU+sISsEGwPBObd5bFoM4hod8BhZTlUrf+4gR8KVZJ2GNRl4WrWNbMn2gxRgn6/vFW\n",
       "Y9Ifg1kmYzkX4imukxfmHdM6P9O/qKrRiVwnsBeErfniRmi8xWrBjxH+R4E/T9DTVSBH17eN30J5\n",
       "vhVIpQdTZljZL8GmQ8h+FmSsu29jxQ6+oQLjxOAos9YxoAPuNSaTIGmLS4MmPT2yQp0f9N6aY90a\n",
       "3kg977D3RDxpkKGI1Jg/nb/YYL3p1QrLn2WSextB7RkQeoMxmMlHXHlhdggW5U2Cr3ENSo+bm7Eq\n",
       "5jdEkFjS9akhdER0BOZi9TGTf/ZUTFXE4ohEANpqyjpZjYat/Cbvb8keM7ZerA6GkRGlcyFaRqkr\n",
       "c5g9JczcsT9MNaiiQnGvBypR8SXYUin6qaUf5isKEPq72fDNC92MYfR0uevON2ZVTnHj/ccgHJug\n",
       "eou96s2E46SQAubS8ig2nXF/ggtaxgcpIwChoKF5jOpVxQZr4Vub7L39Em1PLlRGhkRzSWPgn2jh\n",
       "0cEJ6ZsxHQXsOTngggfyuGZ4mZR2h0LKWNezj8S6n1u4o58Kv8xv6mbA6B9lmuTnDPMC8W1mCYOg\n",
       "dQx+Qvt0TBkVl8+GTAG9au+QXmzrmGo/VHq3DvkgIjO7HvV+Lmr0CrybwF5kofkjXrpktFheivy5\n",
       "HV1lEwrykvemJwJSgQcHoNC93mddNBtpHJhMh9h5k1RMGq/3SC2P0ys47jOhMGGH/H9nJZ3iPOIB\n",
       "uW05nNRI6DY9Bw0DDwxDZv20VoF2gkwLxB6pdzzCqnHpMyc6Ok+HBSbsMAm65z9SKv1bH8BSrs51\n",
       "wKlq5s+sbhkppFXRS9TxvKZe9oxatFGd9/B3vEnMOcNdiRJTIA5xnETCTqKeW97OLjcnHeazpTy2\n",
       "jUvOI9mRsTohGnMugaljUIzUi9t/j+/Q7bkNGaJSmFFc7G/rlkkXx/SVNYZivaUMuYWZA1AMjEYK\n",
       "PheQERflazUjYfgyFmYpqcuTcAwI971A0Jj4sacLOF+zAa2frb32Zg/8eGh67UGQ68UTEhfjpONc\n",
       "q/aMXKCbYbFgvnAv0dI/hHvIOhE2OcTEIrVHje27rjsWXTpCNUQMEi251U3iyAJDdGtJ7oR9PR/P\n",
       "G80PMzDYQY72eoLwySiyPJqPcG16RgLWS3CxZcopB0xv8pNlXO2pXThBF0CF/Vfy7Skgeaa8INub\n",
       "WTU/1AzM5KUUU92zYTVIA4B0OytpA9vASsmYsaMsF0vEWIN8BKAuKw+qM3upllQR42MX93O6UjyA\n",
       "irsptxXyNiL5F9PTEtCaePNW+hHRcHPagKvhnjeWpsI8e09CXVBAtkx7bl0y03CbVoLMegPgl9a7\n",
       "CEXtMBZc+xqQ2X5uZa8Dtr9fsTi/DmZlb91LyuH2C0MyebUNoQvgAE9DT31ta0Gfa68O/ppPtd6L\n",
       "yihXKcenu+WIvgtDC0m+StkyvAKCSgop8xfYqB4szMpdkPjVpNM2qE17FGsssXMXbvTTe5AXjmvC\n",
       "bEZ1F3PpGYdDByacRB+/3flZIqWps3/YJ2oRufGtn2pshqGanDkLRBs0SK4k7NAmrLJVq3/xa+91\n",
       "Nl+4KKzyC34ChDo4iF+YIi9NhJwyfgG3m2R9Pnaqh1rbcdxBL9Nw92UFjXtSKZ8OB0V2v7VxLsc7\n",
       "q8WZkHaweK7NMxm4yWkt1N6Wx6uOdYDZCtblsaixduqUy4hUJ9Cxu1019vOvQuFrS/1Lov2+1M0F\n",
       "7rzo1QMt2hNbCMXvJf9ye1/HXUCBoWUTF+nqA48YlAEP5XvrfuQUrKvyN1la4fblrocTVCcRpJuZ\n",
       "mDKdUGWAoy7ee3E80GSQSHtS89o81ILavZXNAPhTqqDxvfd4b30OjaOZZDfl6z3z7tZdZT7WroIB\n",
       "KfvZRqmgBpMaSdIgu8Zmirgjgj3JuOP43VhfRQ2K9jcohlDf31XzjikuYRApAL5VXOvPjPqXv/zu\n",
       "W47DX1wnKVqNTeqDw1FH6gJuc7yE/2MMsD/c/ksclyBmgDFFI9XhVn5BDL3iQbUZH/YdU/bTwsKw\n",
       "ew+1T+S8VSkkEcMS39bE2L8DwrkVLpDUdQ3UTfle8bVI4cHnbhK6RJjgOuT+QWrFwLpMiN62yJT4\n",
       "t5cvoQnZJGj0thehik9Z2/7tOjfdPIfhKuUVv2m9ZVZJiNhbC/erM1rLWWh6Eg4gU6+kBdJ6m8mk\n",
       "NTLPoqOSwfKURaX4IxSU2bRKy+g+XkbAPEdxuPXHdPzmcqz4rb36s39/V3GO9NTQwxYG/NhCT5ty\n",
       "dhHgMka9Xu8PAMNSf/bJezzI5nuyDzPdyARQBF3IpMIZkRjKXFX3714AshEE8BJZVPE1Mb1LerT1\n",
       "HZqOuldGKCizwV2Uew2uCCo1PGi5X7wox2Y0I5w2cotu2QgCebKUtygXB30E39iaZbWbK034ip+i\n",
       "x1ot7TaPKQlypsncJrS3lp9PnDJPaXYnA0X6OnLjed0bouZb2nbqscJcaE+DGjnTj4rUOe1gnyT8\n",
       "GHS5iekpRffLM4zl/UhfpKI2O1bSznkJJFMuIXHF05WKDUwnPRywP9ZfXM+BMFTseS4hHYBVMCDY\n",
       "LUgQGO2EUmIPsUzTH6X83QIN83eJ00zBnZPtJEbbQgQswOdn+9IaLuNdOinB3mAbGG4ZmyW6F93s\n",
       "EyxCp2mCjs4ziVmPXEJhF6eG1OquGgdmEpDe+IXBLlJb0OoHyOXwDI2EN/hhLGhyB0bXZUYWkvNB\n",
       "IaAXj7Yxp630bgUhVfSS4dfEbpfUKOQDBBdbw7SkcpFxHhJCmY2DFlM0apwjtQDuD+pAeeEV/ef1\n",
       "qs2WFjkOgCkF3bhM/4W/NdMCXajEwpGpmWFLzO+Whu34rYR3oqOdX21Ov0v5Hh+o2j3I8Bt5POl5\n",
       "ayo1qVFnB2cOiQ5a4SHJfHNc38c4hf+5x97qzQmyao7rputWVxyUuhbrdBWKW5x1JdBN9bs0+0Fy\n",
       "RunAK0vH3QjowV8ViixhS/RXlYToX0nkuIyTEtGM+/UYrzt3o9kpwi+5sRnWZQb67t3u+mTnJMfC\n",
       "jQob33V1hhJbba9QKxGJqUpuokz+v3vBTv5x5RigS7JIM3z+R9ZycTFM7AxDbJFytWIM0Pfz4kw1\n",
       "jr+JyZmuNnTbkAs+f94tLXzD6uyVxRwxKSS2Q3Vvkgty7jdPYtKQxRAbmtF3t2DC8GQTFOUKw2zA\n",
       "9HDoIsRJGGrQLHt5f2CerW3MtUrU3/oBlgs/Q8qSTFK6W3sxVsVdXT7pQD2N2sySykXs9bDjTTJa\n",
       "yYHLipVb9vGj+MOyxpfofVNpJ8Q21/MDnyNmhoHOJrwbyNGnn969GU29Qsh5ymV9d9JxFxZb/yeo\n",
       "pjON29K6M07IKpMyfLJpCB8YbWF4fZr7jJ1gNhF2PlQTuvxZRghrDFhrt0q5GYNVoCp6zfGHj7Xj\n",
       "jiol009NzuJDiceNdzvwyZblZ5vdoVNmnvJFL9Ly0KKyc4Lnf7Gmnf33bXmAn5BQVOlZ6mHUu88G\n",
       "BawbrTbVfB3ERt/s7d+Cy+GMGuGio3fZR2arPO2DP/CLuo/x/wTkJeAXTAg9MyuO6O8PrzgzQNQI\n",
       "ObcWCaS28xcB2V0co0+ZtxkX4lcb3h7LzJ+m9EFkQedsi/BPRVgbhkqwbtEHqY5imfeKUHw1uxvU\n",
       "cWVAaaTN+BzCnK8s8lCfLYu1+iBfBSN0L2zt0cybP5hJvAqC6AiuWKBs59qa4qtQzNezGmgr9m4t\n",
       "Dnm4/2Cy9CyD8ywTUcwz4yU0mI+av7tvUqNoXgpCaoDhmXPG6KV4tOezN3K+lJk2jk35gzAADYzD\n",
       "EJdsKpsihRl8cwSAcZv1M8wbLSGgHyltwfNhJw4Z+2v2Emxw/PjAtakk2z9jeTPPAIKbBEzu2dwz\n",
       "DMHP2/WAIOgMG6Nos9HUM5gLu0UCObffWkJlHuUCVQZL1FNMP0XAXBjdYlqrcQ1GsKja49muDW2l\n",
       "7wznA9HqjKrbO1cB6e9dopiNQouM1RpozB/V3+tO1S93lt0V6CfD9K5VbEN8ljUeOJjtnrsP8XAV\n",
       "1rAInNKztfUGGrhf0J09P3VvxNANG64axVU0D3CrWdZrBpy4Boim774E+Fy87UphL8myUv5FMLDY\n",
       "uwmSPJ+7XpcTcICe+wogIHd190JB1VIjlIwj0Bb5Vb3SPParcJVjz2xNvhEvA3S/XfEPNYT2wkMk\n",
       "+3zARtW+b0TEVlR2yog81QBvOzRxCU/bAZqyAF7xlfv94zhI9l/Ac9nAefTZqv/sAk4nx9uxJJVX\n",
       "arwfpOWWBK9xuVJn7/DpK+bU5lyTReOPim5mF2jc6GLaYWK+Ca/JMgyi5v13BnFQMhrNh3GTX/ok\n",
       "jih5rs82e0RS1Qdtni1LrllgkKCBuGzXcQr6GYVwrgx7SwAz6KRY7ME/YtzokB8oS1ubgoLa9pL0\n",
       "HjVMjK7/GXr3+opzrfBZi7HomHc0WgF64/CuuM2vW6FgJlJSloau5mZBO+NoQYLidARJ62ZdGxP/\n",
       "qKpFgnJHISjSj9QrsgjbrW62pH5n9xcWYtQRic1X8mQu2IWN2QYfUXGmn7zImz3stD7ceWK4OowX\n",
       "C3vqsngUHOx+TIDLmr3zqgMFg1IxXdvVmkPTQOioQmzXwTZt4uqKCCykPagqoHZExEVXxZ4B4xZl\n",
       "GGyW6vXY+PPKHvfqFbNQpLUpOtG6+01xob+kjCJgFEeaCAVE4OeO75zDhL+vSRVO2G2d7iw3YUPs\n",
       "QUBvST2cAPlfpPNV9EyVWJTJ/Lvkn3Lm6ELD4GdTK+c4nL/WQ1UcMKcL0yhz/McJkb264Q4cn9zz\n",
       "yOEuW73SQHP72pkyVQEPZGpmfYc36lNMv/7wF8IM0w5fyZsIaV60aLF9AcLOKzqbVSp53KmAJ8HJ\n",
       "QcOCHHz2rgdAUO4Kq0kU3qCShp0EhwPWJtHgrcYtmeuFQbnoUQLNG5uCdfyKuYgWB9O+Ax6vV3Mu\n",
       "JsQyV7snsGOZ9u6jnnOQyWw0KdirU9SY5dXSzdEFp4LBdpA8gNnUVHMcMeR6d/TgEObCmRQ9c5Aw\n",
       "ixq8Z09lJlD71JQf6fv2KoWCOSxj/VutXv/Gt2v6FhysLdR97LOS5HDSbZviEe0YeWg0el0MgJk4\n",
       "QIRo0iakLgVpnpVlL/SuNUQpAxZofYIDYe/KCob806MVyxntF4hiog6FxWT1VtFE4BfCyIkmnx25\n",
       "QV8Tb50opHAN564Ulze9sBv8CBAgt3ey+vr+y452FhxghSPDjoigtfKxl41IKiiBP2UHplbJedvw\n",
       "c/p8LZojEmRZt+xK0td1ArdWJDx1HJpRVf8eEm1pmi94CCKXZHHfX8ucXfcz/J8mplwcXlrE9+x/\n",
       "oK+/a0GFrS5gL/4+fKsAZ+6WZKSiuqQj3sTUvGZAcQ5V1YTGbPHCqQA7I2kqhnjP60ENG9Xlw0Ka\n",
       "7xLYzgq/OtNkHGQxVoQRGAWd11fbUY3Km1t9Fo+NE9vKlJkIPbqeeegZ+BT0ENsnOWpNnvqhMY1n\n",
       "6npjV6Rc3R//Wq+29VQ7Nub2DvpD68yNaJzWyU0HtWo81sp/Twe1uEvU1GdQpu+kWmgToW6qOsJB\n",
       "OVgrvTyMctgy9IAFHKgzsGL/vqSIE99mt6T5PpeufVODt+XV2SrJN7vEk+ef+/yPrYvaYqVgXh3z\n",
       "1Ys0Ll4VbfYQcwshRPgYlTeZ/SH05mbg5W2KbqNS344/hy0qj68XqRQzwyO1mRPQR/6Dv9b+jvDC\n",
       "8aLjIT0RMuMNpIHtDf+TXRmZ1e4fB/4jHqHg1Vzi6vb3+C5+q7LnN8fHQRfztcX0VMZKscGz/LgZ\n",
       "5qXAUshJiTiaUh9LyDvmnfPoXCNVgH51Xp1W1lQC98xNDZ1BcfCbDQ7VgFo8fXiIxIDL0+ZHGSbJ\n",
       "Y2JzJF9rdXH/j5q4PG6T9bMe92B+1sZNSuhcvUOrsGa7CLNo2O6lnE4dwjmluDr8IpKfYs+6LD1b\n",
       "kuMUQNJT9z/xeChzE2NQDq++7jb0AnvchmVdo4lM8bRNMyijiAdy/TPCMsseMX4mpvS6EDT0ORPK\n",
       "vepzufSBpdA91KOC1VPfNnMx5AjIHQkfu/mEo8EgknNEUYXOYXDjdAChzoGVtr28/wbqKk31fP7z\n",
       "q5JNEKh7FlkKwYjzgbYnx5SMcjRKV1bcVprIm8yfvqLTZSVVEi/LRSb/pOjID2dl0tCaE/ZVCz+N\n",
       "uzHCqGTh3gLl0wY5mx5S2TlfjSdPCX2LVVIgXrek6DxYOuztfszehUB6xIKx8ngpgtwvAgIwHmvb\n",
       "VhyzBc/phqID8b025XPTKc5UlRs6oN4nSKavOuQ6zYj8Ihe9DXs/fwBe9rDVoKejFC0RYZDVCL2C\n",
       "AePZk6XZ0TAnafSTTMq3qvAnM1DieRyEqOIK1RgRIlWUn20oj7Z7my7LCmSA8jVFpfeGKlQgihtQ\n",
       "lBaCDQqggqgl2l5/kuYIfIIEAOVXxwxq/eKOsvzbSapLR+vCB6hT3p0e9DfommGVU7GY170GkHBn\n",
       "GWGM8AVWNi+Nal96TW5fKgPHatyQnyx1DOI63RYTk4f5l5551EaDtivgbEuIcpqhsh0v0kWhmMcu\n",
       "5vUusWo41gXzaWkUYVJIZVqkGOGiV1S2aUqIIn0329X44a/jFAW55MlLSt2L/c0gnQrJ1kPCQA18\n",
       "BOeeYkoVULpiwqxqo6i+KjsMZeBFhYyRDJ75n35toQi3aHNNrbpa/Ep14Nvi+StJNsU78f0PMRI2\n",
       "pxOznX8NV5olJwmAqgOIdMPONWjLSXbLhPCjX1ouar/uXrffFwhhCH1u2hB8tm3KSEpbKyPHsT4K\n",
       "K+6O7LYcI8cz8V7t07Abc0XiBhzflqDtwhX1bKLvm44+5qyN842QZ4SYttFhFYt+ArBBzkPliHNO\n",
       "XbXljQrIx50y9dvAwsYWDkrVP5TLfn9djunRPXbFQI8Hvqpm9Z17fr7wEHNQCwOb3f1NLqme8dod\n",
       "Sl/sfeNxokqjVn+dcs+9eBepnXghx36nIOh9kfNiSLgt55QPVvNT7BDjL/30LMQ5jD19u893PuDi\n",
       "O1s39TU1LunPg8+ZiUPHPdTJb1zwooakWYhVju2pf/hAEwFuO+63URNEIimxiG4kJ0/pEvUHFCiy\n",
       "h0zOCb3SIKl7GVzwtoI9WwPfI8rj5Zm8tU5/UQzV/ADFO7BvSSRd92lLF1y+dTsFWIY7aFLzJ17h\n",
       "AbIRmx+qNDVZRyg46q9OpygNAmvSQYNJxyN3D+io0n4cCdF+RgAB7nuhp0tnmdNOzBFH0O4kg049\n",
       "wxrSBM6nt1I9TqTqxcSnk9JOme69mtvLHCo8iOwPhDfZ1PsIup9qF9cMQVYpKrgR40VxKwSbWofS\n",
       "larZhavFI6ngWLjOnMqsc5tFGvJt9Ry0Hen8XZ/CznDZ4UdMwq1P74zVUdUaEw3WVGr/4YIGNI91\n",
       "a4K4D9bvgM7P5Ag2xi5gKflSrjFl6Z6tCZpRXkX85mglj3NuosZlmWRnE66ZLNBicU5a9gEiMYXS\n",
       "dy9Afo/9kBWH4sbKmJR6n0Kp+asgnwO7yntlOMKwnLfKtexE8ctY6qdqCHLFOlRh4UXRgGVT/TLg\n",
       "+WROhGkRYQuJrKF1opw///+a1Wrd+DU30dHuP1Q36G/AGMYO3dSCJDdqTOQmYx395F1veG/npRz4\n",
       "ruwYB+fsSeoffNEvGSyUyGrlmj2BfxLiNDCO/WtnU8IUCLmC2V0wJGRabBZnZCk2mIlSs+h4sVXr\n",
       "7E7jfzXBVg9eHf9rCX8B+jo/QpLhtDbUp8XAqHlZmf9Crv8a3e3PSi0dzT+NECYYnZIRNoibMgj2\n",
       "so0Q85Ehns+ZqTF52seOMAaDBt6PFn0GUBKsBWftkJQWWXYqzjhZP6gYR2d3Rr92+Kb0EOIClk9/\n",
       "/D5OrgWmJ9VT7DHav1EG1ZIeX/ziXR2depS1R+Ca0j+cARvNpF1+0E9YP8VV6Ju3o1g4ayewIVNE\n",
       "BxdI2KyOnc2GkULTmfZXoMquf2KFOtmsa9twPXqjOT5TjBRFkYvTDx4olb8Z05Xb9axp4ZV7/VBs\n",
       "8VFrlQlI2YOXp9cdFDMLjwFgdF+x0tUG90AK3koELZx2yLA6gwH1mTLwy+fAbLZhc8191caz/OXX\n",
       "Uhg7PXg2RYcnHZk9MLQlgB06FXxN65FyWJBOeWHBw9YlZabhAbPsq8rl3uE9QcknS3huMVzVyLbh\n",
       "a8o29S/PRXiELEzFNf+KDVDOHtBEUC2o/fHOUe8+TlbqbYsGfwle+V0S4Q2Eoxa00t7sVum0732Q\n",
       "2dvkpg2G4B+zx99L5wBQFnl/hI0lkRSPVtLtn78bnQhzJHGDzxdDVTVFYvZ1IgLoi1b0X4a1eKll\n",
       "gkZTF3rJbjs6XBVZLz1C/JbvDIygonfQj4FYyKEJy6IFW0t9Em7/rJALtIRmMYEQBbQOuQDuzP8T\n",
       "dqCl4SbZf2TfXoGJo3mqPErSFUrcmmdcidq7FB9sP09N1L7RAa8HhUq7eB0QdFIkq2aPe8VaAonR\n",
       "yqPu1/tXMr8fpcrkSmX+cB5a5JAwL+ml4MPLYgYQArqW/LLy03qCwbcuHvlLFnsKZjzkSg/KdifC\n",
       "e6XlTKs6BLTBFqx6gVLHsdgQN08kwdzr6LBR0Q731OKqVDM5nV0AZ2vm5ddgv/NqB00W8ki1/dSr\n",
       "+bgyH3fno4sf8Duq0Fz+2nvdwATZ3jMIaHnFdJemYKPwWlilqG+Nvp9jxitxKXhwRRp7YxiAcJod\n",
       "JTONgrC+nTWgaIs2HiI+/CPXMhp/asrVSdyAhhApVgorU8qqgridSzrRVtzQHwA4pp7+aBCNaYBK\n",
       "tTSRRNAyWsR9/DWsVt5l8ZhfHiP7rlb907HH9fRCMVwTnXNNfq7vY9FvvqaEBaslOvjQ5bdYUuRc\n",
       "IxciiBASlFlm6cxRFfS67eQHh9qDba+isiGuLqAHQIhsByL5Oyue4VqYdmtJcszdIQLwEHsuzggw\n",
       "hO7e9K+gYaBvuEOh6PpSn9KZE1Kfk1wJFgf9ZVEyFxBaqGcUSUCgFObBKj6tQUccEayMmXvGZYan\n",
       "fuQN09A6VwjRp6FoQ1AMm3HnfwGqxRdCsd5cs0rni+h97eeOgbjp6TCheJhE1xCdA9NKZlEY1pmD\n",
       "xYxhvEwLBqUDfHoTiKrfpqRcj+p4hIFl4bdLUFVp4q79xvS2mGY+lAREYh3VwehJ74MlLWlGlISe\n",
       "F010UR7q1xVBsBHcrPc+quOPDn8fnVfSuV+NCqsTo2ijXz/8SxrJ38I58oyuThs2KCfbyJBk8Jqs\n",
       "nuBAVZP2hkV3pHM4BlBx2/1G5QSZjApq5/DArS76qLJ1CXBuyHVrAsmEPlWQ6zumnJ9ynyEuNU9e\n",
       "Hl2TLcBnx1Pn/ltynhBfU7AFnYbbBkwvbe+xOeob7tJgiFNwJlcZTYZCTrIC/0upVJ6i4adX8Fsi\n",
       "/ZmKfHFJeocBm6rWfWXMv1e6ioSzHntfyjB9vOD7k7GtA4A8EP4V7bzgdhr2Q6i7Iw4gVeGKKf7N\n",
       "6cgV09IdrxxZIyRUlTUbepHBN3WhHDbFqY+4A7dolCRyDX+iVyzq/WLtPwEvdmit3uI1AGIZNnwA\n",
       "yJ61xbYQLnktTfJ6E6DZ1b5gKpRrdVmoFMxW62+d1E0T+E3lPgf6fuwX/WJk+/qQ+Wf5/tmjB0aM\n",
       "Eiezo7wPhYLqLcoeWWaNpKxlvxHg0I3obRHt/x5YEw0Kl1/4KNW3YsKrIRO4pr9TPievrLOEG4yn\n",
       "l5BbnW/YBT0Eu2VvaKPTSHBLj2ui51zqOtokQrDONrtfZpkKORgkvShNPhFr2HP3901M5w1WIe7v\n",
       "xdzW8g8sKHoi6i7bhFjoNJbAiMhE/OgjJ5KKe0PUrk8+Rv9QKSfDrsKJAjsX22QtpkUFVkIYJwVH\n",
       "aMxj4a+ws67ibiYAARPUwvbLtWABynBswJiBAAACqUGaIWxC//6MsAfKuo4BYWQTJcozrWeKburA\n",
       "FjUx+wOgPB3ElxFDDaR+yXKiXA3MSiQ0EI+yBd15hiPe/5U8v+gb+jW9O7T0VrzR7tZW1A4uXiB4\n",
       "3IqaTlxCcsk+6Ff1uqC2OdEjQRYLMSOWzUodbXWnBALQ4TWPdVfDh/RjnErjbkKIvg9xrVEK5ssO\n",
       "f7kh3FylsReapeZc01q1mx+tt/ONg00Inttj7DbLq7hcnwNTfZUDzU1DE4T+/CYJhU8YFUM40UPY\n",
       "678C0W/IbF3Osh2hQIgTYa7F0lIxJJkD2h6/XVg5PQCE+bKZIXq75UxRZQgYaJUKNibTOAALJsUq\n",
       "a0djqLKXD0tgyVEBunXauNlU2Fq4rzNHfRanBCdLFpd6U0fEOq2XxfIIHYigv6E8dLcMTX8nP8GB\n",
       "RtEZL6hrhpmHypG46fWtg8Y8T6QszMmWZiOqIUK9uYe90kArnnorrGyVZxoeOpPTYUMqrU1PwdR5\n",
       "GIjv6cuubOeS6YFLknAdDe13S4XrxalHhtH5eNYpb+nDd7IyEOFvxhM3Y9Jt2U1xiuBnVZA7pJW6\n",
       "QszII9PnxcBulBt2BkRImvRsMDVsCGFWtCPue2sQAC64KhyVwPbtgScM3MyUi2z0VgVlerRzCv4c\n",
       "6UWOP4FLvD2dDiCJ/01cupDmNfOeboF1hT8ylDCmBf8DNolPsxUkeHEAd+qYntiE3DeN1QeWkVWN\n",
       "OdZ5TyfMDomAlmL5QTShHD0Sd1wmm47JwrM0wF4oVGhazYy2+movB6RaOCkDmKORWMk1S53+yZo2\n",
       "PjodvPmlABNqoZNgjvfgjeGCaS5A5xIPiTvaiwhRCAEiVrVIPvz5R8UMGP9bzD2xRHdau7MkZpI8\n",
       "RvsYOkb4PvLZCsjSSQR9b2YWN8btNg9ApYglIAAAALBBmkU8IZMphCv//jhASvmbM9TdwVWACv1z\n",
       "ASpHjrDYDfvLyxfNODSJCbFWJNSDjhWhZi+xFyV5b51DYZquzeyrowBOMU9cLEb69k0vvxvwVGSF\n",
       "RkgBc/AxHsl4j3UPApuU2dCbmg45vkfQCUITF6fSLt3cwZyJqIXsjHtEPBZGMVwjL3UNleBnySGg\n",
       "boq0xZfjFp+5zC2CAoAIy0onZ6sSIdGOXnNakTonB0QSs+RhwQAAADtBnmNqU8I/AxO4UYOULJbg\n",
       "CTD/k7YYaLnGthZchjS2Nvvpj3+M/5IXWNXDm70XABMW3XW5X/0ZJ35LZQAAACsBnoJ0R/8Fms7T\n",
       "pVnpB4CIJH5oWN+BB5Lm+EOHgA/EZPx+ErNxuAcXaztBAAAAMAGehGpH/wWbvywSTdiNwBNgu1Ur\n",
       "LEDwjS3EQP4oAArdiAoxs2bqXP8mEcxXcNpCNQAAAEZBmoZJqEFomUwIX//+jLAE4RwlsrHIBmhC\n",
       "iOTk4NMJxO8fxFdTClQn076n/m/P6nXdEn+Lpsynb0kqP1cyWDwmVIOMMeuhAAAAgEGaqknhClJl\n",
       "MCFf/jhAAzez6QPIoOkYkQD4XbyddRzcnC0YCHPFbTLUZONW85MN1n1g7zpdiAcaaMzoHMt1n1BJ\n",
       "ZQkBEVFsqv+lI7yWowYQsVn4vNaGyLLh9Ky0OhYFZKz+HxyRtqYLyfyu6+v30V4Bw5uUzFcjugJz\n",
       "4hX4rPzHAAAALEGeyEU0TCP/AxNtM58ioXZmc8LZDNiEA8Y2FB7ZsYAj5xgAfiaHFmPzNo2AAAAA\n",
       "IAGe53RH/wQxj7hb5NqPfOwdStdAAlkQGk5VlvmyLTkEAAAAIAGe6WpH/wQz6IQkg1dIgtSed4AF\n",
       "1FuigNaI3YEUSG2hAAAATEGa60moQWiZTAhf//6MsAvPP6xpX70zVjVwy2gDev32KKRaLVfv/h8L\n",
       "0s8Im64ZvuDPKQzL5Lu2kLnvPw9dHS472MjsO3sNyxM7z4AAAAA9QZsMSeEKUmUwIX/+jLAAAM8N\n",
       "JcCImAIQ4398GRinqf5H2ogYeOJXi+NUjBv69W7Fo7vi50eIsMER699jwAAAAGxBmzBJ4Q6JlMCF\n",
       "//6MsAABntwLgBO58nwTu2wSCct80Eky2LSWyazNN9U4A0mVnGru1BipDyQNQq7kNELNnCqHOcmw\n",
       "KH+7MeiFLCZMgn1FNsMiisimIKWUFhml/LBVr6RQcPzxTiVrkIgiEzUAAAAjQZ9ORRE8I/8DE20z\n",
       "nyKhWreacoQ8FyAq51ZOnz2K4wGDNl0AAAAdAZ9tdEf/BDGPuFvk2o989E9U1EM+kACdNU2AswMA\n",
       "AAAeAZ9vakf/BDPohCSDV0juYJQAXFbWavbw6ix4MlMDAAAANEGbcUmoQWiZTAhn//6eEAABm3bj\n",
       "gEl503RbinAeQCjR+09Z5z+kkE8j0fJRgp1WtWwWMbQAAABbQZuVSeEKUmUwIX/+jLAAAzzu2wCa\n",
       "UEjQu8ESFHyHrJDdlJ9JXhJS7MQwJALl19R/zjdjafoUSlhNcvpgirJqm/O6XJpaZg8hrGKLvBXu\n",
       "J4RgRHt3GSOmIsihgQAAAC9Bn7NFNEwj/wMTbTOfIqFat5pyhDwXICroHMTyHUAJZf9F69b4hc8w\n",
       "y/kApipbaAAAABcBn9J0R/8EMY+4W+TakK+aqrirBEPfpAAAACEBn9RqR/8EM+iEJINXSdrdBxOg\n",
       "BKpljUsr48Yb9714c9sAAABtQZvZSahBaJlMCF///oywAAM8+8MA1fGsnD0LOt2FTfWHMWOiywHW\n",
       "Gf+E/VwwOilulkbgedXFyurZeD6zZuWHhPlkcNJGvIAbDbsuY7mTzDfQ9MaeT6MH4slwcdH5QN5b\n",
       "rZQLD6W9EvAbPtINgAAAAC5Bn/dFESwj/wMTuFGDlCriHdaUrZwcBN9FSs4dgBa3OcWBumGhunkZ\n",
       "I+ZOC8NXAAAAHAGeFnRH/wQxj7hb5NqTYbaoALh6/pwSHZMXAgsAAAAeAZ4Yakf/BDPohCSDV0nZ\n",
       "eN3EAC0BjS07SJASgkFAAAAAgUGaHUmoQWyZTAhf//6MsAAGW1o2k/i2GuWAaNcosCAtmYuKZ9Fn\n",
       "8OTiGjCECzt6GTc8ethZf3A/HkYXOZdNHpoUu9kfJvfDJTymlzTPe5xGBmP843EpOLpSBwob+lm8\n",
       "50BqUIVWy/w15+0BwI7l/3rosNBT5Ouysn3xoxhCP+164QAAACxBnjtFFSwj/wMTuFGDlCriHdaU\n",
       "rZwcBbFQo8AFs6Wam1oFJZC5Xxo85x4T4gAAABUBnlp0R/8EMY+4W+TamISyrFDQvdkAAAAYAZ5c\n",
       "akf/BDPohCSDV0uTfVwXsxtZVhxRAAAAKkGaXkmoQWyZTAhn//6eEAAGRdegATsgCYaJ9BxH2WWR\n",
       "ew0C43oP4atoYAAAAF9BmmJJ4QpSZTAhn/6eEAAGHhAqAA5XZ1xFbFXni5blxKf0YgKqfN8yFiUo\n",
       "fVA04LZG8IRCzDX/hf0wFUHuTy4s46A+5m/i0TOOCAY+KMQ7dvQjZ2DmzQ/qL7lMd5Og4AAAAC9B\n",
       "noBFNEwj/wMTbTOfIqFat5pyhDwXIDEJIkgBtneJTBM3RUxhhzN3X7AZgm40nQAAABsBnr90R/8E\n",
       "MY+4W+TamChM/MAB+c+82I/Ir20AAAASAZ6hakf/BDPohCSDV0gMihsbAAAAbUGapkmoQWiZTAhn\n",
       "//6eEAAMQIYQ0ruANe6nV+MFwIKctoXJK5IcYMRlQp8TpXVGL3rc2tpM/Pmh71XpNcpD+LPfE2l7\n",
       "A9FO4OizB0XCyef96jhhyJ8Ge/BWwQAYH1tcvKdOlXtRTEUm0/2qZUAAAAAuQZ7ERREsI/8DE7hR\n",
       "g5Qq4h3WlK2cHAsbVaRWD4ARgKLTz4qhm+QYwDLGsDnloQAAABcBnuN0R/8EMY+4W+TaomHMCueS\n",
       "e49oZQAAABUBnuVqR/8EM+iEJINXTw3ITl82BCEAAABGQZrqSahBbJlMCGf//p4QAAv4iWpmOANv\n",
       "UAstbpQvzu9dOP7XGw+qkQJvu2tkWxLy3z7QSEaVKwnAPDdu4IfzAdJAnCFlJQAAADBBnwhFFSwj\n",
       "/wMTuFGDlCriHdaUrZwcCuwq+AEYDWAzSDxla5a6i/3dgKxqG7MJseUAAAAdAZ8ndEf/BDGPuFvk\n",
       "2qH9xMAELE31sPWjZr8XAGAAAAAfAZ8pakf/BDPohCSDV07pWnAAWuZDH2VJateoMhuQ0QAAAFtB\n",
       "my5JqEFsmUwIZ//+nhAAC+vOjAJr0Meg2RyiP3xHi2M1UmlB5ZN82YIYQqDAYAqgLapom8fPPSPj\n",
       "FucfUd4A5p059i0y9nozkDKmICjYR+J5IbCfn2F1+TI+AAAAM0GfTEUVLCP/AxO4UYOUKuId1pSt\n",
       "nBwK1WcE3mHwAbKciiBeIUgU/wxGz7Fm0gVE+DHR8AAAABcBn2t0R/8EMY+4W+TaoaE27rpc2D9n\n",
       "FQAAAB4Bn21qR/8EM+iEJINXTuR6UAFxPh+ynoGIOzDbA3EAAABjQZtySahBbJlMCGf//p4QAAuc\n",
       "HYU0bkOqgB0DcOr8YKxCb++0TN9q5iCMZph1kypRYLQAM4IF16MfNFcBPLutpm5zszdWuHf3tM7Z\n",
       "FU7tc/WHq8VRmYtivbjhnwoUjgLVgsVtAAAAIEGfkEUVLCP/AxO4UYOUKuId1pStnBwKinEWCD8m\n",
       "BhR8AAAAHAGfr3RH/wQxj7hb5NqhHS0bOMQACSEAaQflO8cAAAAcAZ+xakf/BDPohCSDV0644C1A\n",
       "BOM1VSzjixBjawAAAD5Bm7ZJqEFsmUwIZ//+nhAAC55x7gBytzgF48zinL+ich8ZUq/m1lJcufVt\n",
       "OHJky9h+VylK88btVU70DVqvgAAAACZBn9RFFSwj/wMTuFGDlCriHdaUrZwcCqROyAC4pl7wC/xV\n",
       "5pASUAAAABIBn/N0R/8EMY+4W+TajiPBNjUAAAASAZ/1akf/BDPohCSDV0gMihsaAAAAckGb+kmo\n",
       "QWyZTAhn//6eEAAWzffyDIktAAdI911dQOL2NykHjedeUjpZq6tYXFBu3VUcGfoLKQi2t2yEQvZO\n",
       "ZMEsfLAJ2u5DUREsiUt1RhfG7vToKU/94axHNv9uM8s+LrXH6VfKmmC6urv9d+FhG5kLLwAAADFB\n",
       "nhhFFSwj/wMTuFGDlCriHdaUrZwcFKceAANvuRgY62A9S0Aj+zvfj5b8UYwc3alhAAAAHQGeN3RH\n",
       "/wQxj7hb5NqzvE70YABMkepesytUF5tQAAAAGQGeOWpH/wQz6IQkg1dVIt6NSqUSbeusOUEAAAA7\n",
       "QZo+SahBbJlMCGf//p4QABbArBdUwBWoGrngdh9uhgcf/RfQ29syHfA0ek+MBlI5ksrlNEyEmTZM\n",
       "c0kAAAAjQZ5cRRUsI/8DE7hRg5Qq4h3WlK2cHBR5Dfj3wJb4pNU0Et8AAAATAZ57dEf/BDGPuFvk\n",
       "2rKYJi2LVQAAABYBnn1qR/8EM+iEJINXVSMidZgjNXdMAAAAJ0GaYkmoQWyZTAhn//6eEAAWrKtc\n",
       "AR2ghPq9V9v1qvIwffXBwTNM+AAAAB1BnoBFFSwj/wMTuFGDlCriHdaUrZwcAUvFQuvygQAAABIB\n",
       "nr90R/8EMY+4W+TajiOYYaAAAAASAZ6hakf/BDPohCSDV0gMkdspAAAAO0GapkmoQWyZTAhn//6e\n",
       "EAAWrHIAAIDVVtziuSm5l3YRvTOHwMEC59M9JIA2jylljNVIVwo3oUIsWFlAAAAAJ0GexEUVLCP/\n",
       "AxO4UYOUKuId1pStnBwUt+6gBa28hFO9sB8V5pASUQAAAB0BnuN0R/8EMY+4W+Tas78KAAXOtg0K\n",
       "fC02u2vOmQAAABUBnuVqR/8EM+iEJINXVSdgbhmtgQkAAAAvQZrqSahBbJlMCGf//p4QABasbjgC\n",
       "Edfqo1urOpbwNG5qm0qEP6Mnvo+SsRROI+EAAAArQZ8IRRUsI/8DE7hRg5Qq4h3WlK2cHBS37qAG\n",
       "uA48y148xX4AWOMkODSGHwAAABUBnyd0R/8EMY+4W+Task1cgi57npAAAAAWAZ8pakf/BDPohCSD\n",
       "V1UxehTY63Ox8QAAAEJBmy5JqEFsmUwIZ//+nhAAFq1fzgCt+uHZHxegU4A14xXzd6MNUArNBgQW\n",
       "MGn4tO8QVyzdwtfr7vjggGZ24h5+NSAAAAArQZ9MRRUsI/8DE7hRg5Qq4h3WlK2cHBSJsbxt8AE4\n",
       "0WQA8wwoxDuva4Oe2gAAABUBn2t0R/8EMY+4W+Task1cgi57npEAAAAXAZ9takf/BDPohCSDV1Uj\n",
       "AAEN2GbhehEAAAA4QZtySahBbJlMCGf//p4QABanT+QJ5yhwBWqAn3izNiJf2TLAW3zu1rd5IrTC\n",
       "NqAFo8GzaYCIWUEAAAAqQZ+QRRUsI/8DE7hRg5Qq4h3WlK2cHBSnjXIATVjEeY0r8ulFfoDr4GFM\n",
       "AAAAFgGfr3RH/wQxj7hb5NqzutYDY65op6AAAAAgAZ+xakf/BDPohCSDV1Up65gATq/a8Mztrpnn\n",
       "QwzZ83cAAAA1QZu2SahBbJlMCGf//p4QABatZ/uAIR2N1btQBER14HeosmKCg1hRPXKG4iS619Td\n",
       "PpnziPgAAAAoQZ/URRUsI/8DE7hRg5Qq4h3WlK2cHBS5BFAAkPsrcKeT9MKEoFFeUAAAACABn/N0\n",
       "R/8EMY+4W+Tas54I6AEsSL3T3A31eLOOucCCgQAAABYBn/VqR/8EM+iEJINXVTF6FNjrc7HwAAAA\n",
       "UUGb+kmoQWyZTAhn//6eEAAWswnlgCFMVQq4Bzv0AQSoLq8EhETe83z5L6Sn4GgLbt5MPtn14qbF\n",
       "6XYmyGT1nDCtjx8dpvLR1Ysq/1Cr9KIWUQAAAClBnhhFFSwj/wMTuFGDlCriHdaUrZwcFIVKVyAE\n",
       "1LTPjq3Yxkgj5Fe1gQAAACEBnjd0R/8EMY+4W+Tas9/h0AJhZKA42bikHWZ0MM41mhAAAAAYAZ45\n",
       "akf/BDPohCSDV1UDGRIJtd2GblHpAAAAUkGaPkmoQWyZTAhn//6eEAAWrOPcAId+Lkt2GjCUWsHK\n",
       "cV+50jtsM7TxwrpcQbyyD0R73pdpblWW0Nw23ugT2GNBY/JVF6SB+OjtpXXG/WerSzgAAAAtQZ5c\n",
       "RRUsI/8DE7hRg5Qq4h3WlK2cHClEQLowAfiZomSKTzcbh+/i0MmKHsj5AAAAHwGee3RH/wQxj7hb\n",
       "5NrZeERKhGAABMfaB6KVSSdjsnEAAAAXAZ59akf/BDPohCSDV2Jvtl6ZK0VwIIgAAABgQZpiSahB\n",
       "bJlMCGf//p4QAC2b7+Cbj2AF+M4IbrZ+1mc7mJTE0UJPRUs20W++sWVn7dz8JRmLZ1aoDSB/bX08\n",
       "VO78JIVLuj2nQsRb2jptn/xedTNm0EW/oFvlWrfffOH+AAAAK0GegEUVLCP/AxO4UYOUKuId1pSt\n",
       "nBwpgEgAAsEGOp0OPaRJ+R+HElS3gjcAAAAmAZ6/dEf/BDGPuFvk2tl+FAAdIvgn/okw0csvbzKG\n",
       "hlDzAE7bASQAAAAWAZ6hakf/BDPohCSDV2JjOfwK6a6V3wAAADNBmqZJqEFsmUwIZ//+nhAALWnj\n",
       "mNGGAFgoskebLR5MHMRKkZk/WiwOr6pmM6poWfCwWUAAAAAiQZ7ERRUsI/8DE7hRg5Qq4h3WlK2c\n",
       "HCpn/0BCGItlCdulcQAAABQBnuN0R/8EMY+4W+Ta2RkOle/hSQAAABQBnuVqR/8EM+iEJINXYwND\n",
       "ga8pIQAAACxBmupJqEFsmUwIZ//+nhAALW2W+QBET6Czmie1vzTQGLaMiC6ftxjtvfok4QAAACJB\n",
       "nwhFFSwj/wMTuFGDlCriHdaUrZwcKkwapmN07EgzAq+AAAAAGAGfJ3RH/wQxj7hb5NrbM5W1cWZR\n",
       "72F+ggAAABUBnylqR/8EM+iEJINXYwRUWAGQYCUAAAA5QZsuSahBbJlMCGf//p4QAC1s2XCOAFfN\n",
       "asZNolhHqjMlVf4SlOgFsykjJfnt3ZMJhH27CSSvOEfAAAAALEGfTEUVLCP/AxO4UYOUKuId1pSt\n",
       "nBwqTMlhgA4sIBEpVklmG8ew8VgmIJCAAAAAEgGfa3RH/wQxj7hb5NqOI8E2NQAAACABn21qR/8E\n",
       "M+iEJINXYkUyy4ALeJ6QrxngZVwwZuFzcQAAAEFBm3JJqEFsmUwIZ//+nhAALVmg8AVv1aqAnOOx\n",
       "vrz+ybo8oAmwLLDtx5yX2vY4+CYot+Nco2VtBfyZnoH7LScI+QAAACtBn5BFFSwj/wMTuFGDlCri\n",
       "HdaUrZwcKMqLIeAEmhmapBN7VDYlxPPJ72i4AAAAIgGfr3RH/wQxj7hb5NrZtG4ALWfEFp0dOcUJ\n",
       "6yrhgzjWfMAAAAAVAZ+xakf/BDPohCSDV2FykMDreZw5AAAAP0GbtkmoQWyZTAhn//6eEAAtTrIg\n",
       "LcK7wBQNpguI50+oXbBJs1uiIL0Fya+SMSpevJJYFIAyB9W4GfNT1z4P8AAAACVBn9RFFSwj/wMT\n",
       "uFGDlCriHdaUrZwcUogZei+Z0ed8VJwf1K8qAAAAFgGf83RH/wQxj7hb5NrZHNbMjLVszdkAAAAX\n",
       "AZ/1akf/BDPohCSDV3zHIYue81+fpfwAAABaQZv6SahBbJlMCGf//p4QAFrrDh4VdwAr0ErQFeXC\n",
       "Sm5ybtGiTr85t3CYfr8bU6zB58qE3e1vgZT8a/Rl08+NO46yPH6wDT12jw+BVwcVE7LZj36y+HZn\n",
       "L7SRAAAALEGeGEUVLCP/AxO4UYOUKuId1pStnBxSpsbeAWkawK06ICy7E8uQdyuPqDwhAAAAIQGe\n",
       "N3RH/wQxj7hb5Nsk8lK+OGeQAJmJD1AiVUtLhGQVDQAAABoBnjlqR/8EM+iEJINXfIqu2bPIKxJS\n",
       "WHX4SQAAAElBmj5JqEFsmUwIZ//+nhAAWrxdVSRgDmFEcK0+Vt5YyD6yeokIW9E9TCMXKTKRRkJI\n",
       "9TAxk99ab+wPskm1qaTaTAnezblL0pFwAAAAKEGeXEUVLCP/AxO4UYOUKuId1pStnBxRoPlfKAAI\n",
       "wFOyeKZhYN1hCHkAAAAfAZ57dEf/BDGPuFvk2yRShB3ABuPOezUv3TWA4Ad9IQAAABoBnn1qR/8E\n",
       "M+iEJINXfKPSgAuf7cMANUoBTwAAACJBmmJJqEFsmUwIX//+jLAAW3GZACDmhbQKEHW7Xlix7wbM\n",
       "AAAAH0GegEUVLCP/AxO4UYOUKuId1pStnBxSwwVPZri5kfEAAAAYAZ6/dEf/BDGPuFvk2yTyVk3B\n",
       "zhnbcBuAAAAAFAGeoWpH/wQz6IQkg1djA5+eYqnpAAAALUGapkmoQWyZTAhf//6MsABblO3wqAIQ\n",
       "XiZffA1j81bCth+yaZ+Qd6t018hLwAAAACBBnsRFFSwj/wMTuFGDlCriHdaUrZwcUkNBekRpsFjA\n",
       "gQAAABcBnuN0R/8EMY+4W+TbI+v7XIG55p2PgQAAABQBnuVqR/8EM+iEJINXfJ5PudQT0QAAAFVB\n",
       "mupJqEFsmUwIX//+jLAAW3HrQAYB/YzdGk0+mcl9VTwiCw/qlVCB85jnaCVvZbatfq5dZL5n5deE\n",
       "OmXkyeodjcexXf36FzhoKY2UwsYAR/vBig3pAAAALkGfCEUVLCP/AxO4UYOUKuId1pStnBxS37qA\n",
       "FqX1Rd5YaLzKFniMoqdgOthbhnwAAAASAZ8ndEf/BDGPuFvk2o4jnoW0AAAAFwGfKWpH/wQz6IQk\n",
       "g1d8nNCrJJK36OO7AAAANUGbK0moQWyZTAhf//6MsABZuX84MAAPUFiVh5vsX1xIlNAenMGiyVns\n",
       "Ole4/HuSVW7rMH+AAAAAMEGbT0nhClJlMCF//oywAFlYP+ZFgEw4GLd3jPdKMjwGKWNsFwSe0kKD\n",
       "93fBmWwC8gAAACBBn21FNEwj/wMTbTOfIqFat5pyhDwXIr7W/pnAQkDFtQAAABgBn4x0R/8EMY+4\n",
       "W+TbH3Ja/rXQMnSg9/EAAAAWAZ+Oakf/BDPohCSDV3tKuaQsftq/uwAAAE1Bm5NJqEFomUwIX//+\n",
       "jLAAWTN4YBqVm1mKMN42lzEfOz5ZO5kC+Hhu98DT9CzJmPyEeC7zsGMEw7GYYbJ1LIvoJ5NsWFmt\n",
       "SoWri5DBgQAAACxBn7FFESwj/wMTuFGDlCriHdaUrZwcUAD3WoAWzvIdT1+TNfp267Mz+SA2oAAA\n",
       "AB8Bn9B0R/8EMY+4W+TbIWjcAFYALvfR5CyF3wZOJwfxAAAAGAGf0mpH/wQz6IQkg1d7A6Dz0KK5\n",
       "ulnooAAAACdBm9RJqEFsmUwIZ//+nhAAWHN7wAhHkO2jTdZR+HWhHA8ezS58EHAAAAA2QZv4SeEK\n",
       "UmUwIZ/+nhAAWHMDABQS7k6nVpNlWm0+gzA+i9lNRmid600qjbA9yDa1R31Rq0LjAAAAJ0GeFkU0\n",
       "TCP/AxNtM58ioVq3mnKEPBciswq+ADZiv3BYLYDGmmBtQAAAABQBnjV0R/8EMY+4W+TbHAGfyCiI\n",
       "TwAAABIBnjdqR/8EM+iEJINXSAyKGxsAAABUQZo8SahBaJlMCGf//p4QAFax44RywBcziOCVeMG4\n",
       "LAMWogVZ/awHOrqfyx2GfTmFlgQbUkjo7bHldO/s0S2Bba5jd0ew0O4dcYNH/LLnPERxRAu4AAAA\n",
       "KkGeWkURLCP/AxO4UYOUKuId1pStnBycRb7Jp+4gAtcODdomQXPId+AQcQAAAB4Bnnl0R/8EMY+4\n",
       "W+TbHEzc1MAFqWlvGEbywF4w2dAAAAAXAZ57akf/BDPohCSDV6wOQIrjD000CL0AAABeQZpgSahB\n",
       "bJlMCGf//p4QAFZZIA+4AlrfT7t9zr0vmgII+VNVv2es0ce94Vw3CNKKvttyH+nMwUxQFe1sHuxC\n",
       "czIzANRZhbUJ8b+Ar2QmK3Ml2OaOeMEuXEyqCtTmgQAAADJBnp5FFSwj/wMTuFGDlCriHdaUrZwc\n",
       "m/VK1jraABwbJw/8NqSRbnaIiOdpf4dqRuIk4AAAAB4Bnr10R/8EMY+4W+Tbqbv7f8CwAE6wxm8p\n",
       "iQ+J1VQAAAAYAZ6/akf/BDPohCSDV6wM6CNkg00NxfzBAAAAbEGapEmoQWyZTAhn//6eEACjYvQA\n",
       "fFLhaAHiBh93LDadg6OwZ2Zq6CgLbk0zYRD22+ksaZJi03PfvXaQ5h9IvWUJZ58GwjcDpy6e4qxG\n",
       "Euhg4pAdCeQsmpqsqAxdnxDEeByeILLow7x3/IQ34AAAAClBnsJFFSwj/wMTuFGDlCriHdaUrZwc\n",
       "m/TYU2VCwQA1lTHZ8+DQqQSCpwAAACEBnuF0R/8EMY+4W+TbqbfZDAKEACZcRWf+6Q0xOI/h1tQA\n",
       "AAAgAZ7jakf/BDPohCSDV6wMakC5Z4sABOL14qt1QyK7G6kAAAA5QZroSahBbJlMCGf//p4QAFGz\n",
       "j3ADe0UY3lK3FZB6hrhXL+bB7iELC5ER7QEq17SN7SDRobejhYOPAAAAKkGfBkUVLCP/AxO4UYOU\n",
       "KuId1pStnByb9DAcYLoagBtox8EbWasY+kCHgQAAABoBnyV0R/8EMY+4W+TbqbfzkZE+mjhgyTtX\n",
       "QQAAABcBnydqR/8EM+iEJINXrAxwSNEAQjQ+kAAAAGFBmyxJqEFsmUwIZ//+nhAAo3uscBQz6jV8\n",
       "yJeiCwBy00M5SphaZrXvhE4OGCW5q5t/22yl3K+lB2PfhKQ82g17T6fUUeqDeqccurVYBp9Z+3tR\n",
       "HpZ4aUB4rc4XY9FvOCPgAAAAKkGfSkUVLCP/AxO4UYOUKuId1pStnByb9CPwAn+wQA1xBZWssKYo\n",
       "ZHUhtQAAACEBn2l0R/8EMY+4W+TbqbfzlBMRQe0sAB/+e/drI4NRyQcAAAAgAZ9rakf/BDPohCSD\n",
       "V6wMaHHaXCewAWhZmm+0dUNyhKAAAABAQZtwSahBbJlMCGf//p4QAKOyOOI4A2K3Fexuv3x8Q0yB\n",
       "VceW++tVh2AbHMjDXhQGpUHTdJTF7ziLIxva3hIFlQAAAChBn45FFSwj/wMTuFGDlCriHdaUrZwc\n",
       "m/RCnQQBW+zXGeDyA1VpvSIfAAAAHgGfrXRH/wQxj7hb5Nuq7QrsACJV5pZjrI4DJICygQAAAB0B\n",
       "n69qR/8EM+iEJINXq8HFdgAN0sPU/FqmR2Y9YgAAADdBm7RJqEFsmUwIZ//+nhAAo2L0AFIhqn5b\n",
       "QgdKW5ydnIINH215hnRmzvKxWTbEhmcvRkH9FsLOAAAAHEGf0kUVLCP/AxO4UYOUKuId1pStnBxI\n",
       "IM+MwQcAAAAUAZ/xdEf/BDGPuFvk2xRglrsz9CAAAAAVAZ/zakf/BDPohCSDV3edBHBw2PdgAAAA\n",
       "PkGb+EmoQWyZTAhn//6eEACe4dcBqVG9hAM+tBRO7EpCw7vTyTm3JlmFs0fFWCRlGTdVbBPapaxR\n",
       "hVw0z0FTAAAAKUGeFkUVLCP/AxO4UYOUKuId1pStnBxIv/FAAsDMssZFImGanc1QfROwAAAAFAGe\n",
       "NXRH/wQxj7hb5NsQsLr4KZ57AAAAFgGeN2pH/wQz6IQkg1d17T6ZjYEDj4EAAAAsQZo8SahBbJlM\n",
       "CGf//p4QAE91n+4Ah1E+oIhtsGrGFttuSYp2pxgNyTEQMqAAAAAlQZ5aRRUsI/8DE7hRg5Qq4h3W\n",
       "lK2cHEi/8UACWrHzQjkbEtpROwAAABQBnnl0R/8EMY+4W+TbEPFfgvwnoAAAABIBnntqR/8EM+iE\n",
       "JINXSAyKGxsAAABKQZpgSahBbJlMCGf//p4QAE91NMACw+S6ydLMGQXQX7e1arD+DLeAe9jJnOJg\n",
       "+R+WKG31PQVpSb/e+f+eIojTEB3dJfG3e/BYGVEAAAAkQZ6eRRUsI/8DE7hRg5Qq4h3WlK2cHEfw\n",
       "8fUALJCbuphbCgGVAAAAFAGevXRH/wQxj7hb5NsO7FbYBX6EAAAAEgGev2pH/wQz6IQkg1dIDIob\n",
       "GwAAADxBmqRJqEFsmUwIZ//+nhAAT9uSCOAI1cHQ/XXfq50jmuimfC8re9qeEXCv1EQSav3aPTrR\n",
       "ni978oBYOmAAAAAgQZ7CRRUsI/8DE7hRg5Qq4h3WlK2cHEfUS4IR8JUMYaMAAAAVAZ7hdEf/BDGP\n",
       "uFvk2w/r+AHFg/dAAAAAFAGe42pH/wQz6IQkg1d2a9Q4dBPRAAAAOUGa6EmoQWyZTAhn//6eEABP\n",
       "XvXhjEFDgBWXk91KerS6tg87otwDqPmfjONsJuHZu3/Cka/ACwsDKwAAACdBnwZFFSwj/wMTuFGD\n",
       "lCriHdaUrZwcSG+OoAWsV2iXwoPAce29hW0AAAASAZ8ldEf/BDGPuFvk2o4jnoW1AAAAEgGfJ2pH\n",
       "/wQz6IQkg1dIDIobGgAAAHNBmyxJqEFsmUwIZ//+nhAAUbU0wALD663a+uVu/3wfcnwNIxX/HjkH\n",
       "gGqYq/QOzGa9LNzKgyrSY0+IK7E591JXvdBmhyFFdDWNSW7p2B7ObzhPpJQTAWs0hratcowNbB93\n",
       "MsdCcwcLjUXZs9uLA9Pn4OmAAAAALEGfSkUVLCP/AxO4UYOUKuId1pStnBxJ0KccF3bYAJ27kmVI\n",
       "O3qII+RhrgatAAAAHAGfaXRH/wQxj7hb5NsU73bOABONHUfuMwMLrYAAAAAdAZ9rakf/BDPohCSD\n",
       "V3eEInAAE6tfpKSmwNdsbAwAAABNQZtwSahBbJlMCGf//p4QAFPze8AEat88Cw+w9glXXM9njgsN\n",
       "X6pYWRiuO2c4r1dDAJJAKhR8a/t2pc6nH3uUhAYYzkBUMXzmKvi0MaEAAAAoQZ+ORRUsI/8DE7hR\n",
       "g5Qq4h3WlK2cHEwvj+5IASMEJp2qCRkJ1ZgZ8QAAABIBn610R/8EMY+4W+TajiOehbUAAAAUAZ+v\n",
       "akf/BDPohCSDV3kHPyG6qqgAAABCQZu0SahBbJlMCGf//p4QAFPdWOwhwBTNZzJz1X+TYcj7bocN\n",
       "XwSgDVkyg3tsHvI+4nRePOd5XbtSY9LbgDEhYN6AAAAAH0Gf0kUVLCP/AxO4UYOUKuId1pStnBxL\n",
       "7d/RodCiKqEAAAASAZ/xdEf/BDGPuFvk2o4jnoW0AAAAHAGf82pH/wQz6IQkg1d5P9zAAnGT3nd0\n",
       "Gtr5j4AAAABdQZv4SahBbJlMCGf//p4QAK1vv4GkaAPn14CebRmGp7v9wIlpPfWpfFX1GvSSwYdh\n",
       "+p6DnTi5zTWqQVXUHIr4bFeS9WGDVbstKPBrE3NZxxOfDjh4CZjywrW51KHHAAAAKEGeFkUVLCP/\n",
       "AxO4UYOUKuId1pStnBybhClP2AIiRTwB7YDYNhHiIUEAAAAWAZ41dEf/BDGPuFvk26rWtyLg+MG0\n",
       "IQAAABUBnjdqR/8EM+iEJINXrCBkqA12ZB0AAABGQZo8SahBbJlMCGf//p4QAKxRFQAfPku+KGgN\n",
       "BxNILo01h3+d3YxOX/STG1vBQgvWv+/vrjdjQ18EF2jDHNy79uqjyz8DegAAAChBnlpFFSwj/wMT\n",
       "uFGDlCriHdaUrZwcnMn6YwAcWUSuZKV0zji4zQqZAAAAHQGeeXRH/wQxj7hb5NupvrSAAFqKvzH8\n",
       "DFgbCV5MAAAAHAGee2pH/wQz6IQkg1epSj4ACWq0biMJwxDNxbUAAABIQZpgSahBbJlMCGf//p4Q\n",
       "AKgx6bRl3AB0j7NDG2wtL10Z01udofC6WoU5qVXF1DyMZdd2yrfiPRw8bf/cqhHvILe496KHZwRd\n",
       "AAAAJkGenkUVLCP/AxO4UYOUKuId1pStnByXhLPwATqxFcn2u5+s8AoYAAAAGwGevXRH/wQxj7hb\n",
       "5Nui/TwAEtRbMsXz4ri2gAAAABQBnr9qR/8EM+iEJINXqTyfPfQT0QAAAFdBmqRJqEFsmUwIZ//+\n",
       "nhAAp+NxwCa+vBC4UutNz9sksXsp+g/VTCloFlSAHcJ5SldvyZP79a90vreyPsxI5qBuS0FxbMOa\n",
       "Pge/CJVSPux0kRS5T9lxgi4AAAAdQZ7CRRUsI/8DE7hRg5Qq4h3WlK2cHJhavCXpApMAAAAUAZ7h\n",
       "dEf/BDGPuFvk2xjxX3xXGhAAAAAUAZ7jakf/BDPohCSDV6cXfiK6qqkAAABGQZroSahBbJlMCGf/\n",
       "/p4QAKOoUowWAWk252zjSulAos03W6kZZH/hVYFFcmv31s1jUI5DZ76xQD6kibAwJw0FwZXBn3Dp\n",
       "gQAAAB5BnwZFFSwj/wMTuFGDlCriHdaUrZwck9JnrhDgMUkAAAASAZ8ldEf/BDGPuFvk2o4jnoW1\n",
       "AAAAEgGfJ2pH/wQz6IQkg1dIDIobGgAAACRBmyxJqEFsmUwIZ//+nhAAo6vohp7HwAKZG4lm/OXQ\n",
       "D0/QUkAAAAAcQZ9KRRUsI/8DE7hRg5Qq4h3WlK2cHJSkFQ1BgQAAABIBn2l0R/8EMY+4W+TajiOe\n",
       "hbQAAAASAZ9rakf/BDPohCSDV0gMihsaAAAAHUGbcEmoQWyZTAhn//6eEABRtZuAAQspRbPKIGLB\n",
       "AAAAG0GfjkUVLCP/AxO4UYOUKuId1pStnBwBS8UXcQAAABIBn610R/8EMY+4W+TajiOehbUAAAAS\n",
       "AZ+vakf/BDPohCSDV0gMihsaAAAAMUGbtEmoQWyZTAhn//6eEABT4IS018AM5cqm9qnIVT4/Ksm2\n",
       "+BzeDCeIV/7E/zyYKSAAAAAcQZ/SRRUsI/8DE7hRg5Qq4h3WlK2cHEwgztzBBwAAABIBn/F0R/8E\n",
       "MY+4W+TajiOehbQAAAASAZ/zakf/BDPohCSDV0gMihsaAAAAMUGb+EmoQWyZTAhn//6eEABT5NUu\n",
       "vLADeaPJ9mAxa6jFsfc3YGtytiFjkR4iAmQsG9EAAAAbQZ4WRRUsI/8DE7hRg5Qq4h3WlK2cHAFL\n",
       "xRdwAAAAEgGeNXRH/wQxj7hb5NqOI56FtQAAABIBnjdqR/8EM+iEJINXSAyKGxsAAAAbQZo5SahB\n",
       "bJlMCP/8hAATT1XsAEGS8op2VhQQAABCbmWIggAP//73aJ8Cm1pDeoDklcUl20+B/6tncHyP6QMA\n",
       "AAMAAK6tMz+8WNhqAgRcU8lfHXXwyWY3uENgj4HKn3y1OBgSQgPNkOeIvtcUJHJY3NXYOl0cuiWu\n",
       "Y8oi4WEsAATVGWsiYUb37Ztq75gbH4PS8kY4V5lMWJO6Keg8qIROcyiMnlCFdCSD11a2swqeBHhw\n",
       "pucvmD1VWJzbJsDHqeRbKicdITYrtbzVe5VNSpHcFcz1QPRy7XZRqxgcEdft9hL5rdUzyo+vQ/83\n",
       "PtzzuG6w5c4eYbAG+eKjT/n6LyNl70rBG8VMr5bPsUXLCJ1kYYmUUF6M4xdslJWCC861eXH8ZO5Y\n",
       "tCukUb7jrGqlngjntfAN9G4Ysx9tgbek7UHD1e5QYh+FKGOrd2T6CDw79UkQknAcZe7Uale2NU16\n",
       "CMBLS4kfpkWLcUgsW3wfPqhXV1H4bca08t5f0Odshu/ws10YabkPgtXy+iCD/HxZ6WD0P+jhUlOy\n",
       "kjzg5LQp5oTTw6q4Eu1JH5pssJJ/fHHG1w+8nSqrJehr0EgM3z3KVrAyik+24QWYJ6ZQc8V4NP3o\n",
       "G2c2ie/C9WNelZCLgr7FYswpO3CxfH8YYA+32QTVIhhAT58sLwlZQlNdpwUe6b59zgf77ZtkaX37\n",
       "6Y49soj91Gy7gUIOzFlDz6If8EjngCX3D6bOM2xBlzqILB1fVYuNhsTHeArkm843nJcjkayUEpCE\n",
       "LAkWOQPdoxiyGYL9gAfaS13Rl8AcJhs0gHYrIugRkouPgw1o17xGQMLmERmkKfYs0ggNCsD4Umnj\n",
       "v8gy8Sthe4LiPxAVUS5bT2MiAsrjPo7mkUnOjhc61FX4Z1KdmHm8nXQXRFQwQ3s+mBaqvj5+VG6Q\n",
       "5YeavyZ79L+erC1VE1oZ3JZrHrbgZ11BxkMu0/UcbsSMueJRLZid6EtvBx8fmmJGSOj56rnRJdrc\n",
       "So5d4hMFvj57ZkToHumsvWSYFxMFU/KwpZn9lC5BzLkSUUj8bhKVxBLJ0NDLFtOOUqhMajOyqksB\n",
       "gc9XVcAuoFK0zD7hThm4GDPC4fvKOMvIIaq6JJI/ZvNBWG3lT75l7N9dZA3cYc5rWXMXmmiPHyld\n",
       "Umi1NV5qGtJ9FgxPl3BpjlbE66oASVTJ3aSiZr/x8Qn0C4ZiRyGHJSzDH1wGgJAQr0dVqOkmo0Iz\n",
       "xG5t3hho6gPTV17D3tk8IIaW4xFIMFALs2Uk4phny7L+EYykxCeVFuFimalsRvjp56gWimd0nhDi\n",
       "Qa/lpzn9fz5yL6f6M5aT2kHCk34Rc4ukrpyPPrmzn1GCJQyM3/Zu6d4gl6QssdP1/Lb/eSpHCScV\n",
       "eg0v3GBc3WrUghJJP4yZvcNMDzhe/Ks8NahvfCu1f8ZcMvCP+GUUyxPY5zLSKeoDQQYsi6QR9HoM\n",
       "plTn9iCUoE0Vc79f7SR3gHsOUF1b3YRS5CXd4l8CW/kNx3SAeRASvSb6MiKvwBC0vlGfJl6+39GF\n",
       "vmeityxRxfH0H4SQUBNiz7SqDf+lgoQ9W+kw9FIRYLWXEhc/sBZ4VNkaB95DYyMASfJNTvA+TWnu\n",
       "jg9BfpkQfYwx+UsiPzTfp0s8qlL5mc2KWNxDc9LcLblGyODWumLR0pdjwqKre4AJRo9zbIr5fAFH\n",
       "2X6X9TpWHkcfvk/raqe8TsMKEa3fsLKCDVYdlB/RgubxKeDPe+aW52yvjxy10OcJ4oi8lzQnvnVi\n",
       "46X40BswH2lqvImQR03XDP1kxodibyTX8yhcDFKuSS5aGJno6m0N6cVAyjEUneNZdsoTMsr/m787\n",
       "jMfrciepY+aQIMv4TbjDS1NOlRJpfMamkKzDDtmKmN0h0URsGClMyPg/q5MSNBVBUOQXpT0Eupr5\n",
       "PXHj2e91G77F+AKSt3BKALFsZpPeuyf+BhFRophlqpWyOvBNOieTx0u44fGRDnv8x7710wUprPwm\n",
       "qzw26qxHxUuqBJPI7w+aGZQJOpwv8z63IUAz2RMje7jJw6gxpxg6zhaH3sXXqixik9PAGoeFPWq9\n",
       "J2AFfpmVgH90zS5TnfZ4wXNJ/+uN4FjyoEkh/CQ2SODnYVdY6unCSOPMu7defqjSUe271d0W82fR\n",
       "yTm+fhxsQh6S5msT/E7x68GMlwecjxjV7lhtdSMPRhEzOC4yJBE+icUjSnDu6R6IJr3Usv97yksY\n",
       "F4o10JqCS+mc6yvWblAjoUh5TSCD7bM545HGT6Dv1ecRYyzoKd6ZwWje82ZraxqPnSVuSmjI0rS3\n",
       "N+DWu4zzE9SRxY8R+RpCRHG/r+IVOEfpZk4AbjmU+OigKnFYfljPZ3bKroE15cSwGDtB4Ps0EC4j\n",
       "EDWpF6HkmNtfjaXZQT+wO8oBK0BUUpuOn9qHtBdBUAbrn0JdBjwET9uLSszGrwm49GC3XQK0JGq8\n",
       "2+jkrcjKT4+c0r3jPSSSu5YrciWmdpDuZ20siI7csiiJpvOW1JjLmaEd15llKQq/0D77wUpGOzMN\n",
       "gW/Bu+Z1Psb9k0kFptyYpCeAP3ueQ4M9dB0g67E0yQqsTukSPif/CX3sXGYWjDHUEkpKhzxkyFvT\n",
       "nlPgy4UIrWVHHgJlI/GSk/Ukgeb6lI1Vo6Lrht8E3v8ZJk+fmWfQQvLDlBrQ5eLQRVFRhcoyjoyM\n",
       "Js4EPssL2fapIhQiU6l7xgESLKk3Lxnr0KlnX+Xg5DQjiWWa/urb8t3BzdMyRwftvyt2/Nu5tCU5\n",
       "lnMStiwcdqp6zPMFZGANf+zDirZi7OT/HBzcAXjNxUEiJz+4bH0yCYjG5a1lAtDqDy4S4nJigQ+o\n",
       "sYYEwXEz8V1+6FOZ7Z+GEbxOWiffMtsASakIfJDG5ikmanukf1RTbDQz+d6qPB2pp1MdaI+x1VEP\n",
       "YPgVnOmQsaxZEMJhzZphNIadTopbZ2dVBy8bERXKi1vsDuDKVG8h6T5bw7x8JJfS5ipcxj6o/rPR\n",
       "aSlMhpWEXZRx9fla/iGKCTUVEeccOiPemOT0HAFyt2crwgSA/ihyaziCp2HGBA2DUWDpV0qf3/m0\n",
       "XHigje0TSqouEKiWJEstTy/G9DTcEGSQYjgrIaKLeqi4sagvoXHpZujHfoQrHqTfWeAM3OGrlLs/\n",
       "tYkVBTRkJDOOQRdOt79DtFHjfOUJ82Ft/WsWlYlZ8uns7XA985ubipNO457NZaPYxNxI3W7fG6Np\n",
       "vCkufOphhSfD+5heKgiZFJ+eY4oYPJvIH4s8V830yDmrFd+hZu5v1SuGq6HvQ9a42MbhwcmM4usb\n",
       "njWXPLMFZsVVlc788hKZzqF9m08NtuPOJtwiRLvJEpsLNxv/5HvJMMSBKIx5iIjmXWKjpackHWDv\n",
       "HJojNMtd0wkfbEECz+do6lAWQHSkgGb6nk0GiChNJp5dTKchA3qpF1j2oqoOXFTs203HT2Q20ncT\n",
       "SYqGbCRcGRU0cfr2jOJQihze0TpNsqzWQjRCo0f8kBB5C+naDLFuuBFiGbC1K6hMANCydhZIBjOP\n",
       "00Zwx44XUV8lcDfzhH5EMF4QaY93Pje/F+puhRwTUg9J8xbjwx5nkUhZn4zel4vNgZ7DXZ4RkGYR\n",
       "T0pZj7TckB12m0FAJe3gFsFLwMgPqm8YT1kaTH+oQ7F3ttmwFGsDUs8OQm740iMfz8xII2bV09cY\n",
       "2MB5BDQcQJri4HcYHZtsms1XgreC6yMZd4bijr3IZ0nUPtQBnIbn2rDwiencd95TGIvQUsaHpLry\n",
       "lZEQ3ZIeroc+L3Xsiffvhlr+sM7TOrISPftyr16qzM5VTIc/u15941T4v+NqoISdZtzzxKhZkmhC\n",
       "/ARlb2gHZ8ULklBNOe3Mzj1Bq7U7/f5o+c0TDiAr0xG0vXDu/joXI8DqFOUGk+uJKSTyV1/OXwxi\n",
       "pYUSw8hu+HPwSRrs0aPoPE6Gpgu1Jt8SH3RO6IVvsc+3jmYRO6UxZaTEsJbuE1LdFipS2YL7TYkJ\n",
       "11mE8yvCPsxsPei0qmqKZHSPUoz9gJivLunBeunfGm9Kw1+9pFDAwRxTimu5oypYbfawBrqoaxlj\n",
       "WAcbG//ijjkO5NS6zqJ51jWIONb3VrbCutH0Yf009pQIehxjB4Q4wX4LAbMQpebj2Mk8goyws5c9\n",
       "Cuy5FtBxEWK//UWR+KtjaqQNCtJwj/oeFNYB7L0q4OK/uezu5exum3Z1C3Ehmyck9m3e4Yv9L51l\n",
       "jIOyu2JwCpw4FIeBdNr/PalRvnkubNdOs0P6pYsQF0JmYTLfwdUG4igbiMM9Dotq1bLccvoo6vZ2\n",
       "vWP6gDI+LrMr+aWTqUtuYwFk/vjd0Jo3XcBblbdARzOXLc4k+cg1YvYw7w/4hEzj2FRiyUNT0sdX\n",
       "WZKcIL6W/5tH7LymPfGqEIfOTGwCwqWsJjquQExdZTgmjr6FGxKpv9rOlck/1MLggpOPi0j7eKsE\n",
       "8WAw2Jjq1IwktO+qvD0tYvnXEsZLOcj6BuQwr7+E1cWb5XH/QA+ae5T7idsER40f7Ng7noIMsC9R\n",
       "vNNBvBVhJoDsHPifS7AZiql8d7rW26p7JPssEmatePOY7JgauSiZ5cO7RMC23ogpqNV7bCztmbNH\n",
       "+7Hhph4nENno3yb0eZM8nOpWmiluXqh4nnrxzXHXK6i4VXZ0pLHR8+GbRVsxlYCAlQSMKN5IWDqf\n",
       "M0bdeO04+gKZwxq8/BYUh25XpxOEUM0HyTzaFzFSgAIIkakZA/9MishEcW97fqZMxwBgsrj2Z0eo\n",
       "2g6G9rTqYCVjePPAck/g/eE63R3aMyhT8NKKzXkdDmhcfp8BQWH9oodRsdKF6qFFCU2q9DUUgDvV\n",
       "pycrecx2381vcU7wnFExt88e98Y3wF4+aRoaS43fPhIzFdkLi4HiQby/d1jrPUjHhspXmdMbauP4\n",
       "rdLwqQBuv9h6XQMSE4QOvkSyZE8fUWtKeHqIHCc+PJKDQ2E6Y3HNSZU9rNvebOXCFDEs2pDN4ozl\n",
       "oj0ZRQ/MrgqChfm+BVqaTO/QSD2kYMMz7fcD6XtMDZ9nvKH+0/DlE+5KDEZxAkDWp4u+12zWjCkp\n",
       "z1m1bY++OtBpQ21bCkcNQXjkQ5kcnt690g6VAeu+ZkQliJ+jC3nI1ZliIe2S/VdhzLkBfUgSrGwu\n",
       "bscFoIoN6b+GGCSJWqPWCUB9ebh+Q5rDJHRqGmd1RlrBqznAVoZ3xkHkGP4V7w9aa6MQS669EFBY\n",
       "0VkoI+Ak1ghCDOMMWtyyqCIP+eTXIfT5fkGkz3DVsRrNjhWFzA7NJSETXakv3QFb8CurbwBNVhjl\n",
       "bcpLL5MGay+20yVirYAr9v+Jze/oD2cI3zbyGKBKHXUzoJiEM65xvQopZ6HarD6alQnkMQGxvT7k\n",
       "zoLw9CfiI4fwMcp7gMK8qrrzMSDEzVXFw5Jz9MIYk3F8QwpxdzQtCPWjLPbBpacz6aTQ/TgxhO2S\n",
       "MpVxLax/4a+8BGKjjGcSmgLUP/F4f/HJ43Vm1R0kq2jRREBYrN5w6proggUDGjKMrO1pCjwmmtqx\n",
       "AdxB60csfn1F5B2aoxSBIecOIEK8AE64nF7SW0+q6JV9DvblQso8M438vGtB0mahuNh0dHbCkgsB\n",
       "N/IltfDjb3r1kDiy5GTS0pzWCJaaq7jvzq0hTFR14vp89p1dZuzZpcS+pX0YQCZGTqkb+D7nWgPx\n",
       "dqgNs1QeWOXeS0YFXIzjoKGrM12k8XI0RBkUagQpdwTeAj/unrRXA7J07S4djeqOpj4GqsuGvc+t\n",
       "oabusU3EWAfELgPkFsGSP1UmyPN0xwc/2BCp4WXCDNTywKynoJVmfy4eomkl2LDMMYiaUs5lpX0e\n",
       "VQAzTMhztRp7P8lfsQ+FrKWClAyH0/7b+wnbPqtDr9X6J81qcW3zi2p8XYWWGU5UmxFZafzsnv5H\n",
       "j3RQrN66hR/2EUPA2ytxjrlZ/AgGH7NWAjW5yPOD/TxqSSG9N0ggAMGNRUZXOxnUVjDlGQ8/uhp8\n",
       "t2euB8Dvp0/d2B2junA3rJW97yIwT86ilboozcxljqYz3ix63fCSPXzEMI0wCoPZqN2r7/qBf/al\n",
       "/4G0e3e+GRiM2Mav31juI12nEgkmOzLN+TXg2ugsCv+Ix+EP1Ed37BW8W/o6RE0zN0gA5w8GgEbC\n",
       "G6/G0c09BpSVVqSnmGYD5dcKjQVRv0QeuCYW3+xvxaONDX/CUJvkiXtvrhRhtLTL/PVe0awDuLMD\n",
       "92ZVUo1+oe0c1tvrobC6loEY0d7zkZjVjescbGj0pJ8uKgFweK27SwMcECoGOETglZaWO2HWo6q1\n",
       "Z0zdek/wwpzNEJQgnfNNT3Hm6GNw6jzQsarvmGXZ2dhSwfjbD4yTj9hWSTur6CYGRi98s8Ptlfso\n",
       "ARIN8wBWOp9YSLdaOrTygr49VGDagL7+KDJjc68CtRmDXNC5JgMEW3tZvYjUi45ynhfNBn2ZnQ7f\n",
       "CRHv0Cve/xNhUdCiI0x5Enx9PgVAO2rxKvwTI8XZ4GCI/BDdBUjClpjGgc1K6brwVrUje3DsUMS9\n",
       "9lWbldI/CPcrxjm1fpttIepmZH3ogKHGLKhuBPulASXBIPw0VmyjPU/9nVh9HmDVC2GaIfL8nTYd\n",
       "fbqXNL3vUJldq3Kcn55Qr/dxe1yrUxxuXubtyVfc4pmjtC/4xguOFtzfze3rCUXfj6BrkfeC9KRv\n",
       "h8nZA0bp97vfHGpwm5OdT+uXVXb6+yyCrqV5jl1uDVtBSOhoeOiIOzmxS94M1KvVIx/haSrtbBwG\n",
       "w/paC144Mh+1xuarXlIjxrHmKU8oVCGN5fKI3IM5oAqcB10dZxal03E/62iQHqHNkxUpsRyqveDW\n",
       "5Hal4ahnYRKNT8w7XAtSqHvPZA8MZqViHEe3mFPxxPeJRMnVbzQFPWK/PYBUlGBhxX2g0FU/MA6c\n",
       "onMk31LCck/OMx+2HO0banNbCZZ7u40XYgT1plIiuE+KhVHBFSPnyvztH9Tb5/fH41/G1A2MpHcC\n",
       "VSjXx7NBhs3ZfwdBuMsFLtuFcvfHsbRl4Rx6iCFYu0yNfD8niJtEyPiZF1EfhqjCSeVA7whv+RT6\n",
       "t0rs4xj+bFZedv6suMV5Oik5+SLnbiWP6wG2dnO/h5UVVbVMvM1/I4qeSjOdzMBfxoBtXn//ZYG5\n",
       "AELuvs5u6075wyKVoxajq+BVi9xqRPr99N/rmGcEDdRPZFH1Cmp1+6zHFh7NIQtrjbDh897sT+Ch\n",
       "80mQDpCczEARrUF6aMUCFu9FZci2OEoDYHPpgxAKh8a0yJk1h3+ZYyQ9/2+CeoV7IRuDs0SfNFy8\n",
       "MN/A6OHPFe5vFzS628IzCGCikLqjxDzOsoXXg9FdSEfXgwEH1Vlj/JDy4c81FNqCGm8uGas0YST2\n",
       "4sPv2ZhKujSh+Xw3YxN13hRvLhWfuCYOjVCNxL+X0BbHdS44P+G6NjC/nCjnlGzLsb8/2f+thOOT\n",
       "uuOQEl8wgdDfurNwa/w9gpXhJS7ZWp/mgX0HmgkGaeHXd20BZ+lKpeBmtr2NwyxLvzHSdIfoawbU\n",
       "DlG4qrUhReORNKvuLCW/gpvOB8z/gGDY/QrESmXiDFEkG1z2bnhmeHkLYuNwFfpLkBjw00/MYext\n",
       "7t4u8gtegVB+1PSfX+BPRTviJtqB6DYAb8vjmiDF3Bvh2L25JzwZtopTS3cqg9959YnDO9bpRj8A\n",
       "iRNg5HTIuZhy4oJ93+G2dovZVgQUbrluhVcAMIDmiCfY5IkexvtFE+ceNNCP0pTj6TbCUyhk7ftT\n",
       "DuNLrH4PqL53AoDGsURO8DuQM6C8VJo2Fpi3KZ8EJmWhzbcqs0X5NLnSKnPzyxUs6uxkDauy9ftG\n",
       "Mfco1AHnPoWirYQ4+CCgirWkK311BhoYN3jlafUATbFZ/iUzejXKz2naUDiFAMZeuZk5AWg/h8Gx\n",
       "8LCjBkJw4X0C8ECR1yEqjutlIaxH9OUFf3vrkSjUHhbDvcNo1Itiw2eQb7foyDxmDLfpcCT5TJ0p\n",
       "NV+wIvxcinDgiL45ACYqCHL1k2o3pXZK/FnbNret08+t2KKG+1i3LBI8bYFVsM4vVocwNluGQo7L\n",
       "Csy/clxLomOiHoZTkRON3LhagYJ2/DkO/LQIQnkP+kwA2K7gDefo+HzLRhtqYIxPQz3B7bojcCDC\n",
       "WdP9G5AKKzhWSAwoZVQBt3KSgKzCOt3d6v5Ww0eW2Jw3L4SozkQu2PTh0sP92K5GH1+/7kfefFDB\n",
       "tK6/ZvrBeJU9CHG0TjuxnGKy77nS46Pe/wMckQJnwVcuGTCwTGpliPHmtCSdSNhUvEUOkxEnJzey\n",
       "SEWegRTT6rfnaMr1992XCILb4N7P3UcraJHVh02WLJDkeGSkFZqdzz0vJsjvuCFBUsM3rKW8o8yk\n",
       "x1jb7Hny4BiUr17XZiyA7i5bsXsIbbUH1XhrKLSwiUhy+cuRfNU6dG/fLj6SKd6D2vwXCm/hbfQq\n",
       "XHVtfyyW2YrE5Mn7PvpBNQyCy00GQvhVwcShz8SsEGMo7dF2N9KvSklgGiZHTZXbXLgTlKo42vs0\n",
       "JRAS2IUDHR1I/Erbw4uJt7uKHAQ8Y3QApbttQIOj9BKiW/2S9+Ltr15ENlFj7lm+yXQ5gR8yiDDe\n",
       "FX4KK37zxsa6axu0fG6WOurzPkJTA32PQvaWMtxcqfXk7py6QrCFXgx4WAsqgbKY1zkhfXjQs3JO\n",
       "snpRHtStYOgT5Wa2B+Bx4kxnjSzINsZyK3c9ml77QQd1nGFEVcJaTg/NLyDWtpq8TGA091s35Ong\n",
       "5Gv7UhcRpUucBl75sCYShuICDEJrZREDDWXGkE+UlQd2h/4Oc5jqukRiB8GO7C4VnMj+KYWYCtDJ\n",
       "Wu6qauVHsw/EdMSLgt4Er3R+Yozf4ta3v1Uh88uP9JqSuG9ojiXOfM0Q4rGdYzCLhkE+CrmK+46d\n",
       "WFjiG/Rg5NmjzTkkR6SIu9WVJNRCeHXOl682DYz25uxnIxuf38n1PxxhvTZEQQMZX1JsmBqzuPZE\n",
       "FzVmgbZ94UWyTCN4fcn8t8r2fFmNKGjoK5vWocy9Y4PzwfvTpP/mHaAT1ZOoR2ZCScpbha/5H3Wv\n",
       "YAqY3PIo0ws40qG2rlQgGSCu6SQ68T4n+HSIm0CrTyyddsoMlpVknE5T9YIE27f9zRvuYpWWRlnU\n",
       "qfjSsz/euMyXluWMs/CV+HDsI8EPwMMJpcMgET1GaJEJ1qqVov81ZE3tPBfPcNHvnpwY02Bk/vtS\n",
       "VAuH2+jZRzxZnlLSuVce1WX2xpT3+1uNrmHGgsbf0KVTT8AwtOWhJvCg7Kr4rEmNrjF+KdSXoxoJ\n",
       "PW0P4Y4iEd79ub1307NsGbTvz3Q7zC/z5wxsck3jJeXmaHukHlNJzxrKP5XFfJyFJmOUlw/Ifb2g\n",
       "Ykey/wVBzmputNRP6KB4ZgMTMZhw7oHZYt6OKSuk1Ch1LP+/evXLHq5D54qhCdP1Vdik6lZlM/YN\n",
       "AJU1CdeSyVHIUyD5bS5c6qK+ysggUdwttlhoegSUzhuEZt9k1NMkSOAzWcCxTFtjAF8GXUjxCsIr\n",
       "MAuwmkNbaFEJ7ZxsfI9jhOCFrHkfNxxF9oeabx9mmQp2js/BnJ3VlJDYlASZAm5eqA0o5i3iqSMz\n",
       "23Vn/J71Evf2TT7KFcw4wa6KUNqst/4+RdONAtHMh60wimLm3utPtegDpNIUmtP3GfVXvPE/iihc\n",
       "RWxRHErlApRNEbuMZYvrsXK6aUGcQup59yEB6v28RXrq5Ui2d1PX4Mc112ZPptWb5NWMPfWgDhpQ\n",
       "JPWw9r8szEYWVuOlY+kLBS2Khcs8cUeX1Qx44zPd7vJ2upzYx577mOdeMB/9aYqAT+8lVOSTPPJT\n",
       "2uIC5Vko4bT2IvQMaxO9FRJc/CutpkvDVJa8tvyTskOKG44sOsUIXsaiG2vqoXiC4s9Kx6tKkF4S\n",
       "r1p3o6iUJw7CcDQKcsZc8bwliPN3FKXaKHsKl10bxPwsgKlAmepCYHgTf0MC7XFUpGd0kyS0aVFS\n",
       "ZwKYNESv9xk0ZNcIpIlJOGYMHwNDs6vy9uXfMAZKkvZeKvR+3Tc3GNGoxcsRSzx/Bvir7HWjbtqD\n",
       "qFX6w6ruzA129KcwbZXQ7dzGavaT4+9RWNlorHfKGF1ft7XSWksisuWXFdT64JNY3l97ykJh8c5Y\n",
       "IDws6WJJpLXwuuY1H9YWHLFfxA9g5QGLLlX5+yRRHNZGsOrPL3iCvbM16KP39UjIqyckP/VjyjOM\n",
       "cmw+LMhXFuV+6tY9Ri7rRZJuhkkij2rAIoiKlKQoKSpnAG8CqL0ZYmx7x/VoCLKZDNqbPXC9bwyn\n",
       "bssU1xl1fMCr0Du1Sbojxcp1gtQBHEHeri3VKljdqqJS06px4dD1A8GCOko9nnAWuwf860UUe68O\n",
       "6SV1C1geX2v2BqTzEKgIxCyVl6sTI3sKTsTZ3NLyFb03Tsh1Izn+EJrtLSyisBGrI1SL12o5d7/k\n",
       "XbW81vYbjuoE1MkTNATUAy0H+94ZK/0ki27RK0RbAGVZZABhsv0CbqnnUjZy6uQUXaaRVEkxrySP\n",
       "mCKrfJPRwd5wWby4JuK6s1QQcG0CIyeHJ4OFSj3noFKv8MHZl6i181Sjj2ggDpPd9mlNr3v3zxni\n",
       "YY1XFaFpjvqYcTmcWrWA29bjHdzkPXwFzn7v65Cwd++HH1c9e+gA4fu3+oGJlgClZE31+dTK7hXn\n",
       "5D7eUvyR1ueY7HxtTWr+bwaUXqukJ/YZ4Is/oNZ92/LHTwR4NwTTe4L5Ktgj8sAU4jcfoELqUtlR\n",
       "BVbiJr8EG20oou4q/JbLecpNmCD+KE/pHsSk8bEUKjkqsHSl4tA/XZddjKLeQwQA+SBJ6S2KWbTl\n",
       "x+rOtnvAAxtfkbn1iPWSI2KS9uxcb03Tz1K2ey6YypSCninMkdlylINTzYuIs9ik/Dti0wqmzFUg\n",
       "9zCa3y2zd+JEPoAvlbpprSnEu8axJujUT5HDHTgJbN63kEhVabJ7R+tKNLBQPothjbGFF8+g/0z6\n",
       "xvNmBMkjOBQHLWUVsNt6TtaMTaEpAgoOWESUDPc95bSQVxyq/H2K3qoWoC0BuvcV+5uIFegE+wmV\n",
       "du6mU48FIU3SCITRZO3kT8tD/BRe/lVt4WUAnhTFuy6QBkOlq6/Mz2niv1A6+NX0Qp5u4ypT67Fd\n",
       "/jlZ29OyT5t+vrq3XPvPbr4lXC16h/NMLcY3r9zgFXfZJSluvsBDiRw6g0MyeHC6NqpXp13Pznt5\n",
       "B+qEXtXmUXLg3DJph/FzyMEFBStIlXTqGneeJbzeewuB/pG7nQKPLBgE5FEaQ5dycSW7Z5cUd59c\n",
       "eA1hWFrfN9o2X9ZGb2BoCepKDJnM2EGnhY3liQE+qwvEHHiexKX2AxtTj3M+LAyFiK6GPO/GyY8Z\n",
       "4UQbiukhGAUkPrURpr+clB3A7lNz8Y6TN6NaHjG1FnLZfK7v9WzwUvJTnbWPc4e1eR8XdjgUYEd2\n",
       "ullvL39AhP5xs9odxjfedTH8YydsfmSz6HDw4NZJ1kMR9OFPt/XgS15sY+ZnHRD3e29NV+cM473g\n",
       "WO6j7far7vL8X51Pq+j4+LsaZusJfBXDGiN5jyVIuuHQ1s7n6B0o3l+MI0dIpQlEfXLkAwZkj4dg\n",
       "2XT6BR+ct+wEFaY2NhVaeGevQ+6d2S3Krtu8UjGbZ4CuU3cuw9JnZemjVqJbr7Drwc8cHra+eLWD\n",
       "TEmoier0blTGXHE82lFtmCT9bL6Sci6Sdh75yxJM2DY/MsfPvpwIEWAi7HIVGVvh26xf2JbpPlnv\n",
       "Ywt0wuqkLlqSTPE5no+6RrZTotqeb/xHAAfhX69C/soMxIT2rFfTch0Hjzk8MNLWNDfxdyUjmRGD\n",
       "AdVH60EbyUhdiTo2ZvQhTF8Ks/IkbumDcsr+NK70f3A2VfyHKNkO0QTLkX/ZROsajymV/wgVjDbQ\n",
       "wme1uU+t33It3EcCXqMGk+jJ06kajWhyRsrK5vtcnRULPlfoypmVejvGUJ3ZtpjV/mPHuhJ3Q0LE\n",
       "OqdHRZrfT0OVFRs8tvYdFv/ozkYAl3QLfu/0xo27+BwQfIdx2NTwgw0BtLh6YGi9pvlAyaHO42gC\n",
       "mkDjgykx6mUF1y9P9h5uepnPCLx84KwgSIYAYcMb2fB+5Sm3QIT3v+fgjJvYel8h2A2h3tg/tMc4\n",
       "uvpdY70tLYc9mZkavZ7tsEm6SsexPIkfZDOKQMLJ309MdCGqbx0qCs7Qo385KlR4ka4xV8Km0wxE\n",
       "4RZYprG0t5FOhFYFZ0NhnxU7C3M/D0QYvXLmm0EfV5V/PZb9kPyrmeapa8v2sC69R4rB4QP//A8v\n",
       "QXSaCSFvEPGYYmDrU0dEK62Re1oxlkJ9vFC0lPJ2yWuX9Bkb5LPf4DRbtqoWTAUl3DeR/TlTDIrh\n",
       "rshxm9PM2j9trg6rZOVQAW15Rh+a0GMe4jbXu82y4V0LXd3b1Sx4KIRcTzbp1vQQJZqal4hsirQQ\n",
       "X4qHFAX/9f9MeVElP9VTbvNfV5+3nlhDA+g0EU67riCOEGOpLYu0b2eJIsCLgt5cBeLJP6Nc/79l\n",
       "0h5K+UPQxZZ6zGUeY3MsIleUOPwIJkIDT/YhoM9LPUNWbjLp53ubk4srYNVxCzqfkMqr5xZooTE4\n",
       "IEWXTXH27aTvsMmLMAClu30dVqT+1Sakq7aplS/MfjNd8AEL2H3OBZAu905OFfsyNWOZxmizuiqF\n",
       "KkO5wEpkFKc94D0QN3psShI2DumOyajviDRZoQ49tbQfjURviz4XdRBCXkYzZ+KMQVNapO/JVhjv\n",
       "OAqDgkcRKyvru1+mWLzRAuR+fUw3FzKEsAgIiIupHsepFYTuWjAr/7FQlpjGOJ1+88NclWB/NXS4\n",
       "AoKmpcohOHSFY9Dti8ktJ+M4baGhX8zV0U8qqWA54SQ7Xdb4f1dQ3uXP591qlv+AYteKNK2zs4Vj\n",
       "NdniarkIVsj7ZoCwCl/yFTEUKr4lw7mBhPF2Jl48Cv2DyJR45AgEKYA/LNH5TC34qh+P1THRESyM\n",
       "/o7Bj7FH4JEIXjqQQhlV3nxQt5aSCzX7yIfdA2L3yhvWxISDsOCy+ywJx4wJ2lEJ66YzsM8FWh0C\n",
       "aZYYZDsKNLedH/FUQPRkUd3quH4MwIXng3CtILiPaFgYyhRn3AkAmLSKwhZ/w9eaUJzQiU66AEev\n",
       "Dsc75kq0jOBVjUSe0vNqJ0KwuhSZt3dsfkNkIQ2i2Njw0dISbLGSrGMGQiEqB8zlh7K+6rR5jjJ4\n",
       "2TmRPJoSv7fFXl0Yfp12xFrCar0usFSgB3zMSsp5K44iF2LKEmHRSUpuAbprtIbqS7YFk+0t5zmw\n",
       "crsOZJFZBIg13ghIwygZ+pLeyd4+gQPvC3hsgcBjU9Dd17QN6yYz/P2ltTHK2IpGPbSeg9pMDk6h\n",
       "EA0Dc4IryXt58JuG5hVb5HntsLnUlsdnvl13gvRK+AIoA9knn/e0x4BHWCgdaB+cIp45YUZ+Bcza\n",
       "003tErkeHOIbFg/VptL1Tpfebff0fUMC24OYin8CQK4PjTi4U4hu763ApDiv3dLftf02GKXgKbWl\n",
       "8bH1YQT0Vcm4iY+kgVPrKQ9wVPXt2m0T/cDJ7RoNwN7ZzTTe3a+vTAL0IaUJefN2ISLjx+gGtnAe\n",
       "h4U6Ycdh16FBZYIIByr8YCG6k0b/cL9KdCitBNwN1HGIJynRVLHi53kwtt+70Tr1A50BbrNEUqWS\n",
       "wuk2hEUuCZMXdRyO7gY0OLQMVQU69Zqvf6u6fgszB9i+uiCArMsagSmAVp/WelP3l4I3znEvLCxT\n",
       "XChH7ftbfYSZtJhe3RJIAvJp5rdLKzNiQ94ADDbjfQRcoAPHpgEYrZkt8Du52NJ3Gii9QHwleoNx\n",
       "holWW8rUFFrnWGy0gxk/8OL3wd3VSaKDLFBVlTzjxmIsi1uFAK6mGjqhqbWU8ZoaQLJWMReqM44Z\n",
       "WWm7KhjQYQESWUyGHlsAGglcOa3Tv6H9OI5XYnFh8fCAWgHoAftE3lwAi/754M3AgdA1epqoxard\n",
       "sc84zhu2SCj+Oh6vTkqzmnzJ0bDI6T7x/SvkXgLFIdlb7e7tqVtBaxRA+Jwa6cQpVWHG2/pv3MrO\n",
       "TYq++GgQIndYb03bZXAt+XUtwC+A19cjb6AuR6VVqfTiot+0I7G18c5tOnMKovKQ+yya0mNAMmFn\n",
       "4sT8PWB8P3++8UyXnD/8wBBFSMciXfo4G58N6LfA1SJ3g5JKfCoazBVf4W+1uTOURTZaQPg+fg6C\n",
       "dUrTY1OuOy35SlJHy8eusJfnpGfAx4gS64uM8CpLZeZ9flrWILR/UiTug4QbyztQPW4Q4x3hIpZ9\n",
       "pZsHrwOPKPt9fg7RRQQcFjfPn8tEA9JqksXGdYpNlQPqpJLIyQ1LQ4nJsiHrCMrvHlH4AVfRKnov\n",
       "d+/RkQ5786m7KEOOT6nf6bWaLEu2Ipa/Z4U+DBOYEW1eHB2PXZqu5M3pB/suNamAeHKfud3DkWAf\n",
       "WmK47v00Qwvr5X1drmCZjd2LN1a5CAw6qo7bA6wl/s7sAPe2ZzRtn7a34Jx8CgU77MSyYga538it\n",
       "8ve3gYfHyPVv9kIQa/xUjN0NK/RgIpo/gYtpoIHST6NCEpbIqLVCt6Xp69cktjlk0iTXhPepf9wG\n",
       "0rZVXJLZDehH4yTwqv4Z0msWNW/MCxeJo0YSQAIMizMIDgMWzJPpdH7+FL6BP7oQE39aS562dkpt\n",
       "ae9Emi6sjoTu0dweLDoQLPTGmZip2mOxEqnyDcOWDnZw4bv47OS+LHEPZJtPvrBy4jVWZ6SIyc/5\n",
       "6vCU5v5YuYkPGzlcpztOJ5UlT07WjX0QEHNe4DSXxDKtNG8BpM7deUvKEqCsfwL3ZeiSAw9ERLt+\n",
       "vzoAkz2+st4OWfOZzq36DTdmxX5wE1qCcM4oVlD0tqELhjebwzcHAsK6KKFBICfF4G5hud8YWFiZ\n",
       "gKlEFq4g4BjD5qV/mkAPy5ozhZ5XYGkPuOf/Bbj95U/A2BELKmHeIDugvTZJ6RIrq22lmwkKDxH5\n",
       "NZ8zO0gFK850Ixqvs+m0TP9+DucGrj6LdbBzamHXhtra0vBQApwGzCjf52K/nEHSKcmGfsATPJ91\n",
       "1MucRCd1ycu0/AZOk1mVg56xNpZ2RHsg8UMRvqKV/6YItkU3QSWjmm31eb5i480AxR8nG3rcZF+J\n",
       "UW+8+IakZidxzffZgpWWl0l65/glfvlCmu2aQeLJ0w0nijYNzWVXtLPmwKkf2GY4MZodam/ht69G\n",
       "/um+1aFNZTXR4E/Ub8bdo6qF3wikzXALqYw77hl1NqdJG6TpNAkb7a4e1q5AwoFVK+iaiiz7OR9L\n",
       "//YqIayF+xqHX67NN0ikHw72GjPd6VGKESN7ULMIWd86bF/t4SHpxJsYzo9AECdXKAPAVvnFYeEb\n",
       "wq4Ao/ZOZtbNFi9XUNJ3Tw9eABRHf3vt4mP61w2ZPKb4/QB8ca3+ZwA0tFqDZ3p6ppNqoNO4ecEu\n",
       "Jkbfz5CeUzN2FkrAciMTcpLun2wj3QnGAy/ySVbl8wHb9voVYdxbHcZ8iE4Co8LuIZy5WsvHEZjo\n",
       "Itki81sfld6OzYGl4JtP75Y2DwaLZ7v6K1SztJyQgqduICvPJgEr2Ngy4T+tiwj0V6A0fwu4hGTz\n",
       "zOStoQXpuRfOTieqJNN3g8mTd2fgXES91qTS83CFdmR29kIlLKVZCX3D2aDPOdfOeKu7GJ3GXwY1\n",
       "6ds1/EpKEEo6/+MtTQlOPvEpXw2onU2Nx4tPRUNTgy00SbqJ890OzV2Q+3oLOgyBMhy6hSha8vi+\n",
       "em0zETGhUxPIbR67qDSIOadqGHSgRHDz6Fn/f+L2/VjLb+UNRGTsUtlqxA1yajAIz7dy+1qPviOz\n",
       "Ts6/3gbv5rxksd7Omnzg1ldD1Uv7Zt1+Byp4yRMFTRr+xSrA7hYY5JoLuSGAx0PSPmw6QMm0Rm9W\n",
       "FYfy6nGdO8ysfQLrTT4OioZPOeDKCHcFh6jW0KX82y0uqYTaapwSd4IBjzrJyzT40sXWEy0pkhdJ\n",
       "eE7cr8jFWKGvmIVUFFh+RFdN5ZA12vhxK89r8UD/iVpN1IMoGRMACG9VKQjtPdsyrVhcSsr7Gck7\n",
       "4tJvRii5OvMpk3SqS1H3f8HuetrKRBvAJ1AQIat235RL5lFFCzbH2qWFmQphW/KhAfk2LDqNM0z1\n",
       "0g1qp6KXQu4sk5zFzABgt2HxPotxM1x+/FOPE+1FpDddzUIIJknDdTDH7Gjsfnq7VJcVSP5d5Shf\n",
       "Rf3lMwuM9NPlvdMo9EDIYMk3j1MyA+NLOZ6ClkG2yVqqiHqKfMLzfvcihTA1jpczo0oEzjmWqKvD\n",
       "E729Z7+jIAD3le4qtjIgfsikcodsjGvOOda6AoLuWkp3590MgSKckMiL6aN+OlBWD+tZUUOPvw1r\n",
       "0WowY+JnYJZDCs++iYbZCrZJnh3vIOJy0a21RZKYhPaZNUCgweVN3iw0b2v2on39srGJfX9cMyJi\n",
       "qu86nRWegvFZicVM6S4LuLg+uMD7SWKuSfyOetYriybpw6FmaMwXEDI8NBiMXNOZxhWVk8pv278g\n",
       "vXNLgESApk6Tq9i+BjiQBGxLJw4GghH7/vzDzZyrDWAkkLVrknwct5bjRLYm9RgCpT8JMBLLbQCR\n",
       "DKHPwRNco8UKgJbI7YZJoeGP9tvzp6PB0XQ6Oa1T9LWKTpVEvzckicVrp9q3L+pU26Pd/yLvJiNg\n",
       "6c/OSV0FjNZJNI4PWmm+YajfHrxOmJCyhCCqgPJtfvA2OOKXhlyY7axjdhKk1KU3v+YvOCEGFehB\n",
       "OHkPDAJ74xYw5HKvhpMEFF2zUQJJ2gt+F9OAQHQxdLej97ltmCL2TfjgrMjtWocPb3ZdIH9M0vc5\n",
       "RKPsvM0j0p4Gktz0XPoTMwPsMXQLm1LJWBVEO7WnEvvPFRCOToZqRCXi6Rw595+dvb5oh2nP8K3c\n",
       "KVONTG8viIbF9AFPV7yWNxO8eVymjM8slWoEzSz+32lKIedupkmragFvG4SqxfAU0EdVa6D6rqC1\n",
       "b0NChHq79l5/GESJ5ZTgsO/lRqWfeN9Lt40jpxoE0WITzDZyW8e3L6eqVVk3s8m/V/xhD/DD2XPh\n",
       "hfNCXUkWwXRoSmnp2GgVblMe0nQy9C8kY4GJYp9gOJe/pi0gIwN4EiT+14rdDkdu+EOaNsk8am+3\n",
       "6t6sJl4xl5IGUlzyuwTYvqE1w+yARYwBQvx7pcwsovrndhYHrAtK4sCpmepdr1H2kdtITfXA8J1j\n",
       "CteJqYimIk0SbBn2599M+aFdEyZQrVjUN512ts9sqvmeGIvoSeTyh2ms0kiLgq5pH+pGZPPwiUZU\n",
       "5j6CeyBGi/uAfr1+1W9NOVy2KT3ZLyY2CWM1aoZ3JTdvS8Lfd+SEtPRm6NM0f2j8PfgBwcSaYFaI\n",
       "sQ5KGN5KM8WaLLsR6kcZsYK8+hpZb8FutvwU2Z7/eV8r1lyWHd0+l1JAD4LMdLGcMgIBuJIzi8Sq\n",
       "iIdHX/LJXQTx9ILyRWUn1nM6ht09tT0cPTauOboYhec1tyGky7uxAfxMYQso0adV7UbnAxE9w91G\n",
       "+2pc93ThCK4/2x9+uICssNYtHUdXLOvXw4mhQl7xC5G7lFKyiBlwcw9YHPevMfd2Z5mWpkCUofgm\n",
       "e0YlDzUR0QnnRNdi7+lf8DSplfM+djEAnQ+NLSINunnmLhFQiXQlk0DLa/6IfdUpJwK/hz5LfucD\n",
       "ttbNXGK5Q2o78S8Xccj+OkLgLSNzSN7CnrIHP1qfdGAiAMsWKX4hFLxkXhIzy+IuVmU4UZlqWtw0\n",
       "Qxp5bvD4DI4vQ0pDYJrCrkO+f+FuluU3Y2IQBkcb0rZTVpsMZHhSJFywuJj0ZoOt4PrfleMapaE2\n",
       "2DRPAGoQ7X0PV7xmGpZTm2WxqOSRd0NxA7cS7744T3HTcrOXaMAYsqU+VWBLNd03G5QP84Bl3lgG\n",
       "vPdtZltDHRPfJgBQj2n82D2ZuuPGljt8NCgD3DxWM99S965Nu11rBj0usX6fo7zjmV1mCpvUZcCC\n",
       "n0I1qCwwGiv45Uyg24RNfl/Ga6EJl0pK0yirw8d6adWf31YyoLXeU/qQpjkkdCwmX7LNerTqACbu\n",
       "UldsWwCzNcYzD/Qk6o5GT1YpYeBb1HFPse/dy3Iq3942HPBiCDtAuldJbfaAVv5TQVKiBO8zydQi\n",
       "QXZaL/cgdhEGWRil1sKAuSDTK6TDmXVT2cg2DiXHYBZ7hQsM507ss2LLQGU6dmNVdHF4G+j5HFKN\n",
       "W/0NWF8KMJbe+g+k9nxBOT/QsigGNgW/kUH8WGoVnrX4+2X0nsdIQWv3XiRlk9K4Omfm/hCZSXrx\n",
       "W/wzQ0maE9I1OgO8SD03CHHaTz/IFgdlP3ExKsJr6+ByvCsK1Cs4T8qkzyp3ydD4Zm/+30LH4Gun\n",
       "fnGVFnREsMxC9FiHti5IdZrIGlcAQRMEWL+T3z2Py6JOds9CIEFekf9uWG/WvxdadjZptLsy2Xro\n",
       "DH3nOuI4bpbsXo0wg37a83zGQ71nWWcFiYmB4j1S3l/MVmfe+AGaOAs04Sf5mCYjd4DRJLPCvGkl\n",
       "RvWQ2YDcbfpa/eH6FR86OMGljAyNsBBUbZo9qsl1aw2rhQM7wAEy1Enn9HG6D3AT2mXBllX8Tsiy\n",
       "Iz82Fb44d0bh+/KntD7prkOwvly5OYz7jtaq7kOik/kEXwldha/DazuelsYHQyNkqJOfpWXo+ecl\n",
       "oWLFFh6z96Ul99DBh4FT0cBYJRu33dmgReXmQjRFSNC4ZNoLnn7RN9kIUTKxIn6H6BWR8IQP8WDX\n",
       "lBp/oY3MvqGCzFJZJ7dpN53dF9CjfDWxzX+EAPbrWzuobKbHXrSex00xvLYtkhe+23CnrsI2U9Jz\n",
       "oQ2jfnsBnShOTLMIccNNKS3fGk/DGxTTNuisTYLLlhMLf7EYwzqWFUNDlJMcpxSJsttAnq0Z/dJP\n",
       "8LXr/VF5v/5faJw8yh3zZDrKsVczTwCTb3+Aqe5wmgXfhryRl/Me0SbT9rM8sCO/j4IomQ6Yx/k7\n",
       "VPrR1cBEw+O4vwHcNXwGL/BfTSLLz2P73vW7ciQcZv7wTmZ7fORDqbyGCwsVJOZZZrOIhyMuED9p\n",
       "IjslMfNW0sFDJ8IJg/p/0vjat/jRTKVhsysSTdKsmhmqFLSvIUUZ8e/KwN+SfxaHmzCG48TYBE1s\n",
       "539F3DNoWnrMd/7z5eY7nr/sVQMSScb9PptyObrAZyky6YqNiOgMkLVy7HIU4Q3jMgvaUrWnmAYd\n",
       "tO2xU9miEqPPMHvmZtZ7i3T4p/bZ1zYsp2rucJIoXh4P0rXo9Fdb5tzphvrYeXdaVuWuyjWPS6Xx\n",
       "Qlebk1Fdw2t+h/k+bl08SACIzpY7VyV3en37xo2DW3lGSN1CwRIB8I3ZUnVPdJ+sHRkLZDpJ4IgI\n",
       "U5+aoNsjhGB+mUInXALddPouV9fF79VHkxt1lXsDgAUhBqm4KwovM2Dr18DFWa46B1nFQDhA0yrM\n",
       "eOPByKGGHxWvaXLSWxRcMLPm1S66hJ3sNLuqIor7crFim8VnaALlmIGMBnbIZhtjijzmodqUBX7u\n",
       "iHTkuppSnBs+jmQG+v0hh5F7OFg+hTcHpDj2EOXQzJYNAFNTx/4sF7U/+Ui/nGDWVh0nxOzC8NWf\n",
       "yHmhrZrKcyeJcnxXsnv5KLaU3klJWLLICGiLxF2tI8+qXqoKZ5DytNAvCG90K8aAVJ/3xKVzrka/\n",
       "Lxl3QvPY5cGmo/1i/aWRmQdbHo4lL0XdbanwkRHueBPFtQZHqmh42JwFi0qkTLVc3aXQWl8YLvND\n",
       "E2zpbyu9J5l4f0MhyMg8B0UhoREyhzB3fTh8dfwDR4r9pO8Vp6VMgTYwFOy2cWe7XZA1cMzUE32X\n",
       "5DO1a07tRwUHPZC/2vG1jjgNcah7q6VsfgYJmCtAKjUq8Pl+PNwl77ftBAtAJj4ZI0DP/iBOz8Iv\n",
       "7WeAGaSItp8pHiP1ChEDcJvhDlsBYNsk8IhRn12rGrEal4Dlv3wk+jTd8jPK6qLD5V3NAS0izyc0\n",
       "Ga2PFUZeAZ/E/Gov/0Wz8smyNVAYaZBlDtmJNVy/ptyh1LRO6M/Sz9yo1x4vVQqBihvmrfge/2d7\n",
       "nsV1hSZ7B1MXForobEDx+CMVU2/o/YU9N1loEV6DUtjJkWaEWqj++BY83wpBYs/l9VjTeaQBRt5+\n",
       "VotJcAdPWaPx2AJPMTi2fkz/GFQ3XrCa5eekYMleBca8HFVC+l3TK/6bvYzSJsvL43HxpmDlTRE9\n",
       "vFzbN1NvrlKpHaoSB9rIuJVv96kJ+gFNXcDE0pcBMADGR5ch8CxVfEhGed+9PP9wv//wAqVjRsjI\n",
       "3XLScSVNx0kSf6YXkTx8o8TSynMq7USXsd2+tKZef8SkAkS92cb0t1A0VJkhGiC3fjlFNn468O3i\n",
       "7Y8TusSNIXHEIkQ0BkvDQI6noGpNgyJg7k5lEuPtQs15/LM1OiNLOG7CmqeVUPWA7hdC0rBkN59R\n",
       "jY/tOAcet5mz2dt/sdYv0o+41CUihtxjDNJSxv6lOWqfv3/af7tjMWGaDWMK0N9ebX9zchXUUFBo\n",
       "CaqfyhkNo0UJVmOaqUzE2CzewZUlnJKoLKGEq/vfsD5sU+HAwqjkjF4Bs5dce/nj5FNbIVo8bQ8e\n",
       "VLDHlxEgsX4ibkt0FJE44e0Nk2gLYVnvidFTRALeGwOU5GtrFtlWphybH0G5d5Iud/d8i21A23jy\n",
       "BA96CH5uiqV92rXTprkQU0GqfE/ZVgHZ7cG1S8+DqcYWRsISMg+EZQINiGVYwJo4FhqUAR5OtBmt\n",
       "O4PG1ixg9yqILNcS5V3X7MCYX5t2toho/Kzd0RdosO0TD7u599Lq4B/oOSN4387XbcxRNcyOhVVi\n",
       "BkPYV7s1Tllttlo/Yp1l6XN2mwWKqRPBMzVj38rOF2HYHErclZaSKA6DqxXLCK9tLmCF2HmiKAO2\n",
       "Z+RoaEofKGu/VM6tOCWNT8ZpLWPEVPzieHDy9buAvBDSmSo4U7XZPYVJnj+kCvTW9rL1tVnYAtge\n",
       "WAoZPXyrqutLftQy7JCEuIDG13wyQvYQ5T0itN4R7qwkPEZ//BCvHUOgci3X1fQxJfJvXeCz52sS\n",
       "fiH85paedzt/5O4LArdN7ZDw6Q8o6trDaK8+k0DoE2AxANyqJef27+H08FgKX/ISQ1yuKZph/n3D\n",
       "z6UFd7IYRWFVMe+VQuIrUvcHJfA5m8mh975CuvZ41iEkVw9HdbhAeRqpmLBSpu4MnPx1sdQa2Pf2\n",
       "RfMXoqWh7fsw+YnWel2B9T6f+eBmZFvktGrSNCYHu4OmXcwGPqAUjWPkwtOE3nkF0X50KbM3OHma\n",
       "cJTH8B9wFOO7HbbpICGBMA+qCuqUYNIKNeazRN7PEL/ZP+7ReV1GRPcDoa23GdrOfdwA0ce6wO4Q\n",
       "/vq4fb4SX8eORztXC0c2370hcyHTFgrDCd1wNro7zmzNFc+TA/xxBpyf0iJr88AoyPktfFgxZ1Lq\n",
       "oT0pNJshDJ6m/wMXPbTtO9hRVCc2I5AUDoJ2d8Rl9rNA9hGGRUiJqyOWO+7zBwmCF5N1kYXoMkfT\n",
       "GAvTgq8prk/vYLPBfU92fC/T9nDtmJU6tIDzBjJkR0GpRVSvUGaN4Uf8neTD1NQEvzUj16qKtXt5\n",
       "m1G300p7OAD2Nu+Fpst9FQTuxdWmkekpcQD5bFmXfvEkUzdVEWc6nv/9D8AHIiZT9KzyqzyBfRqE\n",
       "4xl7o8Jbp29ZaP7qighfCf2sg56QsxLmAvYOb/9uYA6o00hDOR9OF4BGvMLlKoX9cJNNXnfF0xT7\n",
       "ryIaPwkDJejAP5tLi28yYlVAq8nsEl7RRafA05WUQ/jksH0xgRVhcKnH07jOBei8Oi9E4mX3zvUl\n",
       "xE+46u90PtKx/YnKlXlbUMsOMkE4y2tT+qH0jKcxeT8wtD5SitvUeG9AH82T6Ecbe9u0bZOAS2AP\n",
       "sN4gLV1TrjdPdtW3nzOXNCvd/9y14sbdb5rNOnsoc5RNa4pzQ59/L6a6kIauJqznwJmanojQaWpG\n",
       "5d6A+F2ffrxDGt2YC5htcO6/wC/3q8VQQDHlR3TWANRVMhqv0VfBE8f1M7+A1xkvP+dMv8t+/Wl+\n",
       "/7Vw3sFsI8WEi/HW4w7X547PQG8vpikWNAmsih9X0V+ndC32lYjJd/cxBD5j98+VtSowN2esGTnd\n",
       "HcZHSlvcg4xu38neZN02CajzgJLtPfoP8wy2YHp6lQNvEHvo2u5YZVw47WKrsMjyTEhZ7zamTJI1\n",
       "VTRVJ4XaIJiZ+p5kOyVXwJEc4caHx/flvBC2HXS7y6/1AZiywaPO6NTAQd4EqxcAMnyHbcQ28huB\n",
       "E0VGwtU9NlJayW3/B2bWfmS8JqsezeOH6DTbpMf2yRCBUt1HGa6P7VXqlK4CIi0leHrjAjcX6EeA\n",
       "bOkLsYCjRshiNwO2GS1xM+L3vqRg4qxVxIoJ2BkwsKv/dRQkIm68OB0SnR+D9Ic4a2exVlUql9YM\n",
       "RFkkg9jV8tuPYx+Wq9IvAJfbk1WxDkKSdFh1UZdWRdX+0Dar0IBh9srXRvU5dT+meIbTmRWoXtka\n",
       "32bExhUOOPYPSGgnsJRyJnF2Bpi+vCKaeCMzu7begFkM0iK3hbcKURWfZ6QGm5LpVfNZ3wb50GF2\n",
       "TTVB9DHRG5RRGSRwf1Bkp2D1ajnaEWiezSO7+j0f8c6q4fvx8KQoCiL9MEQXGQ1EUTTtp2Wts+RA\n",
       "3fcDJgBPu5RHW3RFnhQ1r53OQiOIhM/4d+1wnZ5ADnVYYsZ5O3jlDc896xpCvb1c1fCMkjmlhZE3\n",
       "3JIiM+rOpBNr7+nYxw4wKGclIRtPpgB+W63a/ZHdOiE/1+a1gWY3QtvEWFGJY4vMD0qnI46n2zjx\n",
       "hT7O9E/9teQ6HmntbQkD2QIXdKy7nVfEpjamg/UYSZgcmzDRJhq3IzjH/cJD3cxRQTWfrVPEHova\n",
       "y3KQsL/LuDWL1rhS9nGFYo2jK1DXhKKLcAQfq0ABJe9yAAdS7Zae/ToVuxZ5AAAB6UGaJGxDP/6e\n",
       "EANz7HggpfwBu86G8kVPZnTC+oDU3XxbQh+iVMs4NWSFdAJTjLcpmf8buVAa3SMy8ZI7lz3fFdJZ\n",
       "n39oYkar+me2VV34jXDqh0PdgTRcP9VKEokxPfAK3aFMp9c2E+HWjwwJRvSuJ1SFGsRf4qc7HZZP\n",
       "wuo39ZRyCs/mPCreBuVFtrFFTrAYRDoR331D+HX0aooYILgPhYqlSasCahDlLRUaHqZhbsYoj55s\n",
       "rQkSqf1ZPB2gmzApIPfvHBXBdntZoHfosxV696Jm4GI1icymPmN3/vyrPZaTgAVQST5wa7hTvZ8s\n",
       "1r1h5DuuCvgWu9bRYW0RxG0Uj2XzPOOiC3BWFXUuvF+XKVxrNY8WUYQ0by9imDHCX0Kpz6sMajbq\n",
       "w5DUyA5BOAmwyeidsKDC0VFbqo7WUeabJJKRUbuiEBsmX0TrYpujDhQSTMp6KwXz1M/8rZeS02G6\n",
       "kAQWSpvSHkU9RGe6NPPOHeiy1IFIDGz6OOL+F+UukG2mxO1sIhQLa84G45Rpx8GECrP5IK5ajNeD\n",
       "lJEdSisWSRr89+Pw4IpRrslbH6Kr26ofp6Lgh03U2JUm5XTwXQeJz+NQnh3qwM3lvGbV2TSiJOvL\n",
       "i5mcVRQvPNDI9ZlWh2/GrFJANJVV4/YTMgAAADhBnkJ4hH8BGlFQht2FcM8YAWecW5JiPhkkj+S0\n",
       "xb+RWvHcjj8EeMPZ8zBU9+65T3gz9h1ke3pVQQAAAC4BnmF0R/8BxIo2igK4flkxqSW9aE5LQ1FE\n",
       "jPQ9+G575ENk9/EAjqe51c8O7DDxAAAAGwGeY2pH/wHFgBr/6FEDNQ54q7ptROPYcpuMIAAAAGZB\n",
       "mmhJqEFomUwIZ//+nhADc+x4V5QbkgKNUVrQG7oHVfwjlQ3gAe2E+1fntfaZee2cpuRXMs6ehm3S\n",
       "rVI0mtYezWfRwBnJdeXqdV42fLFEUb/3+Z6fU8tVhGSrgi1qceHiNLaxI7UAAAAqQZ6GRREsI/8B\n",
       "HYGcL6zQA2IQu9t2Jl12G5vXjugSwWLhrXiTwdAa02eBAAAAHgGepXRH/wHEin+9FMAHEBzLWc3A\n",
       "SfJu9lfyVy/r6gAAABMBnqdqR/8ALFmsdhTbYb/AF4HxAAAAZEGarEmoQWyZTAhn//6eEABWM49w\n",
       "A5YqeuwMj7O3mXo8M5k6Qr8JKAzFb4fSxXlIYuYfr/VbZTFIVtcEvY0VF787djel0A4CT+oWiMh1\n",
       "kG1/3V5Thpu487r3eVuC1xnyrqaXmpMAAAAaQZ7KRRUsI/8AG6H97D8RVs83wmIrm4folaEAAAAS\n",
       "AZ7pdEf/ACxC5LKnlhu3QsNNAAAADwGe62pH/wAA4sAjIb4+DwAAACJBmvBJqEFsmUwIZ//+nhAA\n",
       "U/N7wANnPJwcEir+p5KoNIARAAAAEkGfDkUVLCP/AACPFQi+qSrBwAAAAA8Bny10R/8AAOJFWNQ4\n",
       "fBwAAAAPAZ8vakf/AADiwCMiN8mBAAAAHkGbNEmoQWyZTAhn//6eEAAA3L8ESAK2nLLGo0xtMAAA\n",
       "ABFBn1JFFSwj/wAAjxUIvrVvNAAAAA8Bn3F0R/8AAOJFWNWzO4EAAAAPAZ9zakf/AADiwCMiN8mB\n",
       "AAAARkGbeEmoQWyZTAhn//6eEACoJFJJADkj0KNQZc2usP+Vbp+JB/H5gr4hDauryYCdOw+I77VK\n",
       "Ye49MmnBR2UqlORZyVbSAh8AAAAWQZ+WRRUsI/8ANgU1X57c0LAAgMVtwAAAABABn7V0R/8AKyLk\n",
       "tSeWG67DAAAADwGft2pH/wAA4sAjIjfJgQAAAEFBm7xJqEFsmUwIZ//+nhAAqDChDAJr61GG3g9I\n",
       "LjnMgMnIDUuwDB2qcc0eVTsNm9DWMDbafETzWBvO4zUq+1SLgAAAABFBn9pFFSwj/wAAjxUIvrVv\n",
       "NAAAABABn/l0R/8AFH9GkiH1W19/AAAAEQGf+2pH/wAUggikmELa2dhgAAAAE0Gb4EmoQWyZTAhn\n",
       "//6eEAAAB00AAAATQZ4eRRUsI/8ADOXzhaeqtufzkwAAABABnj10R/8AFHFykieWG67DAAAAEQGe\n",
       "P2pH/wAUfNZt8Kts12GBAAAAE0GaJEmoQWyZTAhn//6eEAAAB0wAAAATQZ5CRRUsI/8ADObwDMCV\n",
       "bU/nJwAAABABnmF0R/8AFHFykieWG67DAAAAEQGeY2pH/wAUfNZt8Kts12GAAAAAI0GaaEmoQWyZ\n",
       "TAhn//6eEABRtZuAAQ+sTeuK8XC5LgXrxYOOAAAAE0GehkUVLCP/AAzm8AzAlW1P5ycAAAAQAZ6l\n",
       "dEf/ABRxcpInlhuuwwAAABEBnqdqR/8AFHzWbfCrbNdhgQAAADFBmqxJqEFsmUwIZ//+nhAAU/N7\n",
       "wAOPbtWh5se76yp4hGHumqGckg8Ld9fCRBxxyYKSAAAAGEGeykUVLCP/ABsJg9IKcy497YwDT3NA\n",
       "KQAAABABnul0R/8AFHFykieWG67DAAAAEQGe62pH/wAUfNZt8Kts12GBAAAAPkGa8EmoQWyZTAhn\n",
       "//6eEABT80HgCJj7haOFGUI/ZtnSm6yB7+4PKImOQbvhy1PYIgobeBJhvXxq/Kf+JwTdAAAAE0Gf\n",
       "DkUVLCP/AAzm8AzAlW1P5yYAAAAQAZ8tdEf/ABRxcpInlhuuwwAAABIBny9qR/8AKyoP5AnhV4Ug\n",
       "KZsAAABRQZs0SahBbJlMCGf//p4QAFPydGAIfEPENxLYJx1mUmmEmmCrFccUdPkQIpUsY3w/eJme\n",
       "y24ROQm1++KH6qvvcuN0vgZH4cOBzg/+XVAtxYN6AAAAH0GfUkUVLCP/ABsJweADuGMirisfiZgU\n",
       "h62NVQ0Sy8AAAAAPAZ9xdEf/ABR/RpEa20NtAAAAGgGfc2pH/wAq9kG0gAhCdxTvDcqTJoO63mLh\n",
       "AAAANEGbeEmoQWyZTAhn//6eEABT8r44ArTsPzIxNzOO8Lr7WJhHmtihXZnjaK3hkZpbbtq0MGEA\n",
       "AAAVQZ+WRRUsI/8AGwKccH3CfubTen9SAAAAEAGftXRH/wArIuS1J5YbrsMAAAAPAZ+3akf/AADi\n",
       "wCMiN8mBAAAAhkGbvEmoQWyZTAhf//6MsABW8dtgE0onB8qgrD9Wv35/w8BOwAW4ueE7S6LclxZ7\n",
       "cd1iEfKczYiComZ1TvqUpD8DMiuy8qW3bZ+i2grEHZ0n2cPI5Ty2vCI2Eg5sPtp5bTtSnofQTzLR\n",
       "eINAKHI/n7FW6K4mcRFJH2hTf9n9uCn9nw1X9NF5AAAAGUGf2kUVLCP/ABupfouH5fQnbzjZdpH+\n",
       "yzAAAAAZAZ/5dEf/ACskqBABD8GvjVi0tah2lPeqwQAAABIBn/tqR/8AFiuovmUGmGd92GAAAAA0\n",
       "QZvgSahBbJlMCF///oywACt+ddnD2sAbeSnD4S1DuKOuGZQICDg9GS00eFqIIlCCFZiDgQAAACBB\n",
       "nh5FFSwj/wAN3bigCCBtZKJjPwF1DfLXlkGjtf3pQQAAABYBnj10R/8AFjzjAAsf5XQOIqo08QNA\n",
       "AAAAFwGeP2pH/wAWPOMACvaI7XKhThyTuBthAAAAQUGaJEmoQWyZTAhf//6MsAAroad/oPgA5YpN\n",
       "Oip9ud9qYqcQIR28LeC+ItTZYy9Yd5dUzvLOToLkh3zbR8A5yzEHAAAAH0GeQkUVLCP/AA3LjuuT\n",
       "cUAQhFRvaH+Zvnx1pIewI5MAAAASAZ5hdEf/ABYXDHMkrztnxVmBAAAAEAGeY2pH/wAWLNZmFNsK\n",
       "zkwAAAAtQZplSahBbJlMCF///oywAFb+zVyzsgC/21FvlC6dDXAo697Eg/MrIm/7Hg44AAAAQ0Ga\n",
       "iUnhClJlMCF//oywACuMCGnwAdDaV0omNoYCtAe/RwEMUyxj0T2auKkTAd5FGNDM8llQp6mLmGdL\n",
       "pFdRq08ZiDkAAAAYQZ6nRTRMI/8ADarjygA3NItNpJ69e0HpAAAADAGexnRH/wAWIXIpoQAAABUB\n",
       "nshqR/8AFi2mYAEsHHPBhAt8RcQAAABtQZrNSahBaJlMCF///oywAFSywhAEe9Sg/l2giQb5L/uD\n",
       "YOKNe3wpJmsPJRZv2bJLWNnmGlxBfO2dLLoVJmSvW8XW/noWEaZBXWVOYVuUyXcmckICEQl9Ziqz\n",
       "VYgp+Qv8Ej+6p4DpIgHJH8kbUQAAACVBnutFESwj/wAbCZJzbGWptAAhhDWKbORuLUrS4PIs2Nlz\n",
       "65C/AAAAFwGfCnRH/wAWKMxufAAhAtCQfIL91gjZAAAADgGfDGpH/wArOZ178yFhAAAAKkGbDkmo\n",
       "QWyZTAhn//6eEABT8r44AiYlzMZVD33KkfelvOX80tSNFEDAgAAAADdBmzJJ4QpSZTAhn/6eEABT\n",
       "8bjgCmYBwx+azW3NL2ZJQQjKcbbReRb8gau8wRdFTQWdZheJ0QMCAAAADkGfUEU0TCP/ABsCnVE7\n",
       "AAAAEwGfb3RH/wArUxwAG0AGbepIPmAAAAALAZ9xakf/AAADA7oAAABEQZt2SahBaJlMCF///oyw\n",
       "AFSw+wA3UpEybZdXNlCVEnVDPqk+BJ4LoknTCKLIS5QUI88Wwu4eqIp0rocnk1ZtlsgxQd0AAAAY\n",
       "QZ+URREsI/8AGnmjoAHDLKwFLhx+ARGDAAAADAGfs3RH/wAqHoxRtQAAAAsBn7VqR/8AAAMDugAA\n",
       "AFJBm7pJqEFsmUwIX//+jLAAVLHbYA5P2HlF/bjsIzP951qdku4COaz7BX1vh8WZx2tJAdjVDAa+\n",
       "HmPuFlHL9HhZlelThayBCbQkruCixNr0aMK+AAAAEEGf2EUVLCP/ABsJfrpgUUEAAAAMAZ/3dEf/\n",
       "ACoC5FG1AAAACwGf+WpH/wAAAwO6AAAAOkGb/kmoQWyZTAhf//6MsABUssIQBbaTtarbhiPFnxo+\n",
       "IvXojQ5gbCu/Z+3R8/jJtJko7Dpdpx8gqYEAAAAPQZ4cRRUsI/8AGvAyz4asAAAADAGeO3RH/wAr\n",
       "IuRRqwAAAAwBnj1qR/8AKzmsIXkAAAAuQZo/SahBbJlMCGf//p4QAFPyvjgCma1ZUo9KlY+rr7xz\n",
       "J9xo5sjpaKvcXoWDegAAAElBmkNJ4QpSZTAhn/6eEABWM0HgBua1OgbBiUWzSYxJA/eX2+QN2JY2\n",
       "6XZh7WROzSD9UEP5M4tO5Cbc4WpmD2D43uMOtV/PJgoJAAAAG0GeYUU0TCP/ABt1JCAABdAcAcoo\n",
       "bgxo2FsCdgAAAAwBnoB0R/8AKyLkUasAAAALAZ6Cakf/AAADA7sAAABFQZqHSahBaJlMCGf//p4Q\n",
       "AFYz1/ADjGbriX0w1dqyLAQ64c3a8ZnWRT83+K3vgFSQVNfney5k/vx4ksvLkd/H26aHTgl4AAAA\n",
       "GUGepUURLCP/ABt8j7wABOnUY1hORhTQPSAAAAALAZ7EdEf/AAADA7sAAAALAZ7Gakf/AAADA7oA\n",
       "AABUQZrLSahBbJlMCGf//p4QAFZLIXAEauFuNJZQhaIy+rEvVIkoZ2YlgLE0aRpUdBltqwzJC14E\n",
       "1wlVWSWHjsjSklokzjSkS3yFB72/hL8hfin2qDjhAAAAEEGe6UUVLCP/ABtVfj22TAgAAAATAZ8I\n",
       "dEf/ACxEroAAk/WAxYQuIQAAABUBnwpqR/8ALEvcwAmmGpcEOfE1JgUAAAATQZsPSahBbJlMCGf/\n",
       "/p4QAAAHTQAAAA1Bny1FFSwj/wAAAwJfAAAACwGfTHRH/wAAAwO6AAAACwGfTmpH/wAAAwO6AAAA\n",
       "O0GbU0moQWyZTAhn//6eEAArGce4AbRD8dFV8vd3+AA/6vLkQsMX1ycTFUCO6vVNkeZunGk1RgQu\n",
       "TCghAAAAD0GfcUUVLCP/AA2Ex/xqwAAAAAsBn5B0R/8AAAMDugAAAA4Bn5JqR/8AFizCYGCNgQAA\n",
       "AEJBm5dJqEFsmUwIZ//+nhAAKfqqnACKxDOBAxhnFZ5c3b/k2s1rollAjiIlhyDA1uFQuxn1X5QU\n",
       "6RlQnd3css8WDAkAAAAVQZ+1RRUsI/8ADXoVQBAALSgIQpOxAAAAEAGf1HRH/wAVhxYhU0YmCRgA\n",
       "AAANAZ/Wakf/ABUSCIptQAAAAChBm9tJqEFsmUwIZ//+nhAAKfm94AGxqq781ndrgIbH1grBXPV+\n",
       "UQYFAAAAEEGf+UUVLCP/AA2BP7MUFFAAAAALAZ4YdEf/AAADA7oAAAALAZ4aakf/AAADA7sAAABg\n",
       "QZofSahBbJlMCGf//p4QAFPxuOAIkNRjW3IAWhnF7K2gVK5y4jF3rwYHUSaEZfl0/2mOxpjaYZkR\n",
       "aTvbUmXBqeX044s50303AI8kyulC5s+vvFC/TY8baGHxhL+i2K+AAAAAH0GePUUVLCP/ABsJ3XgB\n",
       "bgyTC+dCql7ZKvufYyNQBbUAAAAMAZ5cdEf/ABWRcimrAAAADwGeXmpH/wAqGbS9DrUqFgAAACxB\n",
       "mkNJqEFsmUwIZ//+nhAAU/G44AiMtcdPkscszo3FrWO5CMlxKs6bd5gr4QAAAA1BnmFFFSwj/wAA\n",
       "AwJeAAAACwGegHRH/wAAAwO7AAAACwGegmpH/wAAAwO7AAAAIkGah0moQWyZTAhf//6MsABUsk7A\n",
       "ES/AhYQDZIAaX58gqYAAAAANQZ6lRRUsI/8AAAMCXgAAAAsBnsR0R/8AAAMDuwAAAAsBnsZqR/8A\n",
       "AAMDugAAADJBmstJqEFsmUwIX//+jLAAVLL2jACLeff/C4xWdPMD1NRpq5wU3IW5XU9sIUr/9DCN\n",
       "gQAAAA5BnulFFSwj/wAbAp1ROwAAAA0Bnwh0R/8AKyLe0BkLAAAACwGfCmpH/wAAAwO7AAAAIEGb\n",
       "D0moQWyZTAhf//6MsAAqWdqwAbeK41FZKs/xDDKhAAAADUGfLUUVLCP/AAADAl8AAAALAZ9MdEf/\n",
       "AAADA7oAAAALAZ9Oakf/AAADA7oAAAAUQZtTSahBbJlMCE///fEAAAMARcEAAAANQZ9xRRUsI/8A\n",
       "AAMCXgAAAAsBn5B0R/8AAAMDugAAAAsBn5JqR/8AAAMDuwAAABNBm5VJqEFsmUwUTH/8hAAAAwGz\n",
       "AAAACwGftGpH/wAAAwO7AAAV2m1vb3YAAABsbXZoZAAAAAAAAAAAAAAAAAAAA+gAAB9AAAEAAAEA\n",
       "AAAAAAAAAAAAAAABAAAAAAAAAAAAAAAAAAAAAQAAAAAAAAAAAAAAAAAAQAAAAAAAAAAAAAAAAAAA\n",
       "AAAAAAAAAAAAAAAAAAAAAAIAABUEdHJhawAAAFx0a2hkAAAAAwAAAAAAAAAAAAAAAQAAAAAAAB9A\n",
       "AAAAAAAAAAAAAAAAAAAAAAABAAAAAAAAAAAAAAAAAAAAAQAAAAAAAAAAAAAAAAAAQAAAAAGwAAAB\n",
       "IAAAAAAAJGVkdHMAAAAcZWxzdAAAAAAAAAABAAAfQAAAAgAAAQAAAAAUfG1kaWEAAAAgbWRoZAAA\n",
       "AAAAAAAAAAAAAAAAMgAAAZAAVcQAAAAAAC1oZGxyAAAAAAAAAAB2aWRlAAAAAAAAAAAAAAAAVmlk\n",
       "ZW9IYW5kbGVyAAAAFCdtaW5mAAAAFHZtaGQAAAABAAAAAAAAAAAAAAAkZGluZgAAABxkcmVmAAAA\n",
       "AAAAAAEAAAAMdXJsIAAAAAEAABPnc3RibAAAALNzdHNkAAAAAAAAAAEAAACjYXZjMQAAAAAAAAAB\n",
       "AAAAAAAAAAAAAAAAAAAAAAGwASAASAAAAEgAAAAAAAAAAQAAAAAAAAAAAAAAAAAAAAAAAAAAAAAA\n",
       "AAAAAAAAAAAAABj//wAAADFhdmNDAWQAHv/hABhnZAAerNlBsJaEAAADAAQAAAMBkDxYtlgBAAZo\n",
       "6+PLIsAAAAAcdXVpZGtoQPJfJE/FujmlG88DI/MAAAAAAAAAGHN0dHMAAAAAAAAAAQAAAZAAAAEA\n",
       "AAAAGHN0c3MAAAAAAAAAAgAAAAEAAAD7AAAMeGN0dHMAAAAAAAABjQAAAAIAAAIAAAAAAQAABQAA\n",
       "AAABAAACAAAAAAEAAAAAAAAAAQAAAQAAAAABAAACAAAAAAEAAAUAAAAAAQAAAgAAAAABAAAAAAAA\n",
       "AAEAAAEAAAAAAgAAAgAAAAABAAAFAAAAAAEAAAIAAAAAAQAAAAAAAAABAAABAAAAAAEAAAIAAAAA\n",
       "AQAABQAAAAABAAACAAAAAAEAAAAAAAAAAQAAAQAAAAABAAAFAAAAAAEAAAIAAAAAAQAAAAAAAAAB\n",
       "AAABAAAAAAEAAAUAAAAAAQAAAgAAAAABAAAAAAAAAAEAAAEAAAAAAQAAAgAAAAABAAAFAAAAAAEA\n",
       "AAIAAAAAAQAAAAAAAAABAAABAAAAAAEAAAUAAAAAAQAAAgAAAAABAAAAAAAAAAEAAAEAAAAAAQAA\n",
       "BQAAAAABAAACAAAAAAEAAAAAAAAAAQAAAQAAAAABAAAFAAAAAAEAAAIAAAAAAQAAAAAAAAABAAAB\n",
       "AAAAAAEAAAUAAAAAAQAAAgAAAAABAAAAAAAAAAEAAAEAAAAAAQAABQAAAAABAAACAAAAAAEAAAAA\n",
       "AAAAAQAAAQAAAAABAAAFAAAAAAEAAAIAAAAAAQAAAAAAAAABAAABAAAAAAEAAAUAAAAAAQAAAgAA\n",
       "AAABAAAAAAAAAAEAAAEAAAAAAQAABQAAAAABAAACAAAAAAEAAAAAAAAAAQAAAQAAAAABAAAFAAAA\n",
       "AAEAAAIAAAAAAQAAAAAAAAABAAABAAAAAAEAAAUAAAAAAQAAAgAAAAABAAAAAAAAAAEAAAEAAAAA\n",
       "AQAABQAAAAABAAACAAAAAAEAAAAAAAAAAQAAAQAAAAABAAAFAAAAAAEAAAIAAAAAAQAAAAAAAAAB\n",
       "AAABAAAAAAEAAAUAAAAAAQAAAgAAAAABAAAAAAAAAAEAAAEAAAAAAQAABQAAAAABAAACAAAAAAEA\n",
       "AAAAAAAAAQAAAQAAAAABAAAFAAAAAAEAAAIAAAAAAQAAAAAAAAABAAABAAAAAAEAAAUAAAAAAQAA\n",
       "AgAAAAABAAAAAAAAAAEAAAEAAAAAAQAABQAAAAABAAACAAAAAAEAAAAAAAAAAQAAAQAAAAABAAAF\n",
       "AAAAAAEAAAIAAAAAAQAAAAAAAAABAAABAAAAAAEAAAUAAAAAAQAAAgAAAAABAAAAAAAAAAEAAAEA\n",
       "AAAAAQAABQAAAAABAAACAAAAAAEAAAAAAAAAAQAAAQAAAAABAAAFAAAAAAEAAAIAAAAAAQAAAAAA\n",
       "AAABAAABAAAAAAEAAAUAAAAAAQAAAgAAAAABAAAAAAAAAAEAAAEAAAAAAQAABQAAAAABAAACAAAA\n",
       "AAEAAAAAAAAAAQAAAQAAAAABAAAFAAAAAAEAAAIAAAAAAQAAAAAAAAABAAABAAAAAAEAAAUAAAAA\n",
       "AQAAAgAAAAABAAAAAAAAAAEAAAEAAAAAAQAABQAAAAABAAACAAAAAAEAAAAAAAAAAQAAAQAAAAAB\n",
       "AAACAAAAAAEAAAUAAAAAAQAAAgAAAAABAAAAAAAAAAEAAAEAAAAAAQAABQAAAAABAAACAAAAAAEA\n",
       "AAAAAAAAAQAAAQAAAAABAAACAAAAAAEAAAUAAAAAAQAAAgAAAAABAAAAAAAAAAEAAAEAAAAAAQAA\n",
       "BQAAAAABAAACAAAAAAEAAAAAAAAAAQAAAQAAAAABAAAFAAAAAAEAAAIAAAAAAQAAAAAAAAABAAAB\n",
       "AAAAAAEAAAUAAAAAAQAAAgAAAAABAAAAAAAAAAEAAAEAAAAAAQAABQAAAAABAAACAAAAAAEAAAAA\n",
       "AAAAAQAAAQAAAAABAAAFAAAAAAEAAAIAAAAAAQAAAAAAAAABAAABAAAAAAEAAAUAAAAAAQAAAgAA\n",
       "AAABAAAAAAAAAAEAAAEAAAAAAQAABQAAAAABAAACAAAAAAEAAAAAAAAAAQAAAQAAAAABAAAFAAAA\n",
       "AAEAAAIAAAAAAQAAAAAAAAABAAABAAAAAAEAAAUAAAAAAQAAAgAAAAABAAAAAAAAAAEAAAEAAAAA\n",
       "AQAABQAAAAABAAACAAAAAAEAAAAAAAAAAQAAAQAAAAABAAAFAAAAAAEAAAIAAAAAAQAAAAAAAAAB\n",
       "AAABAAAAAAEAAAUAAAAAAQAAAgAAAAABAAAAAAAAAAEAAAEAAAAAAQAABQAAAAABAAACAAAAAAEA\n",
       "AAAAAAAAAQAAAQAAAAABAAAFAAAAAAEAAAIAAAAAAQAAAAAAAAABAAABAAAAAAEAAAUAAAAAAQAA\n",
       "AgAAAAABAAAAAAAAAAEAAAEAAAAAAQAABQAAAAABAAACAAAAAAEAAAAAAAAAAQAAAQAAAAABAAAF\n",
       "AAAAAAEAAAIAAAAAAQAAAAAAAAABAAABAAAAAAEAAAUAAAAAAQAAAgAAAAABAAAAAAAAAAEAAAEA\n",
       "AAAAAQAABQAAAAABAAACAAAAAAEAAAAAAAAAAQAAAQAAAAABAAAFAAAAAAEAAAIAAAAAAQAAAAAA\n",
       "AAABAAABAAAAAAEAAAUAAAAAAQAAAgAAAAABAAAAAAAAAAEAAAEAAAAAAQAABQAAAAABAAACAAAA\n",
       "AAEAAAAAAAAAAQAAAQAAAAABAAAFAAAAAAEAAAIAAAAAAQAAAAAAAAABAAABAAAAAAEAAAUAAAAA\n",
       "AQAAAgAAAAABAAAAAAAAAAEAAAEAAAAAAgAAAgAAAAABAAAFAAAAAAEAAAIAAAAAAQAAAAAAAAAB\n",
       "AAABAAAAAAEAAAUAAAAAAQAAAgAAAAABAAAAAAAAAAEAAAEAAAAAAQAABQAAAAABAAACAAAAAAEA\n",
       "AAAAAAAAAQAAAQAAAAABAAAFAAAAAAEAAAIAAAAAAQAAAAAAAAABAAABAAAAAAEAAAUAAAAAAQAA\n",
       "AgAAAAABAAAAAAAAAAEAAAEAAAAAAQAABQAAAAABAAACAAAAAAEAAAAAAAAAAQAAAQAAAAABAAAF\n",
       "AAAAAAEAAAIAAAAAAQAAAAAAAAABAAABAAAAAAEAAAUAAAAAAQAAAgAAAAABAAAAAAAAAAEAAAEA\n",
       "AAAAAQAABQAAAAABAAACAAAAAAEAAAAAAAAAAQAAAQAAAAABAAAFAAAAAAEAAAIAAAAAAQAAAAAA\n",
       "AAABAAABAAAAAAEAAAUAAAAAAQAAAgAAAAABAAAAAAAAAAEAAAEAAAAAAQAABQAAAAABAAACAAAA\n",
       "AAEAAAAAAAAAAQAAAQAAAAABAAAFAAAAAAEAAAIAAAAAAQAAAAAAAAABAAABAAAAAAEAAAUAAAAA\n",
       "AQAAAgAAAAABAAAAAAAAAAEAAAEAAAAAAQAABQAAAAABAAACAAAAAAEAAAAAAAAAAQAAAQAAAAAB\n",
       "AAAFAAAAAAEAAAIAAAAAAQAAAAAAAAABAAABAAAAAAEAAAUAAAAAAQAAAgAAAAABAAAAAAAAAAEA\n",
       "AAEAAAAAAQAAAgAAAAABAAAFAAAAAAEAAAIAAAAAAQAAAAAAAAABAAABAAAAAAEAAAUAAAAAAQAA\n",
       "AgAAAAABAAAAAAAAAAEAAAEAAAAAAQAAAgAAAAABAAAFAAAAAAEAAAIAAAAAAQAAAAAAAAABAAAB\n",
       "AAAAAAEAAAUAAAAAAQAAAgAAAAABAAAAAAAAAAEAAAEAAAAAAQAABQAAAAABAAACAAAAAAEAAAAA\n",
       "AAAAAQAAAQAAAAABAAAFAAAAAAEAAAIAAAAAAQAAAAAAAAABAAABAAAAAAEAAAIAAAAAAQAABQAA\n",
       "AAABAAACAAAAAAEAAAAAAAAAAQAAAQAAAAABAAAFAAAAAAEAAAIAAAAAAQAAAAAAAAABAAABAAAA\n",
       "AAEAAAUAAAAAAQAAAgAAAAABAAAAAAAAAAEAAAEAAAAAAQAABQAAAAABAAACAAAAAAEAAAAAAAAA\n",
       "AQAAAQAAAAABAAAFAAAAAAEAAAIAAAAAAQAAAAAAAAABAAABAAAAAAEAAAUAAAAAAQAAAgAAAAAB\n",
       "AAAAAAAAAAEAAAEAAAAAAQAABQAAAAABAAACAAAAAAEAAAAAAAAAAQAAAQAAAAABAAAFAAAAAAEA\n",
       "AAIAAAAAAQAAAAAAAAABAAABAAAAAAEAAAUAAAAAAQAAAgAAAAABAAAAAAAAAAEAAAEAAAAAAQAA\n",
       "BQAAAAABAAACAAAAAAEAAAAAAAAAAQAAAQAAAAABAAAFAAAAAAEAAAIAAAAAAQAAAAAAAAABAAAB\n",
       "AAAAAAEAAAUAAAAAAQAAAgAAAAABAAAAAAAAAAEAAAEAAAAAAQAABQAAAAABAAACAAAAAAEAAAAA\n",
       "AAAAAQAAAQAAAAABAAADAAAAAAEAAAEAAAAAHHN0c2MAAAAAAAAAAQAAAAEAAAGQAAAAAQAABlRz\n",
       "dHN6AAAAAAAAAAAAAAGQAAA07QAAAq0AAAC0AAAAPwAAAC8AAAA0AAAASgAAAIQAAAAwAAAAJAAA\n",
       "ACQAAABQAAAAQQAAAHAAAAAnAAAAIQAAACIAAAA4AAAAXwAAADMAAAAbAAAAJQAAAHEAAAAyAAAA\n",
       "IAAAACIAAACFAAAAMAAAABkAAAAcAAAALgAAAGMAAAAzAAAAHwAAABYAAABxAAAAMgAAABsAAAAZ\n",
       "AAAASgAAADQAAAAhAAAAIwAAAF8AAAA3AAAAGwAAACIAAABnAAAAJAAAACAAAAAgAAAAQgAAACoA\n",
       "AAAWAAAAFgAAAHYAAAA1AAAAIQAAAB0AAAA/AAAAJwAAABcAAAAaAAAAKwAAACEAAAAWAAAAFgAA\n",
       "AD8AAAArAAAAIQAAABkAAAAzAAAALwAAABkAAAAaAAAARgAAAC8AAAAZAAAAGwAAADwAAAAuAAAA\n",
       "GgAAACQAAAA5AAAALAAAACQAAAAaAAAAVQAAAC0AAAAlAAAAHAAAAFYAAAAxAAAAIwAAABsAAABk\n",
       "AAAALwAAACoAAAAaAAAANwAAACYAAAAYAAAAGAAAADAAAAAmAAAAHAAAABkAAAA9AAAAMAAAABYA\n",
       "AAAkAAAARQAAAC8AAAAmAAAAGQAAAEMAAAApAAAAGgAAABsAAABeAAAAMAAAACUAAAAeAAAATQAA\n",
       "ACwAAAAjAAAAHgAAACYAAAAjAAAAHAAAABgAAAAxAAAAJAAAABsAAAAYAAAAWQAAADIAAAAWAAAA\n",
       "GwAAADkAAAA0AAAAJAAAABwAAAAaAAAAUQAAADAAAAAjAAAAHAAAACsAAAA6AAAAKwAAABgAAAAW\n",
       "AAAAWAAAAC4AAAAiAAAAGwAAAGIAAAA2AAAAIgAAABwAAABwAAAALQAAACUAAAAkAAAAPQAAAC4A\n",
       "AAAeAAAAGwAAAGUAAAAuAAAAJQAAACQAAABEAAAALAAAACIAAAAhAAAAOwAAACAAAAAYAAAAGQAA\n",
       "AEIAAAAtAAAAGAAAABoAAAAwAAAAKQAAABgAAAAWAAAATgAAACgAAAAYAAAAFgAAAEAAAAAkAAAA\n",
       "GQAAABgAAAA9AAAAKwAAABYAAAAWAAAAdwAAADAAAAAgAAAAIQAAAFEAAAAsAAAAFgAAABgAAABG\n",
       "AAAAIwAAABYAAAAgAAAAYQAAACwAAAAaAAAAGQAAAEoAAAAsAAAAIQAAACAAAABMAAAAKgAAAB8A\n",
       "AAAYAAAAWwAAACEAAAAYAAAAGAAAAEoAAAAiAAAAFgAAABYAAAAoAAAAIAAAABYAAAAWAAAAIQAA\n",
       "AB8AAAAWAAAAFgAAADUAAAAgAAAAFgAAABYAAAA1AAAAHwAAABYAAAAWAAAAHwAAQnIAAAHtAAAA\n",
       "PAAAADIAAAAfAAAAagAAAC4AAAAiAAAAFwAAAGgAAAAeAAAAFgAAABMAAAAmAAAAFgAAABMAAAAT\n",
       "AAAAIgAAABUAAAATAAAAEwAAAEoAAAAaAAAAFAAAABMAAABFAAAAFQAAABQAAAAVAAAAFwAAABcA\n",
       "AAAUAAAAFQAAABcAAAAXAAAAFAAAABUAAAAnAAAAFwAAABQAAAAVAAAANQAAABwAAAAUAAAAFQAA\n",
       "AEIAAAAXAAAAFAAAABYAAABVAAAAIwAAABMAAAAeAAAAOAAAABkAAAAUAAAAEwAAAIoAAAAdAAAA\n",
       "HQAAABYAAAA4AAAAJAAAABoAAAAbAAAARQAAACMAAAAWAAAAFAAAADEAAABHAAAAHAAAABAAAAAZ\n",
       "AAAAcQAAACkAAAAbAAAAEgAAAC4AAAA7AAAAEgAAABcAAAAPAAAASAAAABwAAAAQAAAADwAAAFYA\n",
       "AAAUAAAAEAAAAA8AAAA+AAAAEwAAABAAAAAQAAAAMgAAAE0AAAAfAAAAEAAAAA8AAABJAAAAHQAA\n",
       "AA8AAAAPAAAAWAAAABQAAAAXAAAAGQAAABcAAAARAAAADwAAAA8AAAA/AAAAEwAAAA8AAAASAAAA\n",
       "RgAAABkAAAAUAAAAEQAAACwAAAAUAAAADwAAAA8AAABkAAAAIwAAABAAAAATAAAAMAAAABEAAAAP\n",
       "AAAADwAAACYAAAARAAAADwAAAA8AAAA2AAAAEgAAABEAAAAPAAAAJAAAABEAAAAPAAAADwAAABgA\n",
       "AAARAAAADwAAAA8AAAAXAAAADwAAABRzdGNvAAAAAAAAAAEAAAAsAAAAYnVkdGEAAABabWV0YQAA\n",
       "AAAAAAAhaGRscgAAAAAAAAAAbWRpcmFwcGwAAAAAAAAAAAAAAAAtaWxzdAAAACWpdG9vAAAAHWRh\n",
       "dGEAAAABAAAAAExhdmY1Ny41Ni4xMDE=\n",
       "\">\n",
       "  Your browser does not support the video tag.\n",
       "</video>"
      ],
      "text/plain": [
       "<IPython.core.display.HTML object>"
      ]
     },
     "execution_count": 28,
     "metadata": {},
     "output_type": "execute_result"
    }
   ],
   "source": [
    "HTML(anim.to_html5_video())"
   ]
  },
  {
   "cell_type": "markdown",
   "metadata": {},
   "source": [
    "# Logistic regression\n",
    "Your assignment is to implement the logistic regression\n",
    "\n",
    "Plan:\n",
    "* Use a shared variable for weights\n",
    "* Use a matrix placeholder for `X`\n",
    " \n",
    "We shall train on a two-class MNIST dataset\n",
    "* please note that target `y` are `{0,1}` and not `{-1,1}` as in some formulae"
   ]
  },
  {
   "cell_type": "code",
   "execution_count": 29,
   "metadata": {},
   "outputs": [
    {
     "name": "stdout",
     "output_type": "stream",
     "text": [
      "y [shape - (360,)]: [0 1 0 1 0 1 0 0 1 1]\n",
      "X [shape - (360, 64)]:\n"
     ]
    }
   ],
   "source": [
    "from sklearn.datasets import load_digits\n",
    "mnist = load_digits(2)\n",
    "\n",
    "X, y = mnist.data, mnist.target\n",
    "\n",
    "print(\"y [shape - %s]:\" % (str(y.shape)), y[:10])\n",
    "print(\"X [shape - %s]:\" % (str(X.shape)))"
   ]
  },
  {
   "cell_type": "code",
   "execution_count": 30,
   "metadata": {},
   "outputs": [
    {
     "name": "stdout",
     "output_type": "stream",
     "text": [
      "X:\n",
      " [[  0.   0.   5.  13.   9.   1.   0.   0.   0.   0.]\n",
      " [  0.   0.   0.  12.  13.   5.   0.   0.   0.   0.]\n",
      " [  0.   0.   1.   9.  15.  11.   0.   0.   0.   0.]]\n",
      "y:\n",
      " [0 1 0 1 0 1 0 0 1 1]\n"
     ]
    },
    {
     "data": {
      "image/png": "[encoded data removed]",
      "text/plain": [
       "<matplotlib.figure.Figure at 0x7f305107ba20>"
      ]
     },
     "metadata": {},
     "output_type": "display_data"
    }
   ],
   "source": [
    "print('X:\\n',X[:3,:10])\n",
    "print('y:\\n',y[:10])\n",
    "plt.imshow(X[0].reshape([8,8]));"
   ]
  },
  {
   "cell_type": "markdown",
   "metadata": {},
   "source": [
    "It's your turn now!\n",
    "Just a small reminder of the relevant math:\n",
    "\n",
    "$$\n",
    "P(y=1|X) = \\sigma(X \\cdot W + b)\n",
    "$$\n",
    "$$\n",
    "\\text{loss} = -\\log\\left(P\\left(y_\\text{predicted} = 1\\right)\\right)\\cdot y_\\text{true} - \\log\\left(1 - P\\left(y_\\text{predicted} = 1\\right)\\right)\\cdot\\left(1 - y_\\text{true}\\right)\n",
    "$$\n",
    "\n",
    "$\\sigma(x)$ is available via `tf.nn.sigmoid` and matrix multiplication via `tf.matmul`"
   ]
  },
  {
   "cell_type": "code",
   "execution_count": 31,
   "metadata": {
    "collapsed": true
   },
   "outputs": [],
   "source": [
    "from sklearn.model_selection import train_test_split\n",
    "X_train, X_test, y_train, y_test = train_test_split(\n",
    "    X, y, random_state=42)"
   ]
  },
  {
   "cell_type": "markdown",
   "metadata": {},
   "source": [
    "__Your code goes here.__ For the training and testing scaffolding to work, please stick to the names in comments."
   ]
  },
  {
   "cell_type": "code",
   "execution_count": 2,
   "metadata": {
    "collapsed": true
   },
   "outputs": [],
   "source": [
    "# Model parameters - weights and bias\n",
    "# weights = tf.Variable(...) shape should be (X.shape[1], 1)\n",
    "# b = tf.Variable(...)"
   ]
  },
  {
   "cell_type": "code",
   "execution_count": 3,
   "metadata": {
    "collapsed": true
   },
   "outputs": [],
   "source": [
    "# Placeholders for the input data\n",
    "# input_X = tf.placeholder(...)\n",
    "# input_y = tf.placeholder(...)"
   ]
  },
  {
   "cell_type": "code",
   "execution_count": 2,
   "metadata": {
    "collapsed": true
   },
   "outputs": [],
   "source": [
    "# The model code\n",
    "\n",
    "# Compute a vector of predictions, resulting shape should be [input_X.shape[0],]\n",
    "# This is 1D, if you have extra dimensions, you can  get rid of them with tf.squeeze .\n",
    "# Don't forget the sigmoid.\n",
    "# predicted_y = <predicted probabilities for input_X>\n",
    "\n",
    "# Loss. Should be a scalar number - average loss over all the objects\n",
    "# tf.reduce_mean is your friend here\n",
    "# loss = <logistic loss (scalar, mean over sample)>\n",
    "\n",
    "# See above for an example. tf.train.*Optimizer\n",
    "# optimizer = <optimizer that minimizes loss>"
   ]
  },
  {
   "cell_type": "markdown",
   "metadata": {},
   "source": [
    "A test to help with the debugging"
   ]
  },
  {
   "cell_type": "code",
   "execution_count": null,
   "metadata": {
    "collapsed": true
   },
   "outputs": [],
   "source": [
    "validation_weights = 1e-3 * np.fromiter(map(lambda x:\n",
    "        s.run(weird_psychotic_function, {my_scalar:x, my_vector:[1, 0.1, 2]}),\n",
    "                                   0.15 * np.arange(1, X.shape[1] + 1)),\n",
    "                                   count=X.shape[1], dtype=np.float32)[:, np.newaxis]\n",
    "# Compute predictions for given weights and bias\n",
    "prediction_validation = s.run(\n",
    "    predicted_y, {\n",
    "    input_X: X,\n",
    "    weights: validation_weights,\n",
    "    b: 1e-1})\n",
    "\n",
    "# Load the reference values for the predictions\n",
    "validation_true_values = np.loadtxt(\"validation_predictons.txt\")\n",
    "\n",
    "assert prediction_validation.shape == (X.shape[0],),\\\n",
    "       \"Predictions must be a 1D array with length equal to the number \" \\\n",
    "       \"of examples in input_X\"\n",
    "assert np.allclose(validation_true_values, prediction_validation)\n",
    "loss_validation = s.run(\n",
    "        loss, {\n",
    "            input_X: X[:100],\n",
    "            input_y: y[-100:],\n",
    "            weights: validation_weights+1.21e-3,\n",
    "            b: -1e-1})\n",
    "assert np.allclose(loss_validation, 0.728689)"
   ]
  },
  {
   "cell_type": "code",
   "execution_count": 35,
   "metadata": {},
   "outputs": [
    {
     "name": "stdout",
     "output_type": "stream",
     "text": [
      "loss at iter 0:0.1250\n",
      "train auc: 0.999945103206\n",
      "test auc: 1.0\n",
      "loss at iter 1:0.0913\n",
      "train auc: 1.0\n",
      "test auc: 1.0\n",
      "loss at iter 2:0.0732\n",
      "train auc: 1.0\n",
      "test auc: 1.0\n",
      "loss at iter 3:0.0609\n",
      "train auc: 1.0\n",
      "test auc: 1.0\n",
      "loss at iter 4:0.0527\n",
      "train auc: 1.0\n",
      "test auc: 1.0\n"
     ]
    }
   ],
   "source": [
    "from sklearn.metrics import roc_auc_score\n",
    "s.run(tf.global_variables_initializer())\n",
    "for i in range(5):\n",
    "    s.run(optimizer, {input_X: X_train, input_y: y_train})\n",
    "    loss_i = s.run(loss, {input_X: X_train, input_y: y_train})\n",
    "    print(\"loss at iter %i:%.4f\" % (i, loss_i))\n",
    "    print(\"train auc:\", roc_auc_score(y_train, s.run(predicted_y, {input_X:X_train})))\n",
    "    print(\"test auc:\", roc_auc_score(y_test, s.run(predicted_y, {input_X:X_test})))"
   ]
  },
  {
   "cell_type": "markdown",
   "metadata": {},
   "source": [
    "### Coursera submission"
   ]
  },
  {
   "cell_type": "code",
   "execution_count": 37,
   "metadata": {
    "collapsed": true
   },
   "outputs": [],
   "source": [
    "grade_submitter = grading.Grader(\"BJCiiY8sEeeCnhKCj4fcOA\")"
   ]
  },
  {
   "cell_type": "code",
   "execution_count": 38,
   "metadata": {
    "collapsed": true
   },
   "outputs": [],
   "source": [
    "test_weights = 1e-3 * np.fromiter(map(lambda x:\n",
    "    s.run(weird_psychotic_function, {my_scalar:x, my_vector:[1, 2, 3]}),\n",
    "                               0.1 * np.arange(1, X.shape[1] + 1)),\n",
    "                               count=X.shape[1], dtype=np.float32)[:, np.newaxis]"
   ]
  },
  {
   "cell_type": "markdown",
   "metadata": {},
   "source": [
    "First, test prediction and loss computation. This part doesn't require a fitted model."
   ]
  },
  {
   "cell_type": "code",
   "execution_count": 39,
   "metadata": {
    "collapsed": true
   },
   "outputs": [],
   "source": [
    "prediction_test = s.run(\n",
    "    predicted_y, {\n",
    "    input_X: X,\n",
    "    weights: test_weights,\n",
    "    b: 1e-1})"
   ]
  },
  {
   "cell_type": "code",
   "execution_count": 40,
   "metadata": {
    "collapsed": true
   },
   "outputs": [],
   "source": [
    "assert prediction_test.shape == (X.shape[0],),\\\n",
    "       \"Predictions must be a 1D array with length equal to the number \" \\\n",
    "       \"of examples in X_test\""
   ]
  },
  {
   "cell_type": "code",
   "execution_count": 41,
   "metadata": {
    "collapsed": true
   },
   "outputs": [],
   "source": [
    "grade_submitter.set_answer(\"0ENlN\", prediction_test)"
   ]
  },
  {
   "cell_type": "code",
   "execution_count": 42,
   "metadata": {
    "collapsed": true
   },
   "outputs": [],
   "source": [
    "loss_test = s.run(\n",
    "    loss, {\n",
    "        input_X: X[:100],\n",
    "        input_y: y[-100:],\n",
    "        weights: test_weights+1.21e-3,\n",
    "        b: -1e-1})\n",
    "# Yes, the X/y indices mistmach is intentional"
   ]
  },
  {
   "cell_type": "code",
   "execution_count": 43,
   "metadata": {
    "collapsed": true
   },
   "outputs": [],
   "source": [
    "grade_submitter.set_answer(\"mMVpM\", loss_test)"
   ]
  },
  {
   "cell_type": "code",
   "execution_count": 44,
   "metadata": {
    "collapsed": true
   },
   "outputs": [],
   "source": [
    "grade_submitter.set_answer(\"D16Rc\", roc_auc_score(y_test, s.run(predicted_y, {input_X:X_test})))"
   ]
  },
  {
   "cell_type": "markdown",
   "metadata": {},
   "source": [
    "Please use the credentials obtained from the Coursera assignment page."
   ]
  },
  {
   "cell_type": "code",
   "execution_count": 45,
   "metadata": {},
   "outputs": [
    {
     "name": "stdout",
     "output_type": "stream",
     "text": [
      "Submitted to Coursera platform. See results on assignment page!\n"
     ]
    }
   ],
   "source": [
    "grade_submitter.submit(<email>, <token>)"
   ]
  }
 ],
 "metadata": {
  "kernelspec": {
   "display_name": "Python 3",
   "language": "python",
   "name": "python3"
  },
  "language_info": {
   "codemirror_mode": {
    "name": "ipython",
    "version": 3
   },
   "file_extension": ".py",
   "mimetype": "text/x-python",
   "name": "python",
   "nbconvert_exporter": "python",
   "pygments_lexer": "ipython3",
   "version": "3.6.1"
  }
 },
 "nbformat": 4,
 "nbformat_minor": 1
}
